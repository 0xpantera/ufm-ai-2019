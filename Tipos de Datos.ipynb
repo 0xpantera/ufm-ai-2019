{
 "cells": [
  {
   "cell_type": "markdown",
   "metadata": {},
   "source": [
    "# Tipos de Datos"
   ]
  },
  {
   "cell_type": "markdown",
   "metadata": {},
   "source": [
    "### Rangos de Datos"
   ]
  },
  {
   "cell_type": "markdown",
   "metadata": {},
   "source": [
    "- float32\n",
    "        - 1.175494351e^-38 ---- 3.402823466 e^38\n",
    "- float64\n",
    "        - 2.2250738585072014 e^ -308 ---- 1.7976931348623158 e^ 308\n",
    "- float16\n",
    "        -  32768 ---- 65536\n",
    "- int8\n",
    "        - -128 ---- 127\n",
    "- unit8\n",
    "        - 0 ---- 255\n",
    "- int16\n",
    "        - -35768 ---- 32767\n",
    "- int32\n",
    "        - -2147483648 ---- 2147483647\n",
    "- int64\n",
    "        - -9223372036854775808 ---- 9223372036854775807 "
   ]
  },
  {
   "cell_type": "markdown",
   "metadata": {},
   "source": [
    "### Diferencia entre int y uint"
   ]
  },
  {
   "cell_type": "markdown",
   "metadata": {},
   "source": [
    "uint es una version desasignada del tipo de dato. Lo que lo caracteriza es que no recibe valores negativos"
   ]
  },
  {
   "cell_type": "markdown",
   "metadata": {},
   "source": [
    "### Cual es el tipo default que utiliza base Python? NumPy? PyTorch?"
   ]
  },
  {
   "cell_type": "markdown",
   "metadata": {},
   "source": [
    "- Python: int32/int64\n",
    "- NumPy: int64\n",
    "- PyTorch: int64"
   ]
  },
  {
   "cell_type": "code",
   "execution_count": null,
   "metadata": {},
   "outputs": [],
   "source": []
  }
 ],
 "metadata": {
  "kernelspec": {
   "display_name": "Python 3",
   "language": "python",
   "name": "python3"
  },
  "language_info": {
   "codemirror_mode": {
    "name": "ipython",
    "version": 3
   },
   "file_extension": ".py",
   "mimetype": "text/x-python",
   "name": "python",
   "nbconvert_exporter": "python",
   "pygments_lexer": "ipython3",
   "version": "3.6.7"
  }
 },
 "nbformat": 4,
 "nbformat_minor": 2
}
