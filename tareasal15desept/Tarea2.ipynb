{
 "cells": [
  {
   "cell_type": "code",
   "execution_count": 1,
   "metadata": {},
   "outputs": [],
   "source": [
    "import torch "
   ]
  },
  {
   "cell_type": "code",
   "execution_count": 2,
   "metadata": {},
   "outputs": [],
   "source": [
    "# Para la realizacion de esta tarea se uso el ejemplo usado en clase. Este ejemplo puede ser encontrado aca: \n",
    "# https://github.com/Francososa/ufm-ai-2019/blob/master/tarea_2/tensor-fundamentals.ipynb"
   ]
  },
  {
   "cell_type": "code",
   "execution_count": 7,
   "metadata": {},
   "outputs": [
    {
     "name": "stdout",
     "output_type": "stream",
     "text": [
      "Stride: (1,)\n",
      "Offset: 0\n",
      "Size: torch.Size([9])\n"
     ]
    }
   ],
   "source": [
    "# 1. Crear un tensor de list(range(9)) e indicar cual es el size, offset, y stride\n",
    "one= torch.Tensor(list(range(9)))\n",
    "print(\"Stride:\", one.stride())\n",
    "print(\"Offset:\",one.storage_offset())\n",
    "print(\"Size:\",one.size())\n"
   ]
  },
  {
   "cell_type": "code",
   "execution_count": 8,
   "metadata": {},
   "outputs": [
    {
     "name": "stdout",
     "output_type": "stream",
     "text": [
      "El valor es:  tensor(4.)\n"
     ]
    }
   ],
   "source": [
    "#1.2 Crear un tensor b = a.view(3, 3). Cual es el valor de b[1, 1]\n",
    "b = one.view(3,3)\n",
    "print(\"El valor es: \",  b[1, 1])"
   ]
  },
  {
   "cell_type": "code",
   "execution_count": 10,
   "metadata": {},
   "outputs": [
    {
     "name": "stdout",
     "output_type": "stream",
     "text": [
      "Stride: (3, 1)\n",
      "Offset: 4\n",
      "Size: torch.Size([2, 2])\n"
     ]
    }
   ],
   "source": [
    "#1.3 Crear un tensor b = a.view(3, 3). Cual es el valor de b[1, 1]\n",
    "c = b[1:, 1:]\n",
    "print(\"Stride:\", c.stride())\n",
    "print(\"Offset:\",c.storage_offset())\n",
    "print(\"Size:\",c.size())\n"
   ]
  },
  {
   "cell_type": "code",
   "execution_count": 16,
   "metadata": {},
   "outputs": [
    {
     "name": "stdout",
     "output_type": "stream",
     "text": [
      "Si hay, la sintaxis es torch.sqrt(tensor)\n"
     ]
    },
    {
     "data": {
      "text/plain": [
       "tensor([0.0000, 1.0000, 1.1892, 1.3161, 1.4142, 1.4953, 1.5651, 1.6266, 1.6818])"
      ]
     },
     "execution_count": 16,
     "metadata": {},
     "output_type": "execute_result"
    }
   ],
   "source": [
    "#2.1 Escogan una operacion matematica como cosine o sqrt. Hay una funcion correspondiente en PyTorch?\n",
    "two = torch.Tensor(list(range(9)))\n",
    "two = torch.sqrt(two)\n",
    "print(\"Si hay, la sintaxis es torch.sqrt(tensor)\")\n",
    "#Existe una version de esa operacion que opera in-place?\n",
    "torch.sqrt(two)"
   ]
  },
  {
   "cell_type": "code",
   "execution_count": 119,
   "metadata": {},
   "outputs": [
    {
     "name": "stdout",
     "output_type": "stream",
     "text": [
      "Antes: torch.Size([2, 1, 9])\n",
      "Despues: torch.Size([1, 2, 1, 9])\n"
     ]
    }
   ],
   "source": [
    "#3.1 Crear un tensor 2D y luego agregar una dimension de tamanio 1 insertada en la dimension 0.\n",
    "three = torch.Tensor([[list(range(9))],[list(range(9))]])\n",
    "print(\"Antes:\" ,three.shape)\n",
    "three1 = three.unsqueeze_(0)\n",
    "print(\"Despues:\" ,three1.shape)\n"
   ]
  },
  {
   "cell_type": "code",
   "execution_count": 120,
   "metadata": {},
   "outputs": [
    {
     "name": "stdout",
     "output_type": "stream",
     "text": [
      "Despues: torch.Size([2, 1, 9])\n"
     ]
    }
   ],
   "source": [
    "#3.2 Eliminar la dimension extra que agrego en el tensor previo.\n",
    "three1 =  three1.squeeze_(0)\n",
    "print(\"Despues:\" ,three1.shape)\n"
   ]
  },
  {
   "cell_type": "code",
   "execution_count": 129,
   "metadata": {},
   "outputs": [
    {
     "name": "stdout",
     "output_type": "stream",
     "text": [
      "tensor([[6, 5, 5],\n",
      "        [3, 6, 5],\n",
      "        [6, 4, 5],\n",
      "        [4, 6, 4],\n",
      "        [5, 4, 3]])\n"
     ]
    }
   ],
   "source": [
    "#3.3 Crear un tensor aleatorio de forma $5x3$ en el intervalo $[3,7)$\n",
    "four = torch.randint(size = [5, 3], low = 3, high = 7)\n",
    "print(four)"
   ]
  },
  {
   "cell_type": "code",
   "execution_count": 188,
   "metadata": {},
   "outputs": [
    {
     "data": {
      "text/plain": [
       "tensor([0.9516])"
      ]
     },
     "execution_count": 188,
     "metadata": {},
     "output_type": "execute_result"
    }
   ],
   "source": [
    "#3.4 Crear un tensor con valores de una distribucion normal (mu=0, \\sigma=1)\n",
    "four = torch.distributions.normal.Normal(torch.tensor([0.0]), torch.tensor([1.0]))\n",
    "four.sample()"
   ]
  },
  {
   "cell_type": "code",
   "execution_count": 131,
   "metadata": {},
   "outputs": [
    {
     "name": "stdout",
     "output_type": "stream",
     "text": [
      "tensor([[0],\n",
      "        [1],\n",
      "        [2],\n",
      "        [4]])\n"
     ]
    }
   ],
   "source": [
    "#3.5 Recuperar los indices de todos los elementos no cero en el tensor torch.Tensor([1,1,1,0,1]).\n",
    "five = torch.Tensor([1,1,1,0,1])\n",
    "print(torch.nonzero(five))\n"
   ]
  },
  {
   "cell_type": "code",
   "execution_count": 135,
   "metadata": {},
   "outputs": [
    {
     "name": "stdout",
     "output_type": "stream",
     "text": [
      "tensor([[[0.7847],\n",
      "         [0.0188],\n",
      "         [0.1415]],\n",
      "\n",
      "        [[0.7847],\n",
      "         [0.0188],\n",
      "         [0.1415]],\n",
      "\n",
      "        [[0.7847],\n",
      "         [0.0188],\n",
      "         [0.1415]],\n",
      "\n",
      "        [[0.7847],\n",
      "         [0.0188],\n",
      "         [0.1415]]])\n"
     ]
    }
   ],
   "source": [
    "#3.6 Crear un tensor aleatorio de forma (3,1) y luego apilar cuatro copias horizontalmente.\n",
    "six  = torch.rand(3, 1)\n",
    "print(torch.stack([six,six,six,six]))"
   ]
  },
  {
   "cell_type": "code",
   "execution_count": 139,
   "metadata": {},
   "outputs": [
    {
     "name": "stdout",
     "output_type": "stream",
     "text": [
      "tensor([[[-0.8102, -0.6124, -0.2646, -0.3386],\n",
      "         [-0.9136, -0.3051, -0.6601, -0.3010],\n",
      "         [-2.4041, -1.0384, -0.1704, -1.1726],\n",
      "         [-0.4967, -0.0741,  0.2470, -0.1503]],\n",
      "\n",
      "        [[ 2.5766,  2.2033,  1.9809,  3.3701],\n",
      "         [-1.5125, -0.5243, -1.2782, -1.2661],\n",
      "         [ 0.9040, -0.8606,  0.5556, -0.3582],\n",
      "         [-0.7694, -1.0642, -0.6763, -1.3700]],\n",
      "\n",
      "        [[-2.1030, -0.6410,  0.0073, -0.4085],\n",
      "         [ 1.3462, -0.6585, -0.2498,  1.3373],\n",
      "         [ 1.2266,  0.5143, -1.2661, -0.1132],\n",
      "         [-3.5545, -3.0726, -0.8090, -1.1266]]])\n"
     ]
    }
   ],
   "source": [
    "#3.7 Retornar el producto batch matrix-matrix de dos matrices 3D: (a=torch.randn(3,4,5), b=torch.rand(3,5,4))\n",
    "a=torch.randn(3,4,5)\n",
    "b=torch.rand(3,5,4)\n",
    "print(torch.matmul(a, b, out=None)) "
   ]
  },
  {
   "cell_type": "code",
   "execution_count": 144,
   "metadata": {},
   "outputs": [
    {
     "name": "stdout",
     "output_type": "stream",
     "text": [
      "tensor([[[0.6098, 0.6828, 0.8549, 0.4121],\n",
      "         [0.5775, 0.7056, 0.7527, 0.3795],\n",
      "         [1.0705, 1.3503, 1.2397, 0.7532],\n",
      "         [0.8519, 0.7730, 0.9182, 0.5451]],\n",
      "\n",
      "        [[0.7817, 0.6745, 1.2381, 0.5016],\n",
      "         [1.8417, 2.1667, 1.8503, 1.2795],\n",
      "         [1.2599, 1.1178, 1.3542, 0.8198],\n",
      "         [0.7794, 0.7118, 0.4394, 0.5315]],\n",
      "\n",
      "        [[0.5855, 0.6706, 1.0214, 0.3986],\n",
      "         [1.5632, 1.2416, 1.5335, 1.0446],\n",
      "         [1.7563, 1.5705, 1.7189, 1.1819],\n",
      "         [1.1096, 0.7920, 1.1082, 0.7354]]])\n"
     ]
    }
   ],
   "source": [
    "#3.8 Retornar el producto batch matrix-matrix de una matriz 3D y una matriz 2D: (a=torch.rand(3,4,5), b=torch.rand(5,4)).\n",
    "a=torch.rand(3,4,5)\n",
    "b=torch.rand(5,4)\n",
    "print(torch.matmul(a, b, out=None)) "
   ]
  }
 ],
 "metadata": {
  "kernelspec": {
   "display_name": "Python 3.6 (tensorflow)",
   "language": "python",
   "name": "tensorflow"
  },
  "language_info": {
   "codemirror_mode": {
    "name": "ipython",
    "version": 3
   },
   "file_extension": ".py",
   "mimetype": "text/x-python",
   "name": "python",
   "nbconvert_exporter": "python",
   "pygments_lexer": "ipython3",
   "version": "3.6.8"
  }
 },
 "nbformat": 4,
 "nbformat_minor": 2
}
