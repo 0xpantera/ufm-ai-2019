{
 "cells": [
  {
   "cell_type": "markdown",
   "metadata": {},
   "source": [
    "# Tarea Tipos de Datos\n"
   ]
  },
  {
   "cell_type": "markdown",
   "metadata": {},
   "source": [
    "**1. ¿Cual es el rango de valores que cada uno de estos tipos puede representar?**"
   ]
  },
  {
   "cell_type": "code",
   "execution_count": 1,
   "metadata": {},
   "outputs": [],
   "source": [
    "import torch"
   ]
  },
  {
   "cell_type": "markdown",
   "metadata": {},
   "source": [
    "### Float"
   ]
  },
  {
   "cell_type": "code",
   "execution_count": 2,
   "metadata": {},
   "outputs": [
    {
     "name": "stdout",
     "output_type": "stream",
     "text": [
      "Min y Max para float 32\n",
      "\n",
      "-3.4028234663852886e+38\n",
      "3.4028234663852886e+38\n",
      "\n",
      "Min y Max para float 64\n",
      "\n",
      "-1.7976931348623157e+308\n",
      "1.7976931348623157e+308\n",
      "\n",
      "Min y Max para float 16\n",
      "\n",
      "-65504.0\n",
      "65504.0\n"
     ]
    }
   ],
   "source": [
    "print(\"Min y Max para float 32\")\n",
    "print()\n",
    "\n",
    "print(torch.finfo(torch.float32).min)\n",
    "print(torch.finfo(torch.float32).max)\n",
    "print()\n",
    "\n",
    "print(\"Min y Max para float 64\")\n",
    "print()\n",
    "print(torch.finfo(torch.float64).min)\n",
    "print(torch.finfo(torch.float64).max)\n",
    "print()\n",
    "\n",
    "print(\"Min y Max para float 16\")\n",
    "print()\n",
    "print(torch.finfo(torch.float16).min)\n",
    "print(torch.finfo(torch.float16).max)"
   ]
  },
  {
   "cell_type": "markdown",
   "metadata": {},
   "source": [
    "### Int"
   ]
  },
  {
   "cell_type": "code",
   "execution_count": 3,
   "metadata": {
    "scrolled": true
   },
   "outputs": [
    {
     "name": "stdout",
     "output_type": "stream",
     "text": [
      "Min y Max para int 32\n",
      "\n",
      "-2147483648\n",
      "2147483647\n",
      "\n",
      "Min y Max para int 64\n",
      "\n",
      "-9223372036854775808\n",
      "9223372036854775807\n",
      "\n",
      "Min y Max para int 16\n",
      "-32768\n",
      "32767\n",
      "\n",
      "Min y Max para int 8\n",
      "\n",
      "-128\n",
      "127\n",
      "\n"
     ]
    }
   ],
   "source": [
    "\n",
    "print(\"Min y Max para int 32\")\n",
    "print()\n",
    "\n",
    "print(torch.iinfo(torch.int32).min)\n",
    "print(torch.iinfo(torch.int32).max)\n",
    "print()\n",
    "print(\"Min y Max para int 64\")\n",
    "print()\n",
    "print(torch.iinfo(torch.int64).min)\n",
    "print(torch.iinfo(torch.int64).max)\n",
    "print()\n",
    "\n",
    "print(\"Min y Max para int 16\")\n",
    "print(torch.iinfo(torch.int16).min)\n",
    "print(torch.iinfo(torch.int16).max)\n",
    "print()\n",
    "print(\"Min y Max para int 8\")\n",
    "print()\n",
    "\n",
    "print(torch.iinfo(torch.int8).min)\n",
    "print(torch.iinfo(torch.int8).max)\n",
    "print()"
   ]
  },
  {
   "cell_type": "markdown",
   "metadata": {},
   "source": [
    "### Uint"
   ]
  },
  {
   "cell_type": "code",
   "execution_count": 4,
   "metadata": {},
   "outputs": [
    {
     "name": "stdout",
     "output_type": "stream",
     "text": [
      "Min y Max para uint 8\n",
      "0\n",
      "255\n"
     ]
    }
   ],
   "source": [
    "print(\"Min y Max para uint 8\")\n",
    "\n",
    "print(torch.iinfo(torch.uint8).min)\n",
    "print(torch.iinfo(torch.uint8).max)"
   ]
  },
  {
   "cell_type": "markdown",
   "metadata": {},
   "source": [
    "**2. ¿Cuál es la diferencia entre un \"int\" y un \"uint\"?**"
   ]
  },
  {
   "cell_type": "markdown",
   "metadata": {},
   "source": [
    "Int puede tomar valores negativos, mientras que uint solo toma valores positivos (unsigned, sin signo)"
   ]
  },
  {
   "cell_type": "markdown",
   "metadata": {},
   "source": [
    "**3. ¿Cuál es el tipo default que utiliza base python? ¿Numpy? ¿Pytorch?**"
   ]
  },
  {
   "cell_type": "code",
   "execution_count": 5,
   "metadata": {},
   "outputs": [
    {
     "name": "stdout",
     "output_type": "stream",
     "text": [
      "8\n",
      "<class 'int'>\n",
      "9.5\n",
      "<class 'float'>\n"
     ]
    }
   ],
   "source": [
    "c = 8\n",
    "print(c)\n",
    "\n",
    "print(type(c))\n",
    "\n",
    "\n",
    "d = 9.5\n",
    "print(d)\n",
    "print(type(d))"
   ]
  }
 ],
 "metadata": {
  "kernelspec": {
   "display_name": "Python 3",
   "language": "python",
   "name": "python3"
  },
  "language_info": {
   "codemirror_mode": {
    "name": "ipython",
    "version": 3
   },
   "file_extension": ".py",
   "mimetype": "text/x-python",
   "name": "python",
   "nbconvert_exporter": "python",
   "pygments_lexer": "ipython3",
   "version": "3.7.3"
  }
 },
 "nbformat": 4,
 "nbformat_minor": 2
}
