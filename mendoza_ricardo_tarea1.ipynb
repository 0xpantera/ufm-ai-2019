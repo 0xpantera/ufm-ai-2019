{
 "cells": [
  {
   "cell_type": "code",
   "execution_count": 2,
   "metadata": {},
   "outputs": [],
   "source": [
    "import torch"
   ]
  },
  {
   "cell_type": "code",
   "execution_count": 4,
   "metadata": {},
   "outputs": [],
   "source": [
    "zero_d=torch.tensor(1)\n",
    "one_d=torch.tensor([1,2,3,4,5])\n",
    "two_d=torch.tensor([[1,2,3],[4,5,6]])\n",
    "three_d=torch.ones((28,28,3))"
   ]
  },
  {
   "cell_type": "code",
   "execution_count": 11,
   "metadata": {},
   "outputs": [
    {
     "data": {
      "text/plain": [
       " 4.0\n",
       " 1.0\n",
       " 5.0\n",
       " 3.0\n",
       " 2.0\n",
       " 1.0\n",
       "[torch.FloatStorage of size 6]"
      ]
     },
     "execution_count": 11,
     "metadata": {},
     "output_type": "execute_result"
    }
   ],
   "source": [
    "points=torch.FloatTensor([[4.0,1.0],[5.0,3.0],[2.0,1.0]])\n",
    "points.storage()"
   ]
  },
  {
   "cell_type": "code",
   "execution_count": 13,
   "metadata": {},
   "outputs": [
    {
     "data": {
      "text/plain": [
       "4.0"
      ]
     },
     "execution_count": 13,
     "metadata": {},
     "output_type": "execute_result"
    }
   ],
   "source": [
    "points.storage()[0]"
   ]
  },
  {
   "cell_type": "markdown",
   "metadata": {},
   "source": [
    "# 1 Numbers Range by data type\n",
    "\n",
    "float32 -3.4E+38 to +3.4E+38\n",
    "\n",
    "float64 -1.7E+308 to +1.7E+308\n",
    "\n",
    "float16 -32,768 to 65,536 \n",
    "\n",
    "int8 -128 to 127\n",
    "\n",
    "uint8 0 to 255\n",
    "\n",
    "int16 -32,768 to 32,767\n",
    "\n",
    "int32 -2,147,483,648 to 2,147,483,647\n",
    "\n",
    "int64 -9,223,372,036,854,775,808 to 9,223,372,036,854,775,807\n",
    "\n",
    "# 2 Diferencia entre INT y UINT\n",
    "\n",
    "Los tipos de datos almacenan un rango de numeros que abaraca la mitad de este rango negativo y la otra mitad del rango es positivo, cuando los datos son unsigned int o uint entonces solo pueden almacenar un rango de numeros positivos, por lo que su rango en el lado positivo es el doble que en el de los int normales.\n",
    "\n",
    "\n",
    "# # Cual es el tipo default que utiliza la base de python, numpy y pytorch.\n",
    "\n",
    "python int32\n",
    "\n",
    "numpy int32 o 64\n",
    "\n",
    "pytorch int64\n"
   ]
  }
 ],
 "metadata": {
  "kernelspec": {
   "display_name": "Python 3",
   "language": "python",
   "name": "python3"
  },
  "language_info": {
   "codemirror_mode": {
    "name": "ipython",
    "version": 3
   },
   "file_extension": ".py",
   "mimetype": "text/x-python",
   "name": "python",
   "nbconvert_exporter": "python",
   "pygments_lexer": "ipython3",
   "version": "3.7.3"
  }
 },
 "nbformat": 4,
 "nbformat_minor": 2
}
