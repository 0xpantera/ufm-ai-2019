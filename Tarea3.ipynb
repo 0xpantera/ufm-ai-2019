{
 "cells": [
  {
   "cell_type": "code",
   "execution_count": 5,
   "metadata": {},
   "outputs": [],
   "source": [
    "import numpy as np\n",
    "import torch\n",
    "import torch.optim as optim"
   ]
  },
  {
   "cell_type": "code",
   "execution_count": 2,
   "metadata": {},
   "outputs": [],
   "source": [
    "def model(t_u, w1, w2, b):\n",
    "    return w2 * t_u ** 2 + w1 * t_u + b\n",
    "\n",
    "def loss_fn(t_p, t_c):\n",
    "    squared_diffs = (t_p - t_c)**2\n",
    "    return squared_diffs.mean()"
   ]
  },
  {
   "cell_type": "code",
   "execution_count": 3,
   "metadata": {},
   "outputs": [],
   "source": [
    "def training_loop(model, n_epochs, optimizer, params, t_u, t_c):\n",
    "    for epoch in range(1, n_epochs + 1):\n",
    "        t_p = model(t_u, *params)\n",
    "        loss = loss_fn(t_p, t_c)\n",
    "        \n",
    "        optimizer.zero_grad()\n",
    "        loss.backward()\n",
    "        optimizer.step()\n",
    "        \n",
    "        if epoch % 200 == 0:\n",
    "            print(f\"Epoch {epoch}, Loss {loss}\")\n",
    "            \n",
    "    return params\n"
   ]
  },
  {
   "cell_type": "code",
   "execution_count": 13,
   "metadata": {},
   "outputs": [
    {
     "name": "stdout",
     "output_type": "stream",
     "text": [
      "Epoch 200, Loss 12.331172943115234\n",
      "Epoch 400, Loss 11.213105201721191\n",
      "Epoch 600, Loss 10.237262725830078\n",
      "Epoch 800, Loss 9.385525703430176\n",
      "Epoch 1000, Loss 8.642084121704102\n",
      "Epoch 1200, Loss 7.993136882781982\n",
      "Epoch 1400, Loss 7.426658630371094\n",
      "Epoch 1600, Loss 6.932136535644531\n",
      "Epoch 1800, Loss 6.500407695770264\n",
      "Epoch 2000, Loss 6.123476982116699\n",
      "Epoch 2200, Loss 5.794357776641846\n",
      "Epoch 2400, Loss 5.5069661140441895\n",
      "Epoch 2600, Loss 5.255983352661133\n",
      "Epoch 2800, Loss 5.036771774291992\n",
      "Epoch 3000, Loss 4.845286846160889\n",
      "Epoch 3200, Loss 4.677993297576904\n",
      "Epoch 3400, Loss 4.53181266784668\n",
      "Epoch 3600, Loss 4.404057025909424\n",
      "Epoch 3800, Loss 4.29237699508667\n",
      "Epoch 4000, Loss 4.194724082946777\n",
      "Epoch 4200, Loss 4.109314441680908\n",
      "Epoch 4400, Loss 4.03458833694458\n",
      "Epoch 4600, Loss 3.9691848754882812\n",
      "Epoch 4800, Loss 3.9119162559509277\n",
      "Epoch 5000, Loss 3.8617448806762695\n"
     ]
    },
    {
     "data": {
      "text/plain": [
       "tensor([-0.8881,  0.5570, -0.8753], requires_grad=True)"
      ]
     },
     "execution_count": 13,
     "metadata": {},
     "output_type": "execute_result"
    }
   ],
   "source": [
    "\n",
    "t_c = [0.5, 14.0, 15.0, 28.0, 11.0, 8.0, 3.0, -4.0, 6.0, 13.0, 21.0] # Temperatura en grados celsios\n",
    "t_u = [35.7, 55.9, 58.2, 81.9, 56.3, 48.9, 33.9, 21.8, 48.4, 60.4, 68.4] # Unidades desconocidas\n",
    "t_c = torch.tensor(t_c)\n",
    "t_u = torch.tensor(t_u)\n",
    "\n",
    "\n",
    "params = torch.tensor([1.0, 1.0, 0.0], requires_grad=True)\n",
    "learning_rate = 1e-4\n",
    "optimizer = optim.SGD([params], lr=learning_rate)\n",
    "\n",
    "t_un = 0.1 * t_u\n",
    "\n",
    "training_loop(model,\n",
    "              n_epochs=5000,\n",
    "              optimizer=optimizer,\n",
    "             params = params, # Es importante que ambos `params` sean el mismo objeto\n",
    "             t_u = t_un,\n",
    "             t_c = t_c)"
   ]
  },
  {
   "cell_type": "markdown",
   "metadata": {},
   "source": [
    "**Que partes del training loop necesitaron cambiar para acomodar el nuevo modelo?**"
   ]
  },
  {
   "cell_type": "markdown",
   "metadata": {},
   "source": [
    "Del *Training Loop* ninguno ya que acepta el argunmento *params* como un array donde se le pueden agregar un mayor numero de tensores.   \n",
    "Se realizaron cambios en la funcion *model* para que aceptara mas parametros"
   ]
  },
  {
   "cell_type": "markdown",
   "metadata": {},
   "source": [
    "**Que partes se mantuvieron iguales?**"
   ]
  },
  {
   "cell_type": "markdown",
   "metadata": {},
   "source": [
    "El training Loop se mantuvo igual "
   ]
  },
  {
   "cell_type": "markdown",
   "metadata": {},
   "source": [
    "**El loss resultante es mas alto o bajo despues de entrenamiento?**"
   ]
  },
  {
   "cell_type": "markdown",
   "metadata": {},
   "source": [
    "El nuevo *Loss* resultante tiene valor de **3.86174**, menor al *Loss* del modelo anterior con un valor de **2.92764**"
   ]
  },
  {
   "cell_type": "markdown",
   "metadata": {},
   "source": [
    "**El resultado es mejor o peor?**"
   ]
  },
  {
   "cell_type": "markdown",
   "metadata": {},
   "source": [
    "Peor ya que se tiene un valor mayor, y el objetivo es minimizar el resultado de la funcion *Loss* para tener un mejor *accuracy* de los resultados"
   ]
  },
  {
   "cell_type": "code",
   "execution_count": null,
   "metadata": {},
   "outputs": [],
   "source": []
  }
 ],
 "metadata": {
  "kernelspec": {
   "display_name": "Python 3",
   "language": "python",
   "name": "python3"
  },
  "language_info": {
   "codemirror_mode": {
    "name": "ipython",
    "version": 3
   },
   "file_extension": ".py",
   "mimetype": "text/x-python",
   "name": "python",
   "nbconvert_exporter": "python",
   "pygments_lexer": "ipython3",
   "version": "3.7.3"
  }
 },
 "nbformat": 4,
 "nbformat_minor": 2
}
