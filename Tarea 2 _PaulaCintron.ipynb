{
 "cells": [
  {
   "cell_type": "markdown",
   "metadata": {},
   "source": [
    "# Tarea 2 \n",
    "Paula Cintron 20160090"
   ]
  },
  {
   "cell_type": "markdown",
   "metadata": {},
   "source": [
    "## Instrucciones \n",
    "\n",
    "1. Crear un tensor de list(range(9)) e indicar cual es el size, offset, y strides\n",
    "    2. Crear un tensor b = a.view(3, 3). Cual es el valor de b[1, 1]?\n",
    "    3. crear un tensor c = b[1:, 1:]. Cual es el size, offset, strides?\n",
    "4. Escogan una operacion matematica como cosine o sqrt. Hay una funcion correspondiente en PyTorch?\n",
    "5. Existe una version de esa operacion que opera in-place?\n",
    "6. Crear un tensor 2D y luego agregar una dimension de tamanio 1 insertada en la dimension 0.\n",
    "7. Eliminar la dimension extra que agrego en el tensor previo.\n",
    "8. Crear un tensor aleatorio de forma $5x3$ en el intervalo $[3,7)$\n",
    "9. Crear un tensor con valores de una distribucion normal ($\\mu=0, \\sigma=1$)\n",
    "10. Recuperar los indices de todos los elementos no cero en el tensor torch.Tensor([1,1,1,0,1]).\n",
    "11. Crear un tensor aleatorio de forma (3,1) y luego apilar cuatro copias horizontalmente.\n",
    "12. Retornar el producto batch matrix-matrix de dos matrices 3D: (a=torch.randn(3,4,5), b=torch.rand(3,5,4))\n",
    "13. Retornar el producto batch matrix-matrix de una matriz 3D y una matriz 2D: (a=torch.rand(3,4,5), b=torch.rand(5,4))."
   ]
  },
  {
   "cell_type": "code",
   "execution_count": 1,
   "metadata": {},
   "outputs": [],
   "source": [
    "import torch "
   ]
  },
  {
   "cell_type": "markdown",
   "metadata": {},
   "source": [
    "### 1) crear un tensor de list(range(9)) e indicar cual es el size, offset, y strides"
   ]
  },
  {
   "cell_type": "code",
   "execution_count": 48,
   "metadata": {},
   "outputs": [],
   "source": [
    "#Primero, cree una lista de numeros\n",
    "b_list = list(range(9))"
   ]
  },
  {
   "cell_type": "code",
   "execution_count": 55,
   "metadata": {},
   "outputs": [
    {
     "data": {
      "text/plain": [
       "tensor([0, 1, 2, 3, 4, 5, 6, 7, 8])"
      ]
     },
     "execution_count": 55,
     "metadata": {},
     "output_type": "execute_result"
    }
   ],
   "source": [
    "#convertir la lista a torch\n",
    "b_torch= torch.tensor(b_list)\n",
    "b_torch"
   ]
  },
  {
   "cell_type": "code",
   "execution_count": 56,
   "metadata": {},
   "outputs": [
    {
     "data": {
      "text/plain": [
       "torch.Size([9])"
      ]
     },
     "execution_count": 56,
     "metadata": {},
     "output_type": "execute_result"
    }
   ],
   "source": [
    "# Shape de b\n",
    "b_torch.shape"
   ]
  },
  {
   "cell_type": "code",
   "execution_count": 57,
   "metadata": {},
   "outputs": [
    {
     "data": {
      "text/plain": [
       "(1,)"
      ]
     },
     "execution_count": 57,
     "metadata": {},
     "output_type": "execute_result"
    }
   ],
   "source": [
    "# Stride de b\n",
    "b_torch.stride()"
   ]
  },
  {
   "cell_type": "code",
   "execution_count": 71,
   "metadata": {},
   "outputs": [
    {
     "data": {
      "text/plain": [
       "0"
      ]
     },
     "execution_count": 71,
     "metadata": {},
     "output_type": "execute_result"
    }
   ],
   "source": [
    "# Offset storage\n",
    "b_torch.storage_offset()"
   ]
  },
  {
   "cell_type": "markdown",
   "metadata": {},
   "source": [
    "### 1.a Crear un tensor b = a.view(3, 3). Cual es el valor de b[1, 1]?"
   ]
  },
  {
   "cell_type": "code",
   "execution_count": 61,
   "metadata": {},
   "outputs": [
    {
     "data": {
      "text/plain": [
       "tensor([[1, 2, 3],\n",
       "        [4, 5, 6],\n",
       "        [7, 8, 9]])"
      ]
     },
     "execution_count": 61,
     "metadata": {},
     "output_type": "execute_result"
    }
   ],
   "source": [
    "#Primero cree una lista y luego lo converti a torch\n",
    "b= [[1,2,3],[4,5,6],[7,8,9]]\n",
    "b = torch.tensor(b)\n",
    "b"
   ]
  },
  {
   "cell_type": "code",
   "execution_count": 64,
   "metadata": {},
   "outputs": [
    {
     "data": {
      "text/plain": [
       "(1,)"
      ]
     },
     "execution_count": 64,
     "metadata": {},
     "output_type": "execute_result"
    }
   ],
   "source": [
    "# Shape del tensor b\n",
    "b.shape"
   ]
  },
  {
   "cell_type": "code",
   "execution_count": 66,
   "metadata": {},
   "outputs": [
    {
     "data": {
      "text/plain": [
       "(3, 1)"
      ]
     },
     "execution_count": 66,
     "metadata": {},
     "output_type": "execute_result"
    }
   ],
   "source": [
    "# Stride de b\n",
    "b.stride()"
   ]
  },
  {
   "cell_type": "code",
   "execution_count": 67,
   "metadata": {},
   "outputs": [
    {
     "data": {
      "text/plain": [
       "0"
      ]
     },
     "execution_count": 67,
     "metadata": {},
     "output_type": "execute_result"
    }
   ],
   "source": [
    "# Offset storage\n",
    "b.storage_offset()"
   ]
  },
  {
   "cell_type": "markdown",
   "metadata": {},
   "source": [
    "### 1.b crear un tensor c = b[1:, 1:]. Cual es el size, offset, strides?"
   ]
  },
  {
   "cell_type": "code",
   "execution_count": 74,
   "metadata": {},
   "outputs": [
    {
     "name": "stderr",
     "output_type": "stream",
     "text": [
      "/anaconda3/lib/python3.7/site-packages/ipykernel_launcher.py:3: UserWarning: To copy construct from a tensor, it is recommended to use sourceTensor.clone().detach() or sourceTensor.clone().detach().requires_grad_(True), rather than torch.tensor(sourceTensor).\n",
      "  This is separate from the ipykernel package so we can avoid doing imports until\n"
     ]
    },
    {
     "data": {
      "text/plain": [
       "tensor([[5, 6],\n",
       "        [8, 9]])"
      ]
     },
     "execution_count": 74,
     "metadata": {},
     "output_type": "execute_result"
    }
   ],
   "source": [
    "#Cree una lista y luego convertirlo a torch\n",
    "c=b[1:,1:]\n",
    "c_torch=torch.tensor(c)\n",
    "c_torch"
   ]
  },
  {
   "cell_type": "code",
   "execution_count": 76,
   "metadata": {},
   "outputs": [
    {
     "data": {
      "text/plain": [
       "torch.Size([2, 2])"
      ]
     },
     "execution_count": 76,
     "metadata": {},
     "output_type": "execute_result"
    }
   ],
   "source": [
    "# Size\n",
    "c_torch.size()"
   ]
  },
  {
   "cell_type": "code",
   "execution_count": 77,
   "metadata": {},
   "outputs": [
    {
     "data": {
      "text/plain": [
       "torch.Size([2, 2])"
      ]
     },
     "execution_count": 77,
     "metadata": {},
     "output_type": "execute_result"
    }
   ],
   "source": [
    "# Shape\n",
    "c_torch.shape"
   ]
  },
  {
   "cell_type": "code",
   "execution_count": 78,
   "metadata": {},
   "outputs": [
    {
     "data": {
      "text/plain": [
       "0"
      ]
     },
     "execution_count": 78,
     "metadata": {},
     "output_type": "execute_result"
    }
   ],
   "source": [
    "# Offset\n",
    "c_torch.storage_offset()"
   ]
  },
  {
   "cell_type": "markdown",
   "metadata": {},
   "source": [
    "## 2) Escogan una operacion matematica como cosine o sqrt. Hay una funcion correspondiente en PyTorch?"
   ]
  },
  {
   "cell_type": "code",
   "execution_count": 78,
   "metadata": {},
   "outputs": [],
   "source": [
    "#Adding and substracting\n",
    "\n",
    "#creating 2 torhces\n",
    "#a_list= [[1,2],[3,4]]\n",
    "#a=torch.tensor(a_list)\n",
    "a=torch.Tensor(1,2)\n",
    "a1= torch.randn(4)\n",
    "\n",
    "#b_list=[[5,6],[7,8]]\n",
    "#b= torch.tensor(b_list)\n",
    "b= torch.Tensor(1,2)"
   ]
  },
  {
   "cell_type": "code",
   "execution_count": 7,
   "metadata": {},
   "outputs": [
    {
     "data": {
      "text/plain": [
       "tensor([[7.7012e+31, 6.7415e+22]])"
      ]
     },
     "execution_count": 7,
     "metadata": {},
     "output_type": "execute_result"
    }
   ],
   "source": [
    "#adding both torhces\n",
    "a + b"
   ]
  },
  {
   "cell_type": "code",
   "execution_count": 75,
   "metadata": {},
   "outputs": [
    {
     "data": {
      "text/plain": [
       "tensor([1.])"
      ]
     },
     "execution_count": 75,
     "metadata": {},
     "output_type": "execute_result"
    }
   ],
   "source": [
    "# Mean \n",
    "m = torch.mean(a,1)\n",
    "m"
   ]
  },
  {
   "cell_type": "code",
   "execution_count": 80,
   "metadata": {},
   "outputs": [
    {
     "data": {
      "text/plain": [
       "tensor([ 0.9314, -0.4485,  0.8263,  0.7684])"
      ]
     },
     "execution_count": 80,
     "metadata": {},
     "output_type": "execute_result"
    }
   ],
   "source": [
    "# Math operations: cosine \n",
    "math = torch.cos(a1)\n",
    "math"
   ]
  },
  {
   "cell_type": "markdown",
   "metadata": {},
   "source": [
    "### 3) Existe una version de esa operacion que opera in-place?"
   ]
  },
  {
   "cell_type": "code",
   "execution_count": 6,
   "metadata": {},
   "outputs": [
    {
     "data": {
      "text/plain": [
       "tensor([[7.7012e+31, 6.7415e+22]])"
      ]
     },
     "execution_count": 6,
     "metadata": {},
     "output_type": "execute_result"
    }
   ],
   "source": [
    "a.add(b)"
   ]
  },
  {
   "cell_type": "markdown",
   "metadata": {},
   "source": [
    "### 4) Crear un tensor 2D y luego agregar una dimension de tamaño 1 insertada en la dimension 0."
   ]
  },
  {
   "cell_type": "code",
   "execution_count": 24,
   "metadata": {},
   "outputs": [
    {
     "data": {
      "text/plain": [
       "torch.Size([1, 2])"
      ]
     },
     "execution_count": 24,
     "metadata": {},
     "output_type": "execute_result"
    }
   ],
   "source": [
    "#Creating a 2D tensor\n",
    "a= torch.Tensor(1,2)\n",
    "a.size()"
   ]
  },
  {
   "cell_type": "code",
   "execution_count": 27,
   "metadata": {},
   "outputs": [
    {
     "data": {
      "text/plain": [
       "torch.Size([1, 1, 2])"
      ]
     },
     "execution_count": 27,
     "metadata": {},
     "output_type": "execute_result"
    }
   ],
   "source": [
    "# Add a new dimension using NONE \n",
    "a2= a[None,:,:]\n",
    "a2.size()"
   ]
  },
  {
   "cell_type": "markdown",
   "metadata": {},
   "source": [
    "### 5) Eliminar la dimension extra que agrego en el tensor previo."
   ]
  },
  {
   "cell_type": "code",
   "execution_count": 34,
   "metadata": {},
   "outputs": [
    {
     "data": {
      "text/plain": [
       "torch.Size([1, 2])"
      ]
     },
     "execution_count": 34,
     "metadata": {},
     "output_type": "execute_result"
    }
   ],
   "source": [
    "# I am reshaping or risezing the tensor to the preivous size. \n",
    "a3= a2.resize_(1,2)\n",
    "a3.size()"
   ]
  },
  {
   "cell_type": "markdown",
   "metadata": {},
   "source": [
    "### 6) Crear un tensor aleatorio de forma  5𝑥3 en el intervalo  [3,7])"
   ]
  },
  {
   "cell_type": "code",
   "execution_count": 42,
   "metadata": {},
   "outputs": [
    {
     "data": {
      "text/plain": [
       "torch.Size([5, 3])"
      ]
     },
     "execution_count": 42,
     "metadata": {},
     "output_type": "execute_result"
    }
   ],
   "source": [
    "# La funcon randint genera una distribucion aleatoria de numeros en el tensor con rango y tamaño de tensor. \n",
    "r= torch.randint(3,7,(5,3))\n",
    "r.size()\n"
   ]
  },
  {
   "cell_type": "code",
   "execution_count": 43,
   "metadata": {},
   "outputs": [
    {
     "data": {
      "text/plain": [
       "tensor([[6, 3, 4],\n",
       "        [5, 5, 6],\n",
       "        [4, 3, 6],\n",
       "        [3, 3, 3],\n",
       "        [3, 3, 5]])"
      ]
     },
     "execution_count": 43,
     "metadata": {},
     "output_type": "execute_result"
    }
   ],
   "source": [
    "r"
   ]
  },
  {
   "cell_type": "markdown",
   "metadata": {},
   "source": [
    "### 7) Crear un tensor con valores de una distribucion normal ( 𝜇=0,𝜎=1)"
   ]
  },
  {
   "cell_type": "code",
   "execution_count": 46,
   "metadata": {},
   "outputs": [
    {
     "data": {
      "text/plain": [
       "Normal(loc: 0, scale: 1)"
      ]
     },
     "execution_count": 46,
     "metadata": {},
     "output_type": "execute_result"
    }
   ],
   "source": [
    "# Usar la funcion torch distribution normal. Loc es la media y scale la desviacion estandar \n",
    "n = torch.distributions.Normal(torch.tensor(0), torch.tensor(1))\n",
    "n"
   ]
  },
  {
   "cell_type": "code",
   "execution_count": 73,
   "metadata": {},
   "outputs": [
    {
     "data": {
      "text/plain": [
       "tensor([])"
      ]
     },
     "execution_count": 73,
     "metadata": {},
     "output_type": "execute_result"
    }
   ],
   "source": [
    "n1  = torch.rand(0)\n",
    "n1"
   ]
  },
  {
   "cell_type": "code",
   "execution_count": 74,
   "metadata": {},
   "outputs": [
    {
     "data": {
      "text/plain": [
       "tensor([ 0.2782,  2.8205, -0.2202, -1.3786])"
      ]
     },
     "execution_count": 74,
     "metadata": {},
     "output_type": "execute_result"
    }
   ],
   "source": [
    "#funciton randn returns tensor filled with random numbers form a normal distribtion with mean 0 and variance 1\n",
    "n2= torch.randn(4)\n",
    "n2"
   ]
  },
  {
   "cell_type": "markdown",
   "metadata": {},
   "source": [
    "### 8) Recuperar los indices de todos los elementos no cero en el tensor torch.Tensor([1,1,1,0,1]).\n"
   ]
  },
  {
   "cell_type": "code",
   "execution_count": 59,
   "metadata": {},
   "outputs": [],
   "source": [
    "cero= torch.Tensor([1,1,1,0,1])\n",
    "cero\n"
   ]
  },
  {
   "cell_type": "code",
   "execution_count": 62,
   "metadata": {},
   "outputs": [
    {
     "name": "stdout",
     "output_type": "stream",
     "text": [
      "tensor([3])\n"
     ]
    }
   ],
   "source": [
    "print((cero==0).nonzero()[0])"
   ]
  },
  {
   "cell_type": "markdown",
   "metadata": {},
   "source": [
    "### 9) Crear un tensor aleatorio de forma (3,1) y luego apilar cuatro copias horizontalmente.\n"
   ]
  },
  {
   "cell_type": "code",
   "execution_count": 70,
   "metadata": {},
   "outputs": [
    {
     "data": {
      "text/plain": [
       "tensor([[0.8674],\n",
       "        [0.7092],\n",
       "        [0.4922]])"
      ]
     },
     "execution_count": 70,
     "metadata": {},
     "output_type": "execute_result"
    }
   ],
   "source": [
    "r= torch.rand(3,1)\n",
    "r"
   ]
  },
  {
   "cell_type": "code",
   "execution_count": 86,
   "metadata": {},
   "outputs": [
    {
     "data": {
      "text/plain": [
       "tensor([[0.8674, 0.8674, 0.8674, 0.8674],\n",
       "        [0.7092, 0.7092, 0.7092, 0.7092],\n",
       "        [0.4922, 0.4922, 0.4922, 0.4922],\n",
       "        [0.8674, 0.8674, 0.8674, 0.8674],\n",
       "        [0.7092, 0.7092, 0.7092, 0.7092],\n",
       "        [0.4922, 0.4922, 0.4922, 0.4922]])"
      ]
     },
     "execution_count": 86,
     "metadata": {},
     "output_type": "execute_result"
    }
   ],
   "source": [
    "#Function repeats the tensor along the dimensions specified.\n",
    "r2 = r.repeat(2,4)\n",
    "r2"
   ]
  },
  {
   "cell_type": "markdown",
   "metadata": {},
   "source": [
    "### 10) Retornar el producto batch matrix-matrix de dos matrices 3D: (a=torch.randn(3,4,5), b=torch.rand(3,5,4))\n"
   ]
  },
  {
   "cell_type": "code",
   "execution_count": 87,
   "metadata": {},
   "outputs": [],
   "source": [
    "#Creating the torches\n",
    "a5=torch.randn(3,4,5)\n",
    "b5=torch.rand(3,4,5)"
   ]
  },
  {
   "cell_type": "code",
   "execution_count": 88,
   "metadata": {},
   "outputs": [
    {
     "data": {
      "text/plain": [
       "tensor([[[ 0.1960, -1.5050, -0.0100, -2.5744, -1.0185],\n",
       "         [-0.1501, -0.0238,  0.3386,  0.1691, -1.3602],\n",
       "         [-0.1071, -2.2742, -0.7782,  0.0509, -0.8890],\n",
       "         [-2.5310, -0.7090, -0.5810, -1.2899, -2.6423]],\n",
       "\n",
       "        [[-0.4335,  1.0538, -0.4254, -2.7389,  1.2965],\n",
       "         [-0.8366,  0.1010, -0.7307, -0.9753, -1.1483],\n",
       "         [-0.6985, -2.9991,  0.3710, -0.0861, -1.1452],\n",
       "         [ 0.0774, -1.2270, -0.2697, -0.4481, -0.0677]],\n",
       "\n",
       "        [[-2.5996, -1.7429, -2.3128,  0.5400, -0.4719],\n",
       "         [ 1.2690, -2.8205,  0.5606,  0.7982,  1.0084],\n",
       "         [ 0.1838,  1.2480,  0.8224, -1.2485,  0.8685],\n",
       "         [-2.9482,  0.4959, -2.0045, -1.0740,  0.0507]]])"
      ]
     },
     "execution_count": 88,
     "metadata": {},
     "output_type": "execute_result"
    }
   ],
   "source": [
    "# Restar las dos matrices \n",
    "a5-b5"
   ]
  },
  {
   "cell_type": "markdown",
   "metadata": {},
   "source": [
    "### 11) Retornar el producto batch matrix-matrix de una matriz 3D y una matriz 2D: (a=torch.rand(3,4,5), b=torch.rand(5,4))."
   ]
  },
  {
   "cell_type": "code",
   "execution_count": 93,
   "metadata": {},
   "outputs": [],
   "source": [
    "# Restar las dos matrices de diferentes dimensiones no se puede\n",
    "b6= torch.randn(5,4)\n",
    "a5-b6"
   ]
  }
 ],
 "metadata": {
  "kernelspec": {
   "display_name": "Python 3",
   "language": "python",
   "name": "python3"
  },
  "language_info": {
   "codemirror_mode": {
    "name": "ipython",
    "version": 3
   },
   "file_extension": ".py",
   "mimetype": "text/x-python",
   "name": "python",
   "nbconvert_exporter": "python",
   "pygments_lexer": "ipython3",
   "version": "3.7.3"
  }
 },
 "nbformat": 4,
 "nbformat_minor": 2
}
