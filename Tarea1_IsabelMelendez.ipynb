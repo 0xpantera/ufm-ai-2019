{
 "cells": [
  {
   "cell_type": "code",
   "execution_count": 1,
   "metadata": {},
   "outputs": [],
   "source": [
    "import numpy as np\n",
    "import torch "
   ]
  },
  {
   "cell_type": "markdown",
   "metadata": {},
   "source": [
    "## Tarea #1"
   ]
  },
  {
   "cell_type": "markdown",
   "metadata": {},
   "source": [
    "### Tensor attributes - tipos de dato \n",
    "\n",
    "PyTorch tiene 8 diferentes tipos de data. \n",
    "\n",
    "- Float: 32 bit float. (3.4E-38 a 3.4E+38)\n",
    "- Double: 64 bit float. (1.7E-308 a 1.7E+308)\n",
    "- Int8: 8 bit integer. Es un ByteTensor si es unsigned y es un CharTensor si es signed. \n",
    "- Short: 16 bit integer (signed). (-32768 a 32767)\n",
    "- Int: 32 bit integer (signed). (-2147483648 a 2147483647)\n",
    "- Long: 64 bit integer (signed). (-2147483648 a 2147483647)\n",
    "\n",
    "\n",
    "### Default data types\n",
    "\n",
    "Por default al utilizar int se utiliza int 32 en Python, numpy usa int 64 y PyTorch usa int 64. \n",
    "\n",
    "Los tipos de dato básicos de python son int, long, float y complex. \n"
   ]
  },
  {
   "cell_type": "markdown",
   "metadata": {},
   "source": [
    "### Diferencia entre signed y unsigned\n",
    "\n",
    "La diferencia es que en los signed uno de los bits se reserva para almacenar el signo del número, es decir si es un número positivo o uno negativo. \n",
    "\n",
    "El utilizar un bit para el signo reduce el tamaño que puede almacenar cierto tipo de dato. "
   ]
  }
 ],
 "metadata": {
  "kernelspec": {
   "display_name": "Python 3",
   "language": "python",
   "name": "python3"
  },
  "language_info": {
   "codemirror_mode": {
    "name": "ipython",
    "version": 3
   },
   "file_extension": ".py",
   "mimetype": "text/x-python",
   "name": "python",
   "nbconvert_exporter": "python",
   "pygments_lexer": "ipython3",
   "version": "3.7.3"
  }
 },
 "nbformat": 4,
 "nbformat_minor": 2
}
