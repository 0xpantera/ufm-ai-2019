{
 "cells": [
  {
   "cell_type": "code",
   "execution_count": 2,
   "metadata": {},
   "outputs": [],
   "source": [
    "import torch"
   ]
  },
  {
   "cell_type": "code",
   "execution_count": 12,
   "metadata": {},
   "outputs": [
    {
     "name": "stdout",
     "output_type": "stream",
     "text": [
      "float 16\n",
      "Max\n",
      "65504.0\n",
      "Min\n",
      "-65504.0\n",
      "float 32\n",
      "Max\n",
      "3.4028234663852886e+38\n",
      "Min\n",
      "-3.4028234663852886e+38\n",
      "float 64\n",
      "Max\n",
      "1.7976931348623157e+308\n",
      "Min\n",
      "-1.7976931348623157e+308\n",
      "integer uns. 8\n",
      "Max\n",
      "255\n",
      "Min\n",
      "0\n",
      "integer s. 8\n",
      "Max\n",
      "127\n",
      "Min\n",
      "-128\n",
      "integer s. 16\n",
      "Max\n",
      "32767\n",
      "Min\n",
      "-32768\n",
      "integer s. 32\n",
      "Max\n",
      "2147483647\n",
      "Min\n",
      "-2147483648\n",
      "integer s. 64\n",
      "Max\n",
      "9223372036854775807\n",
      "Min\n",
      "-9223372036854775808\n"
     ]
    }
   ],
   "source": [
    "print('float 16')\n",
    "print('Max')\n",
    "print(torch.finfo(torch.float16).max)\n",
    "print('Min')\n",
    "print(torch.finfo(torch.float16).min)\n",
    "print('float 32')\n",
    "print('Max')\n",
    "print(torch.finfo(torch.float32).max)\n",
    "print('Min')\n",
    "print(torch.finfo(torch.float32).min)\n",
    "print('float 64')\n",
    "print('Max')\n",
    "print(torch.finfo(torch.float64).max)\n",
    "print('Min')\n",
    "print(torch.finfo(torch.float64).min)\n",
    "print('integer uns. 8')\n",
    "print('Max')\n",
    "print(torch.iinfo(torch.uint8).max)\n",
    "print('Min')\n",
    "print(torch.iinfo(torch.uint8).min)\n",
    "print('integer s. 8')\n",
    "print('Max')\n",
    "print(torch.iinfo(torch.int8).max)\n",
    "print('Min')\n",
    "print(torch.iinfo(torch.int8).min)\n",
    "print('integer s. 16')\n",
    "print('Max')\n",
    "print(torch.iinfo(torch.int16).max)\n",
    "print('Min')\n",
    "print(torch.iinfo(torch.int16).min)\n",
    "print('integer s. 32')\n",
    "print('Max')\n",
    "print(torch.iinfo(torch.int32).max)\n",
    "print('Min')\n",
    "print(torch.iinfo(torch.int32).min)\n",
    "print('integer s. 64')\n",
    "print('Max')\n",
    "print(torch.iinfo(torch.int64).max)\n",
    "print('Min')\n",
    "print(torch.iinfo(torch.int64).min)"
   ]
  },
  {
   "cell_type": "code",
   "execution_count": 14,
   "metadata": {},
   "outputs": [
    {
     "name": "stdout",
     "output_type": "stream",
     "text": [
      "Como se puede ver, los valores maximos para cada tipo de dato se encuentran en el resultado anterior.\n"
     ]
    }
   ],
   "source": [
    "print('Como se puede ver, los valores maximos para cada tipo de dato se encuentran en el resultado anterior.')"
   ]
  },
  {
   "cell_type": "code",
   "execution_count": 15,
   "metadata": {},
   "outputs": [
    {
     "name": "stdout",
     "output_type": "stream",
     "text": [
      "La diferencia entre un int signed y unsigned es que los ints que son denominados signed pueden tomar valores negativos o positivos, mientras que los unsigned solo pueden tomar valores positivos, incluyendo 0. Tambien es importante notar que ambos tipos de datos tienen la misma cantidad de valores que pueden tomar, solo que, como se menciono anteriormente, en los signed, los valores pueden ser negativos y positivos, mientras que en los unsigned pueden ser unicamente positivos.\n"
     ]
    }
   ],
   "source": [
    "print('La diferencia entre un int signed y unsigned es que los ints que son denominados signed pueden tomar valores negativos o positivos, mientras que los unsigned solo pueden tomar valores positivos, incluyendo 0. Tambien es importante notar que ambos tipos de datos tienen la misma cantidad de valores que pueden tomar, solo que, como se menciono anteriormente, en los signed, los valores pueden ser negativos y positivos, mientras que en los unsigned pueden ser unicamente positivos.')"
   ]
  },
  {
   "cell_type": "code",
   "execution_count": 27,
   "metadata": {},
   "outputs": [
    {
     "name": "stdout",
     "output_type": "stream",
     "text": [
      "Los tipos de datos default para python base, numpy y pytorch son los siguientes: para base python, dependiendo del input, el default puede ser int (si el numero ingresado es un entero), float(si el numero tiene decimales), o complex(si el numero contiene aspectos imaginarios), para Numpy el data type default es un float de 64 bits, y por último, el data type default de pytorch es un float de 32 bits.\n"
     ]
    }
   ],
   "source": [
    "print('Los tipos de datos default para python base, numpy y pytorch son los siguientes: para base python, dependiendo del input, el default puede ser int (si el numero ingresado es un entero), float(si el numero tiene decimales), o complex(si el numero contiene aspectos imaginarios), para Numpy el data type default es un float de 64 bits, y por último, el data type default de pytorch es un float de 32 bits.')"
   ]
  }
 ],
 "metadata": {
  "kernelspec": {
   "display_name": "Python 3",
   "language": "python",
   "name": "python3"
  },
  "language_info": {
   "codemirror_mode": {
    "name": "ipython",
    "version": 3
   },
   "file_extension": ".py",
   "mimetype": "text/x-python",
   "name": "python",
   "nbconvert_exporter": "python",
   "pygments_lexer": "ipython3",
   "version": "3.7.3"
  }
 },
 "nbformat": 4,
 "nbformat_minor": 2
}
