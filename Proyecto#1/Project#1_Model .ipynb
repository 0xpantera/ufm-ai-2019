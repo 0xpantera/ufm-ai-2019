{
 "cells": [
  {
   "cell_type": "code",
   "execution_count": 3,
   "metadata": {},
   "outputs": [],
   "source": [
    "import numpy as np\n",
    "import torch\n",
    "from torch import nn\n",
    "import torch.nn.functional as F\n",
    "import matplotlib.pyplot as plt\n"
   ]
  },
  {
   "cell_type": "code",
   "execution_count": 37,
   "metadata": {},
   "outputs": [
    {
     "ename": "TypeError",
     "evalue": "one_hot_encode() missing 2 required positional arguments: 'arr' and 'n_labels'",
     "output_type": "error",
     "traceback": [
      "\u001b[1;31m---------------------------------------------------------------------------\u001b[0m",
      "\u001b[1;31mTypeError\u001b[0m                                 Traceback (most recent call last)",
      "\u001b[1;32m<ipython-input-37-0becc8651f63>\u001b[0m in \u001b[0;36m<module>\u001b[1;34m\u001b[0m\n\u001b[0;32m      1\u001b[0m \u001b[1;32mimport\u001b[0m \u001b[0mai_utils\u001b[0m\u001b[1;33m\u001b[0m\u001b[1;33m\u001b[0m\u001b[0m\n\u001b[1;32m----> 2\u001b[1;33m \u001b[0mai_utils\u001b[0m\u001b[1;33m.\u001b[0m\u001b[0mone_hot_encode\u001b[0m\u001b[1;33m(\u001b[0m\u001b[1;33m)\u001b[0m\u001b[1;33m\u001b[0m\u001b[1;33m\u001b[0m\u001b[0m\n\u001b[0m",
      "\u001b[1;31mTypeError\u001b[0m: one_hot_encode() missing 2 required positional arguments: 'arr' and 'n_labels'"
     ]
    }
   ],
   "source": [
    "import ai_utils\n",
    "ai_utils.one_hot_encode()"
   ]
  },
  {
   "cell_type": "markdown",
   "metadata": {},
   "source": [
    "# Descripcion del Proyecto \n",
    "En este proyecto usamos diferentes algoritmos y conocimiento adquiridos durante el curso de inteligencia artificial para crear una red de procesamiento de textos que logre crear texto comprensible y entendible. Para esto usaremos dos datasets, todos los libros de \"El Señor de Los Anillos\" y \"La Elite\", mas adelante se podra ver el pre-procesamiento de los mismos y la razon por la que elejimos estos datasets.  \n"
   ]
  },
  {
   "cell_type": "markdown",
   "metadata": {},
   "source": [
    "# Solucion \n",
    "Para entender completamente lo que se hizo durante este proyecto, recorreremos todo el modelo, paso por paso. De esta manera cualquier persona que se tome el tiempo de leer las notas y esta guia sera capaz de replicar el modelo con facilidad. \n",
    "\n",
    "## 1. Pre-Procesamiento \n"
   ]
  },
  {
   "cell_type": "markdown",
   "metadata": {},
   "source": [
    "Importaremos el dataset en español. El dataset consta de la coleccion de \"La Elite\", una serie de libros para jovenes escrita originalmente en español. El dataset contiene suficientes palabras y dialogos entre los personajes para que nuestro modelo devuelva informacion entendible. "
   ]
  },
  {
   "cell_type": "code",
   "execution_count": 4,
   "metadata": {},
   "outputs": [
    {
     "name": "stdout",
     "output_type": "stream",
     "text": [
      "Primeros 100 caracteres:\n",
      "Cuando llegó la carta por correo mi madre estaba extasiada. Ella ya había \n",
      "decidido que todos nuestr\n",
      "\n",
      "Numero de Palabras:\n",
      "236407\n"
     ]
    }
   ],
   "source": [
    "with open('together.txt', 'r',  encoding=\"utf8\") as f:\n",
    "    text = f.read()\n",
    "fname = 'together.txt'\n",
    " \n",
    "num_words = 0\n",
    " \n",
    "with open(fname, 'r',  encoding=\"utf8\") as f:\n",
    "    for line in f:\n",
    "        words = line.split()\n",
    "        num_words += len(words)\n",
    "print(\"Primeros 100 caracteres:\")\n",
    "print(text[:100])\n",
    "print(\"\\nNumero de Palabras:\")\n",
    "print(num_words)\n"
   ]
  },
  {
   "cell_type": "markdown",
   "metadata": {},
   "source": [
    "### 2. Tokenization y One Hot Encode\n",
    "Para el pre procesamiento de la data, creamos diccionarios para poder convertir cada caracter a un numero entero y poderlo regresar a caracter en el futuro. Para esto usamos un algoritmo de One-Hot-Encoding. Este algoritmo crea un array lleno de 0 y mapea con un numero 1 la posicion en donde se encuentra este caracter. \n"
   ]
  },
  {
   "cell_type": "code",
   "execution_count": 5,
   "metadata": {},
   "outputs": [
    {
     "data": {
      "text/plain": [
       "1383150"
      ]
     },
     "execution_count": 5,
     "metadata": {},
     "output_type": "execute_result"
    }
   ],
   "source": [
    "chars = tuple(set(text))\n",
    "int2char = dict(enumerate(chars))\n",
    "char2int = {ch: ii for ii, ch in int2char.items()}\n",
    "encoded = np.array([char2int[ch] for ch in text])\n",
    "encoded[:100]\n",
    "len(encoded)"
   ]
  },
  {
   "cell_type": "markdown",
   "metadata": {},
   "source": [
    "### Usando el GPU para entrenar\n",
    "Para este tipo de algoritmos, es mejor entrenar sobre un GPU debido a la gran cantidad de memoria y de recursos que se necesita para entrenar el modelo. Ademas, es muchisimo mas rapido. Si aun asi el GPU parece algo lento, existen otros recursos para correr este tipo de algoritmos sobre la nube, como por ejemplo Google Collaboratory. "
   ]
  },
  {
   "cell_type": "code",
   "execution_count": 7,
   "metadata": {},
   "outputs": [
    {
     "name": "stdout",
     "output_type": "stream",
     "text": [
      "Training on GPU!\n"
     ]
    }
   ],
   "source": [
    "train_on_gpu = torch.cuda.is_available()\n",
    "if(train_on_gpu):\n",
    "    print('Training on GPU!')\n",
    "else: \n",
    "    print('No GPU available, training on CPU; consider making n_epochs very small.')"
   ]
  },
  {
   "cell_type": "markdown",
   "metadata": {},
   "source": [
    "### 3. Entrenamiento del Modelo \n",
    "Una vez tengamos la data lista, podemos crear un modelo de entrenamiento para la generacion de texto. Este modelo cuenta con un batch size de 128 y con un sequence length de 150. El sequence length para el modelo en español es un poco mas largo ya que tambien hay que considerar que tenemos mas caracteres por los acentos que se le agregan a algunas vocales. \n",
    "El numero de epochs se dejo en 22 ya que mas alla de ese valor el validation loss rebotaba en un dataset en español. En el dataset con texto en ingles podiamos dejar las epochs en 26 ya que tardaba un poco mas en dejar de optimizar el validation loss. \n",
    "Adicionalmente, en la grafica se puede ver como tanto el validation loss como el loss se reducen hasta llegar a emparejarse en algun punto. "
   ]
  },
  {
   "cell_type": "code",
   "execution_count": 8,
   "metadata": {},
   "outputs": [
    {
     "ename": "NameError",
     "evalue": "name 'CharRNN' is not defined",
     "output_type": "error",
     "traceback": [
      "\u001b[1;31m---------------------------------------------------------------------------\u001b[0m",
      "\u001b[1;31mNameError\u001b[0m                                 Traceback (most recent call last)",
      "\u001b[1;32m<ipython-input-8-d139ee32ac9f>\u001b[0m in \u001b[0;36m<module>\u001b[1;34m\u001b[0m\n\u001b[0;32m      2\u001b[0m \u001b[0mn_layers\u001b[0m\u001b[1;33m=\u001b[0m\u001b[1;36m3\u001b[0m\u001b[1;33m\u001b[0m\u001b[1;33m\u001b[0m\u001b[0m\n\u001b[0;32m      3\u001b[0m \u001b[1;33m\u001b[0m\u001b[0m\n\u001b[1;32m----> 4\u001b[1;33m \u001b[0mnet\u001b[0m \u001b[1;33m=\u001b[0m \u001b[0mCharRNN\u001b[0m\u001b[1;33m(\u001b[0m\u001b[0mchars\u001b[0m\u001b[1;33m,\u001b[0m \u001b[0mn_hidden\u001b[0m\u001b[1;33m,\u001b[0m \u001b[0mn_layers\u001b[0m\u001b[1;33m)\u001b[0m\u001b[1;33m\u001b[0m\u001b[1;33m\u001b[0m\u001b[0m\n\u001b[0m\u001b[0;32m      5\u001b[0m \u001b[0mprint\u001b[0m\u001b[1;33m(\u001b[0m\u001b[0mnet\u001b[0m\u001b[1;33m)\u001b[0m\u001b[1;33m\u001b[0m\u001b[1;33m\u001b[0m\u001b[0m\n\u001b[0;32m      6\u001b[0m \u001b[1;33m\u001b[0m\u001b[0m\n",
      "\u001b[1;31mNameError\u001b[0m: name 'CharRNN' is not defined"
     ]
    }
   ],
   "source": [
    "n_hidden=512\n",
    "n_layers=3\n",
    "\n",
    "net = CharRNN(chars, n_hidden, n_layers)\n",
    "print(net)\n",
    "\n",
    "batch_size = 128\n",
    "seq_length = 150\n",
    "n_epochs = 22\n"
   ]
  },
  {
   "cell_type": "markdown",
   "metadata": {},
   "source": [
    "### 4. Creando un checkpoint\n",
    "En este punto podemos guardar el modelo ya entrenado, asi no tenemos que entrenarlo cada vez que lo correremos. Ademas, esto se puede usar para compartir el modelo sin ningun problema. "
   ]
  },
  {
   "cell_type": "code",
   "execution_count": 19,
   "metadata": {},
   "outputs": [
    {
     "name": "stdout",
     "output_type": "stream",
     "text": [
      "Epoch: 1/22... Step: 50... Loss: 3.1258... Val Loss: 3.1609\n",
      "Epoch: 2/22... Step: 100... Loss: 3.1078... Val Loss: 3.1594\n",
      "Epoch: 3/22... Step: 150... Loss: 2.8102... Val Loss: 2.8561\n",
      "Epoch: 4/22... Step: 200... Loss: 2.4844... Val Loss: 2.5318\n",
      "Epoch: 5/22... Step: 250... Loss: 2.3269... Val Loss: 2.3781\n",
      "Epoch: 5/22... Step: 300... Loss: 2.2040... Val Loss: 2.2678\n",
      "Epoch: 6/22... Step: 350... Loss: 2.1239... Val Loss: 2.1853\n",
      "Epoch: 7/22... Step: 400... Loss: 2.0486... Val Loss: 2.1028\n",
      "Epoch: 8/22... Step: 450... Loss: 1.9819... Val Loss: 2.0295\n",
      "Epoch: 9/22... Step: 500... Loss: 1.9226... Val Loss: 1.9619\n",
      "Epoch: 10/22... Step: 550... Loss: 1.8881... Val Loss: 1.8981\n",
      "Epoch: 10/22... Step: 600... Loss: 1.7768... Val Loss: 1.8400\n",
      "Epoch: 11/22... Step: 650... Loss: 1.7262... Val Loss: 1.7866\n",
      "Epoch: 12/22... Step: 700... Loss: 1.7202... Val Loss: 1.7346\n",
      "Epoch: 13/22... Step: 750... Loss: 1.6658... Val Loss: 1.6854\n",
      "Epoch: 14/22... Step: 800... Loss: 1.6500... Val Loss: 1.6534\n",
      "Epoch: 14/22... Step: 850... Loss: 1.5865... Val Loss: 1.6144\n",
      "Epoch: 15/22... Step: 900... Loss: 1.5591... Val Loss: 1.5804\n",
      "Epoch: 16/22... Step: 950... Loss: 1.5047... Val Loss: 1.5507\n",
      "Epoch: 17/22... Step: 1000... Loss: 1.4765... Val Loss: 1.5236\n",
      "Epoch: 18/22... Step: 1050... Loss: 1.4620... Val Loss: 1.5035\n",
      "Epoch: 19/22... Step: 1100... Loss: 1.4425... Val Loss: 1.4823\n",
      "Epoch: 19/22... Step: 1150... Loss: 1.4250... Val Loss: 1.4677\n",
      "Epoch: 20/22... Step: 1200... Loss: 1.3880... Val Loss: 1.4509\n",
      "Epoch: 21/22... Step: 1250... Loss: 1.3751... Val Loss: 1.4374\n",
      "Epoch: 22/22... Step: 1300... Loss: 1.3671... Val Loss: 1.4204\n"
     ]
    },
    {
     "data": {
      "image/png": "[encoded data removed]",
      "text/plain": [
       "<Figure size 432x288 with 1 Axes>"
      ]
     },
     "metadata": {
      "needs_background": "light"
     },
     "output_type": "display_data"
    }
   ],
   "source": [
    "train(net, encoded, epochs=n_epochs, batch_size=batch_size, seq_length=seq_length, lr=0.001, print_every=50, val_frac=0.15)\n",
    "\n",
    "model_name = 'rnn_20_epoch.net'\n",
    "\n",
    "checkpoint = {'n_hidden': net.n_hidden,\n",
    "              'n_layers': net.n_layers,\n",
    "              'state_dict': net.state_dict(),\n",
    "              'tokens': net.chars}\n",
    "\n",
    "with open(model_name, 'wb') as f:\n",
    "    torch.save(checkpoint, f)"
   ]
  },
  {
   "cell_type": "markdown",
   "metadata": {},
   "source": [
    "### 5. Haciendo predicciones \n",
    "Finalmente, podemos imprimir los resultados del modelo. Hay varios parametros que deberiamos de tomar en cuenta al momento de impirmir dicho modelo. Por ejemplo, el valor de parametro \"prime\" se refiere a las primeras palabras que imprimira el modelo. Usualmente esto se agrega para poder afectr que rumbo toma el dialogo del output. Si se dejara vacio, el modelo en si comenzaria a generar texto y a partir de este creare el nuevo texto hasta completar el modelo. El top_k se refiere a que rango de probabilidad categorica sera le minimo o el maximo para el modelo. Esto ayudara a introducir ruido y valores random al modelo, y asi poco a poco poder generar texto mas entendible. "
   ]
  },
  {
   "cell_type": "code",
   "execution_count": 2,
   "metadata": {},
   "outputs": [
    {
     "ename": "NameError",
     "evalue": "name 'sample' is not defined",
     "output_type": "error",
     "traceback": [
      "\u001b[1;31m---------------------------------------------------------------------------\u001b[0m",
      "\u001b[1;31mNameError\u001b[0m                                 Traceback (most recent call last)",
      "\u001b[1;32m<ipython-input-2-8cb19dd224e0>\u001b[0m in \u001b[0;36m<module>\u001b[1;34m\u001b[0m\n\u001b[1;32m----> 1\u001b[1;33m \u001b[0mprint\u001b[0m\u001b[1;33m(\u001b[0m\u001b[0msample\u001b[0m\u001b[1;33m(\u001b[0m\u001b[0mnet\u001b[0m\u001b[1;33m,\u001b[0m \u001b[1;36m2000\u001b[0m\u001b[1;33m,\u001b[0m \u001b[0mprime\u001b[0m\u001b[1;33m=\u001b[0m\u001b[1;34m'Rey'\u001b[0m\u001b[1;33m,\u001b[0m \u001b[0mtop_k\u001b[0m\u001b[1;33m=\u001b[0m\u001b[1;36m4\u001b[0m\u001b[1;33m)\u001b[0m\u001b[1;33m)\u001b[0m\u001b[1;33m\u001b[0m\u001b[1;33m\u001b[0m\u001b[0m\n\u001b[0m",
      "\u001b[1;31mNameError\u001b[0m: name 'sample' is not defined"
     ]
    }
   ],
   "source": [
    "print(sample(net, 2000, prime='Rey', top_k=4))\n"
   ]
  },
  {
   "cell_type": "markdown",
   "metadata": {},
   "source": [
    "# Runtime Test Cases\n"
   ]
  },
  {
   "cell_type": "markdown",
   "metadata": {},
   "source": [
    "## Dataset en Español "
   ]
  },
  {
   "cell_type": "code",
   "execution_count": 53,
   "metadata": {},
   "outputs": [
    {
     "name": "stdout",
     "output_type": "stream",
     "text": [
      "Pero nunca puedo confiar. Ellos sabía que se puso por la priscena con una chica de la pesión, sentida para la mano en una de ellos caminar en su cara, y ya no podría haber ser una mayora de las maneras? \"¿Creí que nunca estaba en ello de ellos? \" Ella sonría, sin puertas que me acorraba. —Su paso, por fué más. Me exclicó los ojos, señoritas estaba con el pramero de los problemas para su cena para mí. \"¿Cuándo lis doncellas.\" Ella estaba destinado para se pensó a las casas y caminaban, y era una persona. \"Estuvieron contenidado en la mucha parte,\n",
      "el momento a esperar, pero no podía estar con su coraciente de extargar. \"No estaba acerca de los palabros era algunos de mi cabeza. \"¿Puedo seceridar.\n",
      "\n",
      "\f",
      "\"No se encantarán de los carter de todo lo mismo damas a mí. \"No se era cantitada de mi pequeña conciós de mi madre y me parece en el persono en un problema. \"Pero esa estaba extraña que te di cuenta de que ella pregunté. \"¿Qué estaba centrado en su cabolada, pero sonreí. \"¿Cómo puede sus cuando mi probe\n"
     ]
    }
   ],
   "source": [
    "print(sample(net, 1000, prime='Pero nunca', top_k=5))\n"
   ]
  },
  {
   "cell_type": "markdown",
   "metadata": {},
   "source": [
    "## Dataset en Ingles"
   ]
  },
  {
   "cell_type": "code",
   "execution_count": null,
   "metadata": {},
   "outputs": [],
   "source": []
  }
 ],
 "metadata": {
  "kernelspec": {
   "display_name": "Python 3",
   "language": "python",
   "name": "python3"
  },
  "language_info": {
   "codemirror_mode": {
    "name": "ipython",
    "version": 3
   },
   "file_extension": ".py",
   "mimetype": "text/x-python",
   "name": "python",
   "nbconvert_exporter": "python",
   "pygments_lexer": "ipython3",
   "version": "3.7.4"
  }
 },
 "nbformat": 4,
 "nbformat_minor": 2
}
