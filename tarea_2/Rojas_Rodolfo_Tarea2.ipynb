{
 "cells": [
  {
   "cell_type": "code",
   "execution_count": 1,
   "metadata": {},
   "outputs": [],
   "source": [
    "import torch"
   ]
  },
  {
   "cell_type": "markdown",
   "metadata": {},
   "source": [
    "1. Crear un tensor de list(range(9)) e indicar cual es el size, offset, y strides\n",
    " - Crear un tensor b = a.view(3, 3). Cual es el valor de b[1, 1]\n",
    " - crear un tensor c = b[1:, 1:]. Cual es el size, offset, strides?"
   ]
  },
  {
   "cell_type": "code",
   "execution_count": 2,
   "metadata": {},
   "outputs": [
    {
     "name": "stdout",
     "output_type": "stream",
     "text": [
      "tensor([0, 1, 2, 3, 4, 5, 6, 7, 8]) \n",
      " torch.Size([9]) \n",
      " 0 \n",
      " (1,) \n",
      "\n",
      "tensor([[0, 1, 2],\n",
      "        [3, 4, 5],\n",
      "        [6, 7, 8]]) \n",
      " valor de b[1,1]:  tensor(4) \n",
      "\n",
      "tensor([[4, 5],\n",
      "        [7, 8]]) \n",
      " torch.Size([2, 2]) \n",
      " 4 \n",
      " (3, 1)\n"
     ]
    }
   ],
   "source": [
    "a =torch.tensor(list(range(9)))\n",
    "print(a,\"\\n\",\n",
    "      a.size(), \"\\n\",\n",
    "      a.storage_offset(), \"\\n\",\n",
    "      a.stride(), \"\\n\")\n",
    "\n",
    "b = a.view(3,3)\n",
    "print(b,\"\\n\",\n",
    "      'valor de b[1,1]: ', b[1,1], \"\\n\")\n",
    "\n",
    "c = b[1:, 1:]\n",
    "print(c, \"\\n\",\n",
    "      c.size(), \"\\n\",\n",
    "      c.storage_offset(), \"\\n\",\n",
    "      c.stride())"
   ]
  },
  {
   "cell_type": "markdown",
   "metadata": {},
   "source": [
    "2. Escogan una operacion matematica como cosine o sqrt. Hay una funcion correspondiente en PyTorch?\n",
    "\n",
    "R// Si hay operaciones correspondientes, como `torch.sqrt()`\n",
    " - Existe una version de esa operacion que opera in-place?\n",
    " Si las hay `torch.sqrt_()` por ejemplo"
   ]
  },
  {
   "cell_type": "code",
   "execution_count": 3,
   "metadata": {},
   "outputs": [
    {
     "name": "stdout",
     "output_type": "stream",
     "text": [
      "tensor([[4.],\n",
      "        [9.]]) \n",
      " tensor([[2.],\n",
      "        [3.]])\n"
     ]
    }
   ],
   "source": [
    "t1= torch.tensor([[4],\n",
    "                  [9]], dtype=torch.float)\n",
    "t2=torch.sqrt(t1)\n",
    "print(t1, \"\\n\",\n",
    "t2)"
   ]
  },
  {
   "cell_type": "markdown",
   "metadata": {},
   "source": [
    "1. Crear un tensor 2D y luego agregar una dimension de tamanio 1 insertada en la dimension 0."
   ]
  },
  {
   "cell_type": "code",
   "execution_count": 4,
   "metadata": {},
   "outputs": [
    {
     "data": {
      "text/plain": [
       "torch.Size([1, 2, 3])"
      ]
     },
     "execution_count": 4,
     "metadata": {},
     "output_type": "execute_result"
    }
   ],
   "source": [
    "a= torch.ones(2,3)\n",
    "#a.size()\n",
    "a= a.unsqueeze_(0)\n",
    "a.size()"
   ]
  },
  {
   "cell_type": "markdown",
   "metadata": {},
   "source": [
    "2. Eliminar la dimension extra que agrego en el tensor previo."
   ]
  },
  {
   "cell_type": "code",
   "execution_count": 5,
   "metadata": {},
   "outputs": [
    {
     "data": {
      "text/plain": [
       "torch.Size([2, 3])"
      ]
     },
     "execution_count": 5,
     "metadata": {},
     "output_type": "execute_result"
    }
   ],
   "source": [
    "a= a.resize_(2,3)\n",
    "a.size()"
   ]
  },
  {
   "cell_type": "markdown",
   "metadata": {},
   "source": [
    "3. Crear un tensor aleatorio de forma $5x3$ en el intervalo $[3,7)$"
   ]
  },
  {
   "cell_type": "code",
   "execution_count": 6,
   "metadata": {},
   "outputs": [
    {
     "data": {
      "text/plain": [
       "tensor([[5, 5, 3],\n",
       "        [5, 3, 3],\n",
       "        [4, 6, 5],\n",
       "        [3, 4, 6],\n",
       "        [3, 5, 5]])"
      ]
     },
     "execution_count": 6,
     "metadata": {},
     "output_type": "execute_result"
    }
   ],
   "source": [
    "b=torch.randint(low=3, high=7, size=(5,3))\n",
    "b"
   ]
  },
  {
   "cell_type": "markdown",
   "metadata": {},
   "source": [
    "4. Crear un tensor con valores de una distribucion normal ($\\mu=0, \\sigma=1$)"
   ]
  },
  {
   "cell_type": "code",
   "execution_count": 7,
   "metadata": {},
   "outputs": [
    {
     "data": {
      "text/plain": [
       "tensor([[ 0.4723, -0.9600,  2.0407],\n",
       "        [-1.6245, -0.1895, -0.8734]])"
      ]
     },
     "execution_count": 7,
     "metadata": {},
     "output_type": "execute_result"
    }
   ],
   "source": [
    "d= torch.normal(mean= 0, std=torch.ones(2,3))\n",
    "d"
   ]
  },
  {
   "cell_type": "markdown",
   "metadata": {},
   "source": [
    "5. Recuperar los indices de todos los elementos no cero en el tensor `torch.Tensor([1,1,1,0,1])`."
   ]
  },
  {
   "cell_type": "code",
   "execution_count": 8,
   "metadata": {},
   "outputs": [
    {
     "data": {
      "text/plain": [
       "tensor([[0],\n",
       "        [1],\n",
       "        [2],\n",
       "        [4]])"
      ]
     },
     "execution_count": 8,
     "metadata": {},
     "output_type": "execute_result"
    }
   ],
   "source": [
    "e=torch.tensor([1,1,1,0,1])\n",
    "e.nonzero()"
   ]
  },
  {
   "cell_type": "markdown",
   "metadata": {},
   "source": [
    "6. Crear un tensor aleatorio de forma `(3,1)` y luego apilar cuatro copias horizontalmente."
   ]
  },
  {
   "cell_type": "code",
   "execution_count": 9,
   "metadata": {},
   "outputs": [
    {
     "data": {
      "text/plain": [
       "tensor([[[0.6887],\n",
       "         [0.1290],\n",
       "         [0.1486]],\n",
       "\n",
       "        [[0.6887],\n",
       "         [0.1290],\n",
       "         [0.1486]],\n",
       "\n",
       "        [[0.6887],\n",
       "         [0.1290],\n",
       "         [0.1486]],\n",
       "\n",
       "        [[0.6887],\n",
       "         [0.1290],\n",
       "         [0.1486]]])"
      ]
     },
     "execution_count": 9,
     "metadata": {},
     "output_type": "execute_result"
    }
   ],
   "source": [
    "f = torch.rand(3, 1)\n",
    "f = torch.stack([f, f, f, f])\n",
    "f"
   ]
  },
  {
   "cell_type": "markdown",
   "metadata": {},
   "source": [
    "7. Retornar el producto batch matrix-matrix de dos matrices 3D: (`a=torch.randn(3,4,5)`, `b=torch.rand(3,5,4)`)"
   ]
  },
  {
   "cell_type": "code",
   "execution_count": 10,
   "metadata": {},
   "outputs": [
    {
     "data": {
      "text/plain": [
       "tensor([[[1.8416, 2.2069, 2.0041, 0.8981],\n",
       "         [1.0662, 1.4985, 1.3724, 0.9402],\n",
       "         [1.1003, 1.3296, 1.6113, 0.7753],\n",
       "         [0.7391, 1.3698, 1.2983, 0.9349]],\n",
       "\n",
       "        [[1.5380, 1.6493, 1.0868, 1.5124],\n",
       "         [1.2288, 1.6396, 0.9091, 1.1154],\n",
       "         [1.4141, 1.1133, 1.0657, 0.9313],\n",
       "         [1.2130, 1.8728, 0.9698, 1.6129]],\n",
       "\n",
       "        [[0.8051, 1.4262, 2.2538, 1.0120],\n",
       "         [1.3039, 1.8601, 2.6732, 1.1664],\n",
       "         [0.8867, 1.2363, 1.7761, 0.7631],\n",
       "         [0.7220, 1.3290, 1.7226, 0.8052]]])"
      ]
     },
     "execution_count": 10,
     "metadata": {},
     "output_type": "execute_result"
    }
   ],
   "source": [
    "a=torch.rand(3,4,5)\n",
    "b=torch.rand(3,5,4)\n",
    "g= torch.bmm(a,b)\n",
    "g"
   ]
  },
  {
   "cell_type": "markdown",
   "metadata": {},
   "source": [
    "8. Retornar el producto batch matrix-matrix de una matriz 3D y una matriz 2D: (`a=torch.rand(3,4,5)`, `b=torch.rand(5,4)`)."
   ]
  },
  {
   "cell_type": "code",
   "execution_count": 11,
   "metadata": {},
   "outputs": [
    {
     "data": {
      "text/plain": [
       "tensor([[[1.6725, 1.4047, 1.3834, 1.9986],\n",
       "         [1.1697, 1.0838, 1.0485, 1.0516],\n",
       "         [1.5325, 1.4174, 1.5184, 1.7292],\n",
       "         [0.6990, 0.6049, 0.9849, 1.2010]],\n",
       "\n",
       "        [[1.2292, 1.1698, 1.5858, 1.8061],\n",
       "         [1.4920, 1.2780, 1.3298, 1.7678],\n",
       "         [1.3729, 0.8908, 0.6203, 1.3327],\n",
       "         [1.3327, 0.9294, 0.7175, 1.2093]],\n",
       "\n",
       "        [[0.8257, 0.7242, 0.9955, 1.1039],\n",
       "         [1.7232, 1.4118, 1.3107, 1.8797],\n",
       "         [1.2127, 1.0694, 0.9353, 1.2164],\n",
       "         [1.0588, 0.8371, 0.8498, 1.1486]]])"
      ]
     },
     "execution_count": 11,
     "metadata": {},
     "output_type": "execute_result"
    }
   ],
   "source": [
    "a=torch.rand(3,4,5)\n",
    "b=torch.rand(5,4)\n",
    "h= torch.bmm(a, b.expand(3,5,4))\n",
    "h"
   ]
  }
 ],
 "metadata": {
  "kernelspec": {
   "display_name": "Python 3",
   "language": "python",
   "name": "python3"
  },
  "language_info": {
   "codemirror_mode": {
    "name": "ipython",
    "version": 3
   },
   "file_extension": ".py",
   "mimetype": "text/x-python",
   "name": "python",
   "nbconvert_exporter": "python",
   "pygments_lexer": "ipython3",
   "version": "3.7.3"
  }
 },
 "nbformat": 4,
 "nbformat_minor": 4
}
