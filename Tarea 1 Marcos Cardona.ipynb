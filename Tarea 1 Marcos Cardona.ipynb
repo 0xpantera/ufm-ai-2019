{
 "cells": [
  {
   "cell_type": "markdown",
   "metadata": {},
   "source": [
    "##### Marcos Cardona 20160281\n",
    "\n",
    "# Tarea\n",
    "\n",
    "## Tipo de datos\n",
    "\n",
    "\n",
    "#### Float16\n",
    "32768 a 65536\n",
    "\n",
    "#### Float32\n",
    "-3.4E+38 a +3.4E+38\n",
    "\n",
    "#### Float64 \n",
    "-1.7E+308 a +1.7E+308\n",
    "\n",
    "#### UINT8 \n",
    "0 a 255\n",
    "\n",
    "#### INT 8\n",
    "-128 a 127\n",
    "\n",
    "#### INT 16\n",
    "–32768 a 32767\n",
    "\n",
    "#### INT 32\n",
    "–2147483648 a 2147483647\n",
    "\n",
    "#### INT 64\n",
    "-9223372036854775808 a 9223372036854775807\n",
    "\n",
    "\n",
    "#### INT vs UINT\n",
    "\n",
    "Los UINT son valores no asignados con el mismo numero de bits, UINT no reconoce valores negativos, entonces es \n",
    "de 0 a 255\n",
    "\n",
    "#### Python\n",
    "INT32 o INT64\n",
    "\n",
    "#### Pytorch\n",
    "INT64\n",
    "\n",
    "#### Numpy\n",
    "INT 64\n"
   ]
  },
  {
   "cell_type": "code",
   "execution_count": null,
   "metadata": {},
   "outputs": [],
   "source": []
  }
 ],
 "metadata": {
  "kernelspec": {
   "display_name": "Python 3",
   "language": "python",
   "name": "python3"
  },
  "language_info": {
   "codemirror_mode": {
    "name": "ipython",
    "version": 3
   },
   "file_extension": ".py",
   "mimetype": "text/x-python",
   "name": "python",
   "nbconvert_exporter": "python",
   "pygments_lexer": "ipython3",
   "version": "3.7.3"
  }
 },
 "nbformat": 4,
 "nbformat_minor": 2
}
