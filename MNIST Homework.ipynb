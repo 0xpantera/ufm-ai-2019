{
 "cells": [
  {
   "cell_type": "code",
   "execution_count": 1,
   "metadata": {},
   "outputs": [],
   "source": [
    "import torch\n",
    "import numpy as np\n",
    "from torchvision import datasets\n",
    "import torchvision.transforms as transforms\n",
    "import torch.nn as nn\n",
    "import torch.nn.functional as F"
   ]
  },
  {
   "cell_type": "code",
   "execution_count": 2,
   "metadata": {},
   "outputs": [],
   "source": [
    "transform = transforms.ToTensor()\n",
    "train_data = datasets.MNIST(root='data', train=True,\n",
    "                                   download=True, transform=transform)\n",
    "test_data = datasets.MNIST(root='data', train=False,\n",
    "                                  download=True, transform=transform)"
   ]
  },
  {
   "cell_type": "code",
   "execution_count": 3,
   "metadata": {},
   "outputs": [],
   "source": [
    "imgs = torch.stack([img_t for img_t, _ in train_data], dim=3)"
   ]
  },
  {
   "cell_type": "code",
   "execution_count": 4,
   "metadata": {},
   "outputs": [
    {
     "data": {
      "text/plain": [
       "torch.Size([1, 28, 28, 60000])"
      ]
     },
     "execution_count": 4,
     "metadata": {},
     "output_type": "execute_result"
    }
   ],
   "source": [
    "imgs.shape"
   ]
  },
  {
   "cell_type": "code",
   "execution_count": 5,
   "metadata": {},
   "outputs": [
    {
     "data": {
      "text/plain": [
       "tensor([0.1307])"
      ]
     },
     "execution_count": 5,
     "metadata": {},
     "output_type": "execute_result"
    }
   ],
   "source": [
    "imgs.view(1, -1).mean(dim=1)"
   ]
  },
  {
   "cell_type": "code",
   "execution_count": 6,
   "metadata": {},
   "outputs": [
    {
     "data": {
      "text/plain": [
       "tensor([0.3081])"
      ]
     },
     "execution_count": 6,
     "metadata": {},
     "output_type": "execute_result"
    }
   ],
   "source": [
    "imgs.view(1, -1).std(dim=1)"
   ]
  },
  {
   "cell_type": "code",
   "execution_count": 3,
   "metadata": {},
   "outputs": [],
   "source": [
    "train_data = datasets.MNIST(root='data', train=True,\n",
    "                                   download=True, transform=transforms.Compose([\n",
    "                                       transforms.ToTensor(),\n",
    "                                       transforms.Normalize((0.1307,),(0.3081,))\n",
    "                                   ]))\n",
    "test_data = datasets.MNIST(root='data', train=False,\n",
    "                                   download=True, transform=transforms.Compose([\n",
    "                                       transforms.ToTensor(),\n",
    "                                       transforms.Normalize((0.1307,),(0.3081,))\n",
    "                                    ]))"
   ]
  },
  {
   "cell_type": "code",
   "execution_count": 4,
   "metadata": {},
   "outputs": [],
   "source": [
    "train_loader = torch.utils.data.DataLoader(train_data, batch_size=100)\n",
    "test_loader = torch.utils.data.DataLoader(test_data, batch_size=100)"
   ]
  },
  {
   "cell_type": "code",
   "execution_count": 5,
   "metadata": {},
   "outputs": [
    {
     "data": {
      "text/plain": [
       "torch.Size([100, 1, 28, 28])"
      ]
     },
     "execution_count": 5,
     "metadata": {},
     "output_type": "execute_result"
    }
   ],
   "source": [
    "iter(train_loader).next()[0].size()"
   ]
  },
  {
   "cell_type": "code",
   "execution_count": 26,
   "metadata": {},
   "outputs": [],
   "source": [
    "# definir la arquitectura\n",
    "class ConvolutionalNN(nn.Module):\n",
    "    def __init__(self):\n",
    "        super(ConvolutionalNN, self).__init__()\n",
    "        ## convolutional layers ##\n",
    "        self.t_conv_1 = nn.Conv2d(1, 32, kernel_size = 3, padding = 1)\n",
    "        self.t_conv_2 = nn.Conv2d(32, 64, kernel_size = 3, padding = 1)\n",
    "        self.max_pool_1 = nn.MaxPool2d(kernel_size = 2, stride = 2)\n",
    "        self.max_pool_2 = nn.MaxPool2d(kernel_size = 2, stride = 2)\n",
    "        self.linear_1 = nn.Linear(64 * 7 * 7,2500)\n",
    "        self.linear_2 = nn.Linear(2500,10)\n",
    "\n",
    "    def forward(self, x):\n",
    "        ## NeuralNet ##\n",
    "        result = self.t_conv_1(x)\n",
    "        result = F.relu(result)\n",
    "        result = self.max_pool_1(result)\n",
    "        result = self.t_conv_2(result)\n",
    "        result = F.relu(result)\n",
    "        result = self.max_pool_2(result)\n",
    "        result = result.reshape(100, -1)\n",
    "        result = self.linear_1(result)\n",
    "        result = self.linear_2(result)\n",
    "        return result\n",
    "model = ConvolutionalNN()"
   ]
  },
  {
   "cell_type": "code",
   "execution_count": 28,
   "metadata": {},
   "outputs": [
    {
     "name": "stdout",
     "output_type": "stream",
     "text": [
      "Epoch [1/20], Step [100/600], Loss: 0.0365, Accuracy: 99.00%\n",
      "Epoch [1/20], Step [200/600], Loss: 0.0579, Accuracy: 98.00%\n",
      "Epoch [1/20], Step [300/600], Loss: 0.0854, Accuracy: 97.00%\n",
      "Epoch [1/20], Step [400/600], Loss: 0.0533, Accuracy: 99.00%\n",
      "Epoch [1/20], Step [500/600], Loss: 0.1461, Accuracy: 94.00%\n",
      "Epoch [1/20], Step [600/600], Loss: 0.2548, Accuracy: 95.00%\n",
      "Epoch [2/20], Step [100/600], Loss: 0.0103, Accuracy: 100.00%\n",
      "Epoch [2/20], Step [200/600], Loss: 0.0668, Accuracy: 98.00%\n",
      "Epoch [2/20], Step [300/600], Loss: 0.0661, Accuracy: 98.00%\n",
      "Epoch [2/20], Step [400/600], Loss: 0.0261, Accuracy: 99.00%\n",
      "Epoch [2/20], Step [500/600], Loss: 0.1068, Accuracy: 95.00%\n",
      "Epoch [2/20], Step [600/600], Loss: 0.2290, Accuracy: 99.00%\n",
      "Epoch [3/20], Step [100/600], Loss: 0.0073, Accuracy: 100.00%\n",
      "Epoch [3/20], Step [200/600], Loss: 0.0080, Accuracy: 99.00%\n",
      "Epoch [3/20], Step [300/600], Loss: 0.0146, Accuracy: 99.00%\n",
      "Epoch [3/20], Step [400/600], Loss: 0.0439, Accuracy: 98.00%\n",
      "Epoch [3/20], Step [500/600], Loss: 0.0380, Accuracy: 97.00%\n",
      "Epoch [3/20], Step [600/600], Loss: 0.1866, Accuracy: 99.00%\n",
      "Epoch [4/20], Step [100/600], Loss: 0.0014, Accuracy: 100.00%\n",
      "Epoch [4/20], Step [200/600], Loss: 0.0143, Accuracy: 99.00%\n",
      "Epoch [4/20], Step [300/600], Loss: 0.0405, Accuracy: 98.00%\n",
      "Epoch [4/20], Step [400/600], Loss: 0.0302, Accuracy: 98.00%\n",
      "Epoch [4/20], Step [500/600], Loss: 0.0186, Accuracy: 100.00%\n",
      "Epoch [4/20], Step [600/600], Loss: 0.2803, Accuracy: 96.00%\n",
      "Epoch [5/20], Step [100/600], Loss: 0.0015, Accuracy: 100.00%\n",
      "Epoch [5/20], Step [200/600], Loss: 0.0095, Accuracy: 99.00%\n",
      "Epoch [5/20], Step [300/600], Loss: 0.0021, Accuracy: 100.00%\n",
      "Epoch [5/20], Step [400/600], Loss: 0.0434, Accuracy: 99.00%\n",
      "Epoch [5/20], Step [500/600], Loss: 0.0489, Accuracy: 98.00%\n",
      "Epoch [5/20], Step [600/600], Loss: 0.2182, Accuracy: 99.00%\n",
      "Epoch [6/20], Step [100/600], Loss: 0.0124, Accuracy: 99.00%\n",
      "Epoch [6/20], Step [200/600], Loss: 0.0007, Accuracy: 100.00%\n",
      "Epoch [6/20], Step [300/600], Loss: 0.0035, Accuracy: 100.00%\n",
      "Epoch [6/20], Step [400/600], Loss: 0.0132, Accuracy: 99.00%\n",
      "Epoch [6/20], Step [500/600], Loss: 0.0196, Accuracy: 99.00%\n",
      "Epoch [6/20], Step [600/600], Loss: 0.2561, Accuracy: 99.00%\n",
      "Epoch [7/20], Step [100/600], Loss: 0.0044, Accuracy: 100.00%\n",
      "Epoch [7/20], Step [200/600], Loss: 0.0001, Accuracy: 100.00%\n",
      "Epoch [7/20], Step [300/600], Loss: 0.0551, Accuracy: 99.00%\n",
      "Epoch [7/20], Step [400/600], Loss: 0.0125, Accuracy: 99.00%\n",
      "Epoch [7/20], Step [500/600], Loss: 0.0527, Accuracy: 99.00%\n",
      "Epoch [7/20], Step [600/600], Loss: 0.2033, Accuracy: 99.00%\n",
      "Epoch [8/20], Step [100/600], Loss: 0.0001, Accuracy: 100.00%\n",
      "Epoch [8/20], Step [200/600], Loss: 0.0123, Accuracy: 99.00%\n",
      "Epoch [8/20], Step [300/600], Loss: 0.0008, Accuracy: 100.00%\n",
      "Epoch [8/20], Step [400/600], Loss: 0.0005, Accuracy: 100.00%\n",
      "Epoch [8/20], Step [500/600], Loss: 0.0202, Accuracy: 99.00%\n",
      "Epoch [8/20], Step [600/600], Loss: 0.2124, Accuracy: 97.00%\n",
      "Epoch [9/20], Step [100/600], Loss: 0.0001, Accuracy: 100.00%\n",
      "Epoch [9/20], Step [200/600], Loss: 0.0006, Accuracy: 100.00%\n",
      "Epoch [9/20], Step [300/600], Loss: 0.0020, Accuracy: 100.00%\n",
      "Epoch [9/20], Step [400/600], Loss: 0.0367, Accuracy: 99.00%\n",
      "Epoch [9/20], Step [500/600], Loss: 0.0075, Accuracy: 100.00%\n",
      "Epoch [9/20], Step [600/600], Loss: 0.1490, Accuracy: 99.00%\n",
      "Epoch [10/20], Step [100/600], Loss: 0.0499, Accuracy: 99.00%\n",
      "Epoch [10/20], Step [200/600], Loss: 0.0018, Accuracy: 100.00%\n",
      "Epoch [10/20], Step [300/600], Loss: 0.0005, Accuracy: 100.00%\n",
      "Epoch [10/20], Step [400/600], Loss: 0.0000, Accuracy: 100.00%\n",
      "Epoch [10/20], Step [500/600], Loss: 0.0759, Accuracy: 98.00%\n",
      "Epoch [10/20], Step [600/600], Loss: 0.1468, Accuracy: 98.00%\n",
      "Epoch [11/20], Step [100/600], Loss: 0.0008, Accuracy: 100.00%\n",
      "Epoch [11/20], Step [200/600], Loss: 0.0000, Accuracy: 100.00%\n",
      "Epoch [11/20], Step [300/600], Loss: 0.0002, Accuracy: 100.00%\n",
      "Epoch [11/20], Step [400/600], Loss: 0.0000, Accuracy: 100.00%\n",
      "Epoch [11/20], Step [500/600], Loss: 0.0577, Accuracy: 98.00%\n",
      "Epoch [11/20], Step [600/600], Loss: 0.0959, Accuracy: 99.00%\n",
      "Epoch [12/20], Step [100/600], Loss: 0.0010, Accuracy: 100.00%\n",
      "Epoch [12/20], Step [200/600], Loss: 0.0001, Accuracy: 100.00%\n",
      "Epoch [12/20], Step [300/600], Loss: 0.0529, Accuracy: 99.00%\n",
      "Epoch [12/20], Step [400/600], Loss: 0.0009, Accuracy: 100.00%\n",
      "Epoch [12/20], Step [500/600], Loss: 0.0047, Accuracy: 100.00%\n",
      "Epoch [12/20], Step [600/600], Loss: 0.1022, Accuracy: 99.00%\n",
      "Epoch [13/20], Step [100/600], Loss: 0.0008, Accuracy: 100.00%\n",
      "Epoch [13/20], Step [200/600], Loss: 0.0000, Accuracy: 100.00%\n",
      "Epoch [13/20], Step [300/600], Loss: 0.0649, Accuracy: 99.00%\n",
      "Epoch [13/20], Step [400/600], Loss: 0.0103, Accuracy: 99.00%\n",
      "Epoch [13/20], Step [500/600], Loss: 0.0456, Accuracy: 98.00%\n",
      "Epoch [13/20], Step [600/600], Loss: 0.0843, Accuracy: 99.00%\n",
      "Epoch [14/20], Step [100/600], Loss: 0.0038, Accuracy: 100.00%\n",
      "Epoch [14/20], Step [200/600], Loss: 0.0005, Accuracy: 100.00%\n",
      "Epoch [14/20], Step [300/600], Loss: 0.0033, Accuracy: 100.00%\n",
      "Epoch [14/20], Step [400/600], Loss: 0.0006, Accuracy: 100.00%\n",
      "Epoch [14/20], Step [500/600], Loss: 0.0052, Accuracy: 100.00%\n",
      "Epoch [14/20], Step [600/600], Loss: 0.1136, Accuracy: 99.00%\n",
      "Epoch [15/20], Step [100/600], Loss: 0.0001, Accuracy: 100.00%\n",
      "Epoch [15/20], Step [200/600], Loss: 0.0007, Accuracy: 100.00%\n",
      "Epoch [15/20], Step [300/600], Loss: 0.0009, Accuracy: 100.00%\n",
      "Epoch [15/20], Step [400/600], Loss: 0.0004, Accuracy: 100.00%\n",
      "Epoch [15/20], Step [500/600], Loss: 0.0113, Accuracy: 99.00%\n",
      "Epoch [15/20], Step [600/600], Loss: 0.0663, Accuracy: 98.00%\n",
      "Epoch [16/20], Step [100/600], Loss: 0.0031, Accuracy: 100.00%\n",
      "Epoch [16/20], Step [200/600], Loss: 0.0001, Accuracy: 100.00%\n",
      "Epoch [16/20], Step [300/600], Loss: 0.0001, Accuracy: 100.00%\n",
      "Epoch [16/20], Step [400/600], Loss: 0.0000, Accuracy: 100.00%\n",
      "Epoch [16/20], Step [500/600], Loss: 0.0068, Accuracy: 100.00%\n",
      "Epoch [16/20], Step [600/600], Loss: 0.0003, Accuracy: 100.00%\n",
      "Epoch [17/20], Step [100/600], Loss: 0.0014, Accuracy: 100.00%\n",
      "Epoch [17/20], Step [200/600], Loss: 0.0603, Accuracy: 99.00%\n",
      "Epoch [17/20], Step [300/600], Loss: 0.0060, Accuracy: 100.00%\n",
      "Epoch [17/20], Step [400/600], Loss: 0.0000, Accuracy: 100.00%\n",
      "Epoch [17/20], Step [500/600], Loss: 0.0303, Accuracy: 99.00%\n",
      "Epoch [17/20], Step [600/600], Loss: 0.0030, Accuracy: 100.00%\n",
      "Epoch [18/20], Step [100/600], Loss: 0.0474, Accuracy: 99.00%\n",
      "Epoch [18/20], Step [200/600], Loss: 0.0000, Accuracy: 100.00%\n",
      "Epoch [18/20], Step [300/600], Loss: 0.0330, Accuracy: 98.00%\n",
      "Epoch [18/20], Step [400/600], Loss: 0.0000, Accuracy: 100.00%\n",
      "Epoch [18/20], Step [500/600], Loss: 0.0102, Accuracy: 99.00%\n",
      "Epoch [18/20], Step [600/600], Loss: 0.1705, Accuracy: 99.00%\n",
      "Epoch [19/20], Step [100/600], Loss: 0.0000, Accuracy: 100.00%\n",
      "Epoch [19/20], Step [200/600], Loss: 0.0006, Accuracy: 100.00%\n",
      "Epoch [19/20], Step [300/600], Loss: 0.0002, Accuracy: 100.00%\n",
      "Epoch [19/20], Step [400/600], Loss: 0.0001, Accuracy: 100.00%\n",
      "Epoch [19/20], Step [500/600], Loss: 0.0035, Accuracy: 100.00%\n",
      "Epoch [19/20], Step [600/600], Loss: 0.0071, Accuracy: 100.00%\n",
      "Epoch [20/20], Step [100/600], Loss: 0.0001, Accuracy: 100.00%\n",
      "Epoch [20/20], Step [200/600], Loss: 0.0001, Accuracy: 100.00%\n",
      "Epoch [20/20], Step [300/600], Loss: 0.0000, Accuracy: 100.00%\n",
      "Epoch [20/20], Step [400/600], Loss: 0.0000, Accuracy: 100.00%\n",
      "Epoch [20/20], Step [500/600], Loss: 0.0014, Accuracy: 100.00%\n",
      "Epoch [20/20], Step [600/600], Loss: 0.0012, Accuracy: 100.00%\n"
     ]
    }
   ],
   "source": [
    "## TRAINING LOOP ##IMPORTANTE: SE PUEDE CARGAR EL ARCHIVO CON LA LINEA INFERIOR PARA EVITAR REENTRENAR EL MODELO TARDA \n",
    "##1 HORA Y 30 MINUTOS DE ENTRENAMIENTO\n",
    "n_epochs = 20\n",
    "criterion = nn.CrossEntropyLoss()\n",
    "optimizer = torch.optim.Adam(model.parameters(), lr=0.001)\n",
    "total_step = len(train_loader)\n",
    "loss_list = []\n",
    "acc_list = []\n",
    "for epoch in range(n_epochs):\n",
    "    for i, (images, labels) in enumerate(train_loader):\n",
    "        outputs = model(images)\n",
    "        loss = criterion(outputs, labels)\n",
    "        loss_list.append(loss.item())\n",
    "        optimizer.zero_grad()\n",
    "        loss.backward()\n",
    "        optimizer.step()\n",
    "        total = labels.size(0)\n",
    "        _, predicted = torch.max(outputs.data, 1)\n",
    "        correct = (predicted == labels).sum().item()\n",
    "        acc_list.append(correct / total)\n",
    "        if (i + 1) % 100 == 0:\n",
    "            print('Epoch [{}/{}], Step [{}/{}], Loss: {:.4f}, Accuracy: {:.2f}%'\n",
    "                  .format(epoch + 1, n_epochs, i + 1, total_step, loss.item(),\n",
    "                          (correct / total) * 100))"
   ]
  },
  {
   "cell_type": "code",
   "execution_count": 30,
   "metadata": {},
   "outputs": [
    {
     "name": "stdout",
     "output_type": "stream",
     "text": [
      "Test Accuracy: 98.79 %\n"
     ]
    }
   ],
   "source": [
    "model.eval() \n",
    "with torch.no_grad():\n",
    "    correct = 0\n",
    "    total = 0\n",
    "    for images, labels in test_loader:\n",
    "        outputs = model(images)\n",
    "        _, predicted = torch.max(outputs.data, 1)\n",
    "        total += labels.size(0)\n",
    "        correct += (predicted == labels).sum().item()\n",
    "    print('Test Accuracy: {} %'.format((correct / total) * 100))"
   ]
  },
  {
   "cell_type": "code",
   "execution_count": 29,
   "metadata": {},
   "outputs": [],
   "source": [
    "#GUARDAR EL ESTADO\n",
    "#torch.save(model.state_dict(),'conv_net_model.ckpt')"
   ]
  },
  {
   "cell_type": "code",
   "execution_count": null,
   "metadata": {},
   "outputs": [],
   "source": [
    "#CARGAR EL MODELO\n",
    "##Utilizar esta linea para cargar el modelo\n",
    "model = ConvolutionalNN()\n",
    "model.load_state_dict(torch.load('conv_net_model.ckpt'))\n",
    "model.eval()"
   ]
  }
 ],
 "metadata": {
  "kernelspec": {
   "display_name": "Python 3",
   "language": "python",
   "name": "python3"
  },
  "language_info": {
   "codemirror_mode": {
    "name": "ipython",
    "version": 3
   },
   "file_extension": ".py",
   "mimetype": "text/x-python",
   "name": "python",
   "nbconvert_exporter": "python",
   "pygments_lexer": "ipython3",
   "version": "3.7.3"
  }
 },
 "nbformat": 4,
 "nbformat_minor": 2
}
