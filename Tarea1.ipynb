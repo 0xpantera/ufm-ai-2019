{
 "cells": [
  {
   "cell_type": "markdown",
   "metadata": {},
   "source": [
    "# Tarea 1 \n",
    "\n",
    "31 julio 2019\n",
    "AI\n",
    "Paula Cintron 20160090"
   ]
  },
  {
   "cell_type": "markdown",
   "metadata": {},
   "source": [
    "**¿Cuál es el rango de valores que cada uno de estos tipos puede representar?**\n",
    "\n",
    "El rango de valores de cada tipo de datos varia desde números negativos a numeros positivos en el caso de los números con firma. Los sin firma, van de rangos desde 0 a n. \n",
    "\n",
    "- float 32: 3.4E-38 a 3.4+38 \n",
    "- int 32: -2147483648 a 2147483647\n",
    "- uint 32: 0 a 4294967295\n",
    "- int 16: -32768 a 32767\n",
    "- uint 16: 0 a 65535\n",
    "\n",
    "funete: http://decsai.ugr.es/~jfv/ed1/c/cdrom/cap2/cap24.htm"
   ]
  },
  {
   "cell_type": "markdown",
   "metadata": {},
   "source": [
    "**¿Cuál es la diferencia entre un Int y un uint?**\n",
    "\n",
    "Los tipos de datos que tienen u al principio, contienen el mismo tamaño de bits pero no pueden almacenar números negativos. Solo almacenan números positivos dos veces más grandes que los números *int*.\n",
    "\n",
    "Fuente: https://codeday.me/es/qa/20181228/49148.html\n"
   ]
  },
  {
   "cell_type": "markdown",
   "metadata": {},
   "source": [
    "**¿Cuál es el tipo default que utiliza base python, numpy, pytorch?**\n",
    "\n",
    "- python: int, números con firma.\n",
    "- numpy: int, números con firma.\n",
    "- pytorch: int, números con firma. \n"
   ]
  },
  {
   "cell_type": "code",
   "execution_count": null,
   "metadata": {},
   "outputs": [],
   "source": []
  }
 ],
 "metadata": {
  "kernelspec": {
   "display_name": "Python 3",
   "language": "python",
   "name": "python3"
  },
  "language_info": {
   "codemirror_mode": {
    "name": "ipython",
    "version": 3
   },
   "file_extension": ".py",
   "mimetype": "text/x-python",
   "name": "python",
   "nbconvert_exporter": "python",
   "pygments_lexer": "ipython3",
   "version": "3.7.3"
  }
 },
 "nbformat": 4,
 "nbformat_minor": 2
}
