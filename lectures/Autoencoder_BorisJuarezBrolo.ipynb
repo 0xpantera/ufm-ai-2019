{
 "cells": [
  {
   "cell_type": "markdown",
   "metadata": {},
   "source": [
    "# Autoencoders"
   ]
  },
  {
   "cell_type": "markdown",
   "metadata": {},
   "source": [
    "* Una red neuronal compuesta por dos partes:\n",
    "    * Un _encoder_ network que comprime input data de alta dimension a una representacion vectorial de baja dimension\n",
    "    * Un _decoder_ network que decomprime una representacion vectorial dada de regreso al dominio original"
   ]
  },
  {
   "cell_type": "markdown",
   "metadata": {},
   "source": [
    "![Diagrama de Autoencoder](../assets/autoencoder.png)"
   ]
  },
  {
   "cell_type": "markdown",
   "metadata": {},
   "source": [
    "* La red esta entrenada para encontrar los pesos para el encoder y decoder que minimizan el loss entre\n",
    "    * el input original\n",
    "    * la reconstruccion del input\n",
    "* El vector de representacion es una compresion de la imagen original a un espacio latente con baja dimensionalidad.\n",
    "* La idea es que al escoger _cualquier_ punto en el espacio latente, deberiamos poder generar imagenes nuevas al pasar este punto a traves del decoder.\n",
    "    * Porque el decoder aprendio el mapa: puntos en espacio latente -> imagenes viables"
   ]
  },
  {
   "cell_type": "markdown",
   "metadata": {},
   "source": [
    "Vamos a empezar construyendo un autoencoder simple para comprimir el dataset de MNIST. Con autoencoders, pasamos input data a traves del encoder que crea la representacion comprimida del input. Luego, esta representacion pasa a traves del decoder para reconstruir la data de input. Generalmente el encoder y decoder se construyen usando NNs, luego se entrenan en data de ejemplos."
   ]
  },
  {
   "cell_type": "markdown",
   "metadata": {},
   "source": [
    "## Representacion comprimida"
   ]
  },
  {
   "cell_type": "markdown",
   "metadata": {},
   "source": [
    "Una representacion comprimida puede ser buena para guardar y compartir cualquier tipo de data en una forma que sea mas eficiente que guardar la data cruda. En la practica, la representacion comprimida contiene informacion clave sobre la imagen de input y la podemos usar para reconstruir, denoising y otras transformaciones.\n",
    "\n",
    "En este notebook vamos a construir una simple NN para el encoder y decoder."
   ]
  },
  {
   "cell_type": "code",
   "execution_count": 1,
   "metadata": {},
   "outputs": [
    {
     "name": "stdout",
     "output_type": "stream",
     "text": [
      "Downloading http://yann.lecun.com/exdb/mnist/train-images-idx3-ubyte.gz to data\\MNIST\\raw\\train-images-idx3-ubyte.gz\n"
     ]
    },
    {
     "name": "stderr",
     "output_type": "stream",
     "text": [
      "100%|█████████▉| 9904128/9912422 [02:18<00:00, 117483.25it/s]"
     ]
    },
    {
     "name": "stdout",
     "output_type": "stream",
     "text": [
      "Extracting data\\MNIST\\raw\\train-images-idx3-ubyte.gz\n",
      "Downloading http://yann.lecun.com/exdb/mnist/train-labels-idx1-ubyte.gz to data\\MNIST\\raw\\train-labels-idx1-ubyte.gz\n"
     ]
    },
    {
     "name": "stderr",
     "output_type": "stream",
     "text": [
      "\n",
      "0it [00:00, ?it/s]\n",
      "  0%|          | 0/28881 [00:00<?, ?it/s]\n",
      "32768it [00:00, 113296.12it/s]           \n"
     ]
    },
    {
     "name": "stdout",
     "output_type": "stream",
     "text": [
      "Extracting data\\MNIST\\raw\\train-labels-idx1-ubyte.gz\n",
      "Downloading http://yann.lecun.com/exdb/mnist/t10k-images-idx3-ubyte.gz to data\\MNIST\\raw\\t10k-images-idx3-ubyte.gz\n"
     ]
    },
    {
     "name": "stderr",
     "output_type": "stream",
     "text": [
      "\n",
      "0it [00:00, ?it/s]\n",
      "  0%|          | 0/1648877 [00:00<?, ?it/s]\n",
      "  2%|▏         | 32768/1648877 [00:00<00:07, 204526.21it/s]\n",
      "  4%|▍         | 65536/1648877 [00:00<00:08, 180933.27it/s]\n",
      "  6%|▌         | 98304/1648877 [00:00<00:07, 197802.84it/s]\n",
      "  7%|▋         | 114688/1648877 [00:00<00:10, 150193.24it/s]\n",
      "  8%|▊         | 139264/1648877 [00:00<00:09, 163389.26it/s]\n",
      " 10%|▉         | 163840/1648877 [00:01<00:08, 166667.48it/s]\n",
      " 11%|█         | 180224/1648877 [00:01<00:14, 99431.89it/s] \n",
      " 12%|█▏        | 196608/1648877 [00:02<00:36, 39683.30it/s]\n",
      " 13%|█▎        | 212992/1648877 [00:02<00:38, 37119.69it/s]\n",
      " 13%|█▎        | 221184/1648877 [00:03<00:43, 32560.28it/s]\n",
      " 14%|█▍        | 229376/1648877 [00:04<01:13, 19218.36it/s]\n",
      " 14%|█▍        | 237568/1648877 [00:04<00:58, 24160.79it/s]\n",
      " 15%|█▍        | 245760/1648877 [00:04<00:47, 29619.56it/s]\n",
      " 16%|█▌        | 262144/1648877 [00:05<01:04, 21528.99it/s]\n",
      " 16%|█▋        | 270336/1648877 [00:05<00:51, 26961.93it/s]\n",
      " 17%|█▋        | 278528/1648877 [00:06<01:07, 20265.16it/s]\n",
      " 17%|█▋        | 286720/1648877 [00:06<00:53, 25454.81it/s]\n",
      " 18%|█▊        | 294912/1648877 [00:06<00:53, 25272.55it/s]\n",
      "9920512it [02:30, 117483.25it/s]                             \n",
      " 19%|█▉        | 311296/1648877 [00:08<01:08, 19466.88it/s]\n",
      " 19%|█▉        | 319488/1648877 [00:08<00:54, 24496.47it/s]\n",
      " 20%|██        | 335872/1648877 [00:08<00:44, 29392.14it/s]\n",
      " 21%|██        | 344064/1648877 [00:08<00:48, 27027.97it/s]\n",
      " 21%|██▏       | 352256/1648877 [00:09<01:08, 18969.24it/s]\n",
      " 22%|██▏       | 360448/1648877 [00:09<01:04, 19978.78it/s]\n",
      " 22%|██▏       | 368640/1648877 [00:10<00:59, 21535.93it/s]\n",
      " 23%|██▎       | 376832/1648877 [00:10<01:05, 19464.71it/s]\n",
      " 23%|██▎       | 385024/1648877 [00:11<01:19, 15838.86it/s]\n",
      " 24%|██▍       | 393216/1648877 [00:12<01:34, 13233.42it/s]\n",
      " 24%|██▍       | 401408/1648877 [00:12<01:12, 17152.26it/s]\n",
      " 25%|██▍       | 409600/1648877 [00:12<00:57, 21669.32it/s]\n",
      " 26%|██▌       | 425984/1648877 [00:12<00:44, 27344.28it/s]\n",
      " 27%|██▋       | 442368/1648877 [00:12<00:33, 35581.16it/s]\n",
      " 28%|██▊       | 458752/1648877 [00:13<00:26, 44934.38it/s]\n",
      " 29%|██▉       | 475136/1648877 [00:13<00:25, 46765.17it/s]\n",
      " 29%|██▉       | 483328/1648877 [00:13<00:30, 37667.61it/s]\n",
      " 30%|███       | 499712/1648877 [00:14<00:37, 30429.27it/s]\n",
      " 31%|███       | 507904/1648877 [00:15<00:49, 22947.80it/s]\n",
      " 31%|███▏      | 516096/1648877 [00:15<00:39, 28529.33it/s]\n",
      " 32%|███▏      | 524288/1648877 [00:15<00:35, 31797.01it/s]\n",
      " 32%|███▏      | 532480/1648877 [00:15<00:43, 25419.36it/s]\n",
      " 33%|███▎      | 540672/1648877 [00:17<01:29, 12351.36it/s]\n",
      " 33%|███▎      | 548864/1648877 [00:17<01:26, 12660.52it/s]\n",
      " 34%|███▍      | 557056/1648877 [00:18<01:14, 14725.77it/s]\n",
      " 34%|███▍      | 565248/1648877 [00:18<00:58, 18530.88it/s]\n",
      " 35%|███▍      | 573440/1648877 [00:18<00:50, 21260.34it/s]\n",
      " 35%|███▌      | 581632/1648877 [00:18<00:40, 26102.30it/s]\n",
      " 36%|███▌      | 589824/1648877 [00:19<00:40, 26163.02it/s]\n",
      " 37%|███▋      | 606208/1648877 [00:19<00:31, 32701.54it/s]\n",
      " 37%|███▋      | 614400/1648877 [00:19<00:35, 29540.67it/s]\n",
      " 38%|███▊      | 622592/1648877 [00:19<00:29, 35020.84it/s]\n",
      " 39%|███▉      | 638976/1648877 [00:20<00:29, 33673.82it/s]\n",
      " 39%|███▉      | 647168/1648877 [00:20<00:27, 35974.65it/s]\n",
      " 40%|███▉      | 655360/1648877 [00:20<00:24, 41246.56it/s]\n",
      " 41%|████      | 671744/1648877 [00:20<00:18, 51919.50it/s]\n",
      " 41%|████      | 679936/1648877 [00:20<00:18, 53755.06it/s]\n",
      " 43%|████▎     | 704512/1648877 [00:21<00:16, 58228.35it/s]\n",
      " 43%|████▎     | 712704/1648877 [00:22<00:34, 27088.75it/s]\n",
      " 44%|████▎     | 720896/1648877 [00:23<01:04, 14465.20it/s]\n",
      " 44%|████▍     | 729088/1648877 [00:23<00:57, 15970.79it/s]\n",
      " 45%|████▍     | 737280/1648877 [00:24<01:06, 13789.57it/s]\n",
      " 45%|████▌     | 745472/1648877 [00:24<00:57, 15804.76it/s]\n",
      " 46%|████▌     | 753664/1648877 [00:25<00:49, 18097.94it/s]\n",
      " 46%|████▌     | 761856/1648877 [00:25<00:42, 20687.65it/s]\n",
      " 47%|████▋     | 778240/1648877 [00:25<00:31, 27533.92it/s]\n",
      " 48%|████▊     | 786432/1648877 [00:25<00:25, 33768.23it/s]\n",
      " 49%|████▊     | 802816/1648877 [00:25<00:20, 42090.72it/s]\n",
      " 49%|████▉     | 811008/1648877 [00:25<00:22, 36536.67it/s]\n",
      " 50%|█████     | 827392/1648877 [00:26<00:17, 46718.58it/s]\n",
      " 51%|█████     | 843776/1648877 [00:26<00:14, 56832.39it/s]\n",
      " 52%|█████▏    | 860160/1648877 [00:26<00:11, 66561.66it/s]\n",
      " 53%|█████▎    | 876544/1648877 [00:26<00:12, 62327.64it/s]\n",
      " 54%|█████▍    | 892928/1648877 [00:26<00:10, 71810.34it/s]\n",
      " 55%|█████▌    | 909312/1648877 [00:27<00:09, 79505.68it/s]\n",
      " 56%|█████▌    | 925696/1648877 [00:27<00:08, 90038.92it/s]\n",
      " 57%|█████▋    | 942080/1648877 [00:27<00:09, 74916.99it/s]\n",
      " 58%|█████▊    | 958464/1648877 [00:27<00:07, 88641.38it/s]\n",
      " 59%|█████▉    | 974848/1648877 [00:28<00:12, 55127.00it/s]\n",
      " 60%|██████    | 991232/1648877 [00:28<00:13, 48883.77it/s]\n",
      " 61%|██████    | 999424/1648877 [00:28<00:14, 44027.83it/s]\n",
      " 62%|██████▏   | 1015808/1648877 [00:28<00:12, 50157.50it/s]\n",
      " 62%|██████▏   | 1024000/1648877 [00:29<00:11, 55608.96it/s]\n",
      " 63%|██████▎   | 1032192/1648877 [00:29<00:12, 47875.06it/s]\n",
      " 63%|██████▎   | 1040384/1648877 [00:29<00:14, 40780.06it/s]\n",
      " 64%|██████▎   | 1048576/1648877 [00:30<00:21, 27911.15it/s]\n",
      " 64%|██████▍   | 1056768/1648877 [00:30<00:17, 33379.21it/s]\n",
      " 65%|██████▍   | 1064960/1648877 [00:32<00:53, 11003.64it/s]\n",
      " 66%|██████▌   | 1089536/1648877 [00:32<00:36, 15284.96it/s]\n",
      " 67%|██████▋   | 1097728/1648877 [00:32<00:29, 18646.22it/s]\n",
      " 67%|██████▋   | 1105920/1648877 [00:32<00:26, 20167.86it/s]\n",
      " 68%|██████▊   | 1122304/1648877 [00:33<00:21, 24637.95it/s]\n",
      " 69%|██████▊   | 1130496/1648877 [00:33<00:17, 30151.14it/s]\n",
      " 69%|██████▉   | 1138688/1648877 [00:33<00:17, 28662.35it/s]\n",
      " 70%|██████▉   | 1146880/1648877 [00:34<00:34, 14537.92it/s]\n",
      " 70%|███████   | 1155072/1648877 [00:35<00:28, 17626.15it/s]\n",
      " 71%|███████   | 1163264/1648877 [00:35<00:21, 22419.00it/s]\n",
      " 71%|███████   | 1171456/1648877 [00:35<00:17, 27546.31it/s]\n",
      " 72%|███████▏  | 1187840/1648877 [00:35<00:12, 35558.90it/s]\n",
      " 73%|███████▎  | 1196032/1648877 [00:36<00:24, 18449.47it/s]\n",
      " 74%|███████▍  | 1220608/1648877 [00:36<00:17, 24267.38it/s]\n",
      " 75%|███████▍  | 1228800/1648877 [00:37<00:18, 22385.07it/s]\n",
      " 75%|███████▌  | 1236992/1648877 [00:37<00:14, 27559.51it/s]\n",
      " 76%|███████▌  | 1245184/1648877 [00:37<00:20, 20142.73it/s]\n",
      " 76%|███████▌  | 1253376/1648877 [00:39<00:31, 12658.07it/s]\n",
      " 77%|███████▋  | 1261568/1648877 [00:39<00:24, 15872.85it/s]\n",
      " 77%|███████▋  | 1269760/1648877 [00:39<00:18, 20465.97it/s]\n",
      " 78%|███████▊  | 1286144/1648877 [00:39<00:13, 27269.72it/s]\n",
      " 79%|███████▉  | 1302528/1648877 [00:39<00:10, 31809.43it/s]\n",
      " 80%|███████▉  | 1318912/1648877 [00:40<00:12, 26615.29it/s]\n",
      " 81%|████████  | 1335296/1648877 [00:41<00:13, 23344.93it/s]\n",
      " 82%|████████▏ | 1351680/1648877 [00:41<00:09, 30900.16it/s]\n",
      " 82%|████████▏ | 1359872/1648877 [00:41<00:07, 36625.81it/s]\n",
      " 83%|████████▎ | 1368064/1648877 [00:42<00:07, 39464.41it/s]\n",
      " 83%|████████▎ | 1376256/1648877 [00:42<00:05, 45930.27it/s]\n",
      " 84%|████████▍ | 1392640/1648877 [00:42<00:04, 56607.11it/s]\n",
      " 85%|████████▌ | 1409024/1648877 [00:42<00:03, 62573.79it/s]\n",
      " 86%|████████▋ | 1425408/1648877 [00:42<00:03, 61116.47it/s]\n",
      " 87%|████████▋ | 1441792/1648877 [00:42<00:02, 70663.81it/s]\n",
      " 88%|████████▊ | 1458176/1648877 [00:43<00:02, 73713.05it/s]\n",
      " 89%|████████▉ | 1474560/1648877 [00:43<00:02, 62114.31it/s]\n",
      " 90%|█████████ | 1490944/1648877 [00:43<00:03, 51145.86it/s]\n",
      " 91%|█████████▏| 1507328/1648877 [00:44<00:02, 55468.56it/s]\n",
      " 92%|█████████▏| 1515520/1648877 [00:44<00:02, 57518.01it/s]\n",
      " 92%|█████████▏| 1523712/1648877 [00:44<00:02, 58731.11it/s]\n",
      " 93%|█████████▎| 1531904/1648877 [00:44<00:02, 41610.67it/s]\n",
      " 93%|█████████▎| 1540096/1648877 [00:45<00:02, 36901.25it/s]\n",
      " 94%|█████████▍| 1548288/1648877 [00:45<00:02, 38765.00it/s]\n",
      " 94%|█████████▍| 1556480/1648877 [00:45<00:02, 43530.41it/s]\n",
      " 95%|█████████▍| 1564672/1648877 [00:45<00:02, 41401.33it/s]\n",
      " 96%|█████████▌| 1581056/1648877 [00:45<00:01, 50916.51it/s]\n",
      " 96%|█████████▋| 1589248/1648877 [00:46<00:01, 39492.78it/s]\n",
      " 98%|█████████▊| 1613824/1648877 [00:46<00:00, 51133.02it/s]\n",
      " 99%|█████████▉| 1630208/1648877 [00:46<00:00, 57666.28it/s]\n",
      "100%|█████████▉| 1646592/1648877 [00:46<00:00, 67670.30it/s]"
     ]
    },
    {
     "name": "stdout",
     "output_type": "stream",
     "text": [
      "Extracting data\\MNIST\\raw\\t10k-images-idx3-ubyte.gz\n",
      "Downloading http://yann.lecun.com/exdb/mnist/t10k-labels-idx1-ubyte.gz to data\\MNIST\\raw\\t10k-labels-idx1-ubyte.gz\n"
     ]
    },
    {
     "name": "stderr",
     "output_type": "stream",
     "text": [
      "\n",
      "\n",
      "0it [00:00, ?it/s]\n",
      "\n",
      "8192it [00:00, 54148.37it/s]            \n"
     ]
    },
    {
     "name": "stdout",
     "output_type": "stream",
     "text": [
      "Extracting data\\MNIST\\raw\\t10k-labels-idx1-ubyte.gz\n",
      "Processing...\n",
      "Done!\n"
     ]
    }
   ],
   "source": [
    "import torch\n",
    "import numpy as np\n",
    "from torchvision import datasets\n",
    "import torchvision.transforms as transforms\n",
    "\n",
    "# convertira data a torch.FloatTensor\n",
    "transform = transforms.ToTensor()\n",
    "\n",
    "# cargar los datasets de training y test\n",
    "train_data = datasets.MNIST(root='data', train=True,\n",
    "                                   download=True, transform=transform)\n",
    "test_data = datasets.MNIST(root='data', train=False,\n",
    "                                  download=True, transform=transform)"
   ]
  },
  {
   "cell_type": "code",
   "execution_count": 2,
   "metadata": {},
   "outputs": [],
   "source": [
    "# Crear los dataloaders para training y test\n",
    "# numero de subprocesses para usar para cargar la data\n",
    "num_workers = 0\n",
    "# numero de muestras por batch para cargar\n",
    "batch_size = 20\n",
    "\n",
    "# data loaders\n",
    "train_loader = torch.utils.data.DataLoader(train_data, batch_size=batch_size, num_workers=num_workers)\n",
    "test_loader = torch.utils.data.DataLoader(test_data, batch_size=batch_size, num_workers=num_workers)"
   ]
  },
  {
   "cell_type": "markdown",
   "metadata": {},
   "source": [
    "### Visualizar la data"
   ]
  },
  {
   "cell_type": "code",
   "execution_count": 3,
   "metadata": {},
   "outputs": [
    {
     "name": "stderr",
     "output_type": "stream",
     "text": [
      "\n",
      "1654784it [00:58, 67670.30it/s]                             "
     ]
    },
    {
     "data": {
      "text/plain": [
       "<matplotlib.image.AxesImage at 0x226559fccf8>"
      ]
     },
     "execution_count": 3,
     "metadata": {},
     "output_type": "execute_result"
    },
    {
     "data": {
      "image/png": "[encoded data removed]",
      "text/plain": [
       "<Figure size 360x360 with 1 Axes>"
      ]
     },
     "metadata": {
      "needs_background": "light"
     },
     "output_type": "display_data"
    }
   ],
   "source": [
    "import matplotlib.pyplot as plt\n",
    "%matplotlib inline\n",
    "    \n",
    "dataiter = iter(train_loader)\n",
    "images, labels = dataiter.next()\n",
    "images = images.numpy()\n",
    "\n",
    "img = np.squeeze(images[0])\n",
    "\n",
    "fig = plt.figure(figsize = (5,5)) \n",
    "ax = fig.add_subplot(111)\n",
    "ax.imshow(img, cmap='gray')"
   ]
  },
  {
   "cell_type": "markdown",
   "metadata": {},
   "source": [
    "## Autoencoder lineal\n",
    "\n",
    "Vamos a entrenar un autoencoder con estas imagenes aplanandolas a vectores de largo 784. Las imagenes de este dataset ya estan normalizadas para que sus valores esten entre 1 y 0. El encoder y decoder deberian estar hechos de **una capa lineal**. Las unidades que conectan el encoder y decoder van a ser la _representacion comprimida_.\n",
    "\n",
    "Como las imagenes estan normalizadas, necesitamos usar una activacion **sigmoid** en la capa de output para obtener valores que se encuentren en el mismo rango que el input.\n",
    "\n",
    "**TODO: Construir el autoencoder en la celda de abajo**\n",
    "> Las imagenes de input deben ser aplanadas a vectores de 784. Los targets son los mismos que los inputs. El encoder y el decoder van a estar hechos de dos capas lineales cada uno. La profundidad de las dimensiones deben cambiar de la siguiente forma: 784 inputs -> **encoding_dims** -> 784 outputs. Todas las capas deben tener activaciones ReLu aplicadas excepto por la capa final que debe ser un sigmoid\n",
    "\n",
    "**La representacion comprimida debe ser un vector con dimension `encoding_dim=32`**"
   ]
  },
  {
   "cell_type": "code",
   "execution_count": 4,
   "metadata": {},
   "outputs": [
    {
     "name": "stdout",
     "output_type": "stream",
     "text": [
      "Autoencoder(\n",
      "  (fc1): Linear(in_features=784, out_features=32, bias=True)\n",
      "  (fc2): Linear(in_features=32, out_features=784, bias=True)\n",
      ")\n"
     ]
    }
   ],
   "source": [
    "import torch.nn as nn\n",
    "import torch.nn.functional as F\n",
    "\n",
    "# Definir arquitectura\n",
    "class Autoencoder(nn.Module):\n",
    "    def __init__(self, encoding_dim):\n",
    "        super(Autoencoder, self).__init__()\n",
    "        ## encoder ##\n",
    "        # linear layer (784 -> encoding_dim)\n",
    "        self.fc1 = nn.Linear(28 * 28, encoding_dim)\n",
    "        \n",
    "        ## decoder ##\n",
    "        # linear layer (encoding_dim -> input size)\n",
    "        self.fc2 = nn.Linear(encoding_dim, 28*28)\n",
    "        \n",
    "        \n",
    "\n",
    "    def forward(self, x):\n",
    "        # definir feedforward\n",
    "        x = F.relu(self.fc1(x))\n",
    "        # aplicar sigmoid al output layer\n",
    "        x = F.sigmoid(self.fc2(x))\n",
    "        \n",
    "        return x\n",
    "\n",
    "# inicializar NN\n",
    "encoding_dim = 32\n",
    "model = Autoencoder(encoding_dim)\n",
    "print(model)"
   ]
  },
  {
   "cell_type": "markdown",
   "metadata": {},
   "source": [
    "### Entrenamiento"
   ]
  },
  {
   "cell_type": "markdown",
   "metadata": {},
   "source": [
    "El resto es codigo para entrenamiento, deberia resultarles familiar. En este caso no nos interesa mucho la validacion, asi que solo vamos a monitorear el training loss y el test loss.\n",
    "\n",
    "Tampoco nos preocupamos por los labels en este caso. Como estamos comparando valores de pixeles en las imagenes de input y output, lo mejor es usar una los que sea util para tareas de regresion. La regresion se utiliza para comparar _cantidades_ en vez de valores probabilisticos. En este caso vamos a usar `MSELoss`. "
   ]
  },
  {
   "cell_type": "code",
   "execution_count": 5,
   "metadata": {},
   "outputs": [],
   "source": [
    "# especificar loss function\n",
    "criterion = nn.MSELoss()\n",
    "\n",
    "# especificar optimizador\n",
    "optimizer = torch.optim.Adam(model.parameters(), lr=0.001)"
   ]
  },
  {
   "cell_type": "code",
   "execution_count": 6,
   "metadata": {},
   "outputs": [
    {
     "name": "stderr",
     "output_type": "stream",
     "text": [
      "C:\\Users\\ajuar\\Miniconda3\\envs\\ai\\lib\\site-packages\\torch\\nn\\functional.py:1386: UserWarning: nn.functional.sigmoid is deprecated. Use torch.sigmoid instead.\n",
      "  warnings.warn(\"nn.functional.sigmoid is deprecated. Use torch.sigmoid instead.\")\n"
     ]
    },
    {
     "name": "stdout",
     "output_type": "stream",
     "text": [
      "Epoch: 1 \tTraining Loss: 0.681662\n",
      "Epoch: 2 \tTraining Loss: 0.350823\n",
      "Epoch: 3 \tTraining Loss: 0.308606\n",
      "Epoch: 4 \tTraining Loss: 0.298858\n",
      "Epoch: 5 \tTraining Loss: 0.294545\n",
      "Epoch: 6 \tTraining Loss: 0.292122\n",
      "Epoch: 7 \tTraining Loss: 0.290748\n",
      "Epoch: 8 \tTraining Loss: 0.289797\n",
      "Epoch: 9 \tTraining Loss: 0.288998\n",
      "Epoch: 10 \tTraining Loss: 0.288314\n",
      "Epoch: 11 \tTraining Loss: 0.287726\n",
      "Epoch: 12 \tTraining Loss: 0.287184\n",
      "Epoch: 13 \tTraining Loss: 0.286666\n",
      "Epoch: 14 \tTraining Loss: 0.286162\n",
      "Epoch: 15 \tTraining Loss: 0.285713\n",
      "Epoch: 16 \tTraining Loss: 0.285208\n",
      "Epoch: 17 \tTraining Loss: 0.284758\n",
      "Epoch: 18 \tTraining Loss: 0.284362\n",
      "Epoch: 19 \tTraining Loss: 0.283982\n",
      "Epoch: 20 \tTraining Loss: 0.283618\n"
     ]
    }
   ],
   "source": [
    "# numero de epochs para entrenar el modelo\n",
    "n_epochs = 20\n",
    "\n",
    "for epoch in range(1, n_epochs+1):\n",
    "    # training loss\n",
    "    train_loss = 0.0\n",
    "    \n",
    "    ######################\n",
    "    # entrenar el modelo #\n",
    "    ######################\n",
    "    for data in train_loader:\n",
    "        # _ para los labels (como no nos interesan)\n",
    "        images, _ = data\n",
    "        # aplanar imagenes\n",
    "        images = images.view(images.size(0), -1)\n",
    "        # limpiar las gradientes de todas las variables optimizadas\n",
    "        optimizer.zero_grad()\n",
    "        # forward pass: calcular valores predecidos\n",
    "        outputs = model(images)\n",
    "        # calcular el loss\n",
    "        loss = criterion(outputs, images)\n",
    "        # backward pass: calcular gradiente del los con respecto al modelo\n",
    "        loss.backward()\n",
    "        # realizar un unico paso de optimizacion (actualizar parametros)\n",
    "        optimizer.step()\n",
    "        # actualizar training loss acumulado\n",
    "        train_loss += loss.item()*images.size(0)\n",
    "            \n",
    "    # print estadisticas de entrenamiento\n",
    "    train_loss = train_loss/len(train_loader)\n",
    "    print('Epoch: {} \\tTraining Loss: {:.6f}'.format(\n",
    "        epoch, \n",
    "        train_loss\n",
    "        ))"
   ]
  },
  {
   "cell_type": "markdown",
   "metadata": {},
   "source": [
    "### Revisar los resultados"
   ]
  },
  {
   "cell_type": "markdown",
   "metadata": {},
   "source": [
    "El codigo de abajo son plots de las imagenes de entrenamiento con sus reconstrucciones. "
   ]
  },
  {
   "cell_type": "code",
   "execution_count": 7,
   "metadata": {},
   "outputs": [
    {
     "data": {
      "image/png": "[encoded data removed]",
      "text/plain": [
       "<Figure size 1800x288 with 20 Axes>"
      ]
     },
     "metadata": {
      "needs_background": "light"
     },
     "output_type": "display_data"
    }
   ],
   "source": [
    "# obtener un batch del test set\n",
    "dataiter = iter(test_loader)\n",
    "images, labels = dataiter.next()\n",
    "\n",
    "images_flatten = images.view(images.size(0), -1)\n",
    "# sample outputs\n",
    "output = model(images_flatten)\n",
    "# preparar imagenes para display\n",
    "images = images.numpy()\n",
    "\n",
    "# output es redimensionado a un batch de imagenes\n",
    "output = output.view(batch_size, 1, 28, 28)\n",
    "# usar detach cuando es un output que requires_grad=False\n",
    "output = output.detach().numpy()\n",
    "\n",
    "# plot las primeras 10 input images y luego reconstruir las imagenes\n",
    "fig, axes = plt.subplots(nrows=2, ncols=10, sharex=True, sharey=True, figsize=(25,4))\n",
    "\n",
    "# inputs arriba, reconstrucciones abajo\n",
    "for images, row in zip([images, output], axes):\n",
    "    for img, ax in zip(images, row):\n",
    "        ax.imshow(np.squeeze(img), cmap='gray')\n",
    "        ax.get_xaxis().set_visible(False)\n",
    "        ax.get_yaxis().set_visible(False)"
   ]
  },
  {
   "cell_type": "markdown",
   "metadata": {},
   "source": [
    "Estamos tratando con imagenes, por lo que (usualmente) obtendriamos mejor performance usando convolution layers."
   ]
  },
  {
   "cell_type": "markdown",
   "metadata": {},
   "source": [
    "## Convolutional Autoencoder"
   ]
  },
  {
   "cell_type": "markdown",
   "metadata": {},
   "source": [
    "Siguiendo con el dataset de MNIST, vamos a mejorar el performance del autoencoder usando convolutional layers. Vamos a construir un autoencoder para comprimir el dataset de MNIST.\n",
    "> La porcion del encoder estara compuesta de convolutional y pooling layers y el decoder va a estar hecho de **transpose convolutional layers** que aprenden a \"upsample\" la representacion comprimida."
   ]
  },
  {
   "cell_type": "code",
   "execution_count": 8,
   "metadata": {},
   "outputs": [],
   "source": [
    "import torch\n",
    "import numpy as np\n",
    "from torchvision import datasets\n",
    "import torchvision.transforms as transforms\n",
    "\n",
    "transform = transforms.ToTensor()\n",
    "\n",
    "train_data = datasets.MNIST(root='data', train=True,\n",
    "                                   download=True, transform=transform)\n",
    "test_data = datasets.MNIST(root='data', train=False,\n",
    "                                  download=True, transform=transform)"
   ]
  },
  {
   "cell_type": "code",
   "execution_count": 9,
   "metadata": {},
   "outputs": [],
   "source": [
    "num_workers = 0\n",
    "batch_size = 20\n",
    "\n",
    "train_loader = torch.utils.data.DataLoader(train_data, batch_size=batch_size, num_workers=num_workers)\n",
    "test_loader = torch.utils.data.DataLoader(test_data, batch_size=batch_size, num_workers=num_workers)"
   ]
  },
  {
   "cell_type": "code",
   "execution_count": 10,
   "metadata": {},
   "outputs": [
    {
     "data": {
      "text/plain": [
       "<matplotlib.image.AxesImage at 0x22655a56e80>"
      ]
     },
     "execution_count": 10,
     "metadata": {},
     "output_type": "execute_result"
    },
    {
     "data": {
      "image/png": "[encoded data removed]",
      "text/plain": [
       "<Figure size 360x360 with 1 Axes>"
      ]
     },
     "metadata": {
      "needs_background": "light"
     },
     "output_type": "display_data"
    }
   ],
   "source": [
    "import matplotlib.pyplot as plt\n",
    "%matplotlib inline\n",
    "    \n",
    "dataiter = iter(train_loader)\n",
    "images, labels = dataiter.next()\n",
    "images = images.numpy()\n",
    "\n",
    "img = np.squeeze(images[0])\n",
    "\n",
    "fig = plt.figure(figsize = (5,5)) \n",
    "ax = fig.add_subplot(111)\n",
    "ax.imshow(img, cmap='gray')"
   ]
  },
  {
   "cell_type": "markdown",
   "metadata": {},
   "source": [
    "### Arquitectura"
   ]
  },
  {
   "cell_type": "markdown",
   "metadata": {},
   "source": [
    "**Encoder**\n",
    "\n",
    "La parte de la red para el encoder va a ser una tipica piramide de convolutions. Cada convolutional layer va a ser seguida por un layer de max-pooling para reducir las dimensiones de los layers.\n",
    "\n",
    "**Decoder**\n",
    "\n",
    "El decoder si es algo nuevo. El decoder necesita convertir una representacion estrecha a una imagen ancha reconstruida. Por ejemplo, la representacion puede ser un max-pool layer de 7x7x4. Este es el outpu del encoder, pero tambien el input para el encoder. Queremos obtener una imagen de 28x28x1 de este decoder. "
   ]
  },
  {
   "cell_type": "markdown",
   "metadata": {},
   "source": [
    "![autoencoder architecture](../assets/conv_enc_1.png)"
   ]
  },
  {
   "cell_type": "markdown",
   "metadata": {},
   "source": [
    "Nuestra ultima layer del encoder tiene un tamanio de 7x7x4 = 196. Las imagenes originales tienen tamanio 28x28 = 784, asi que el encoded vector es 25% el tamanio de la imagen original. Estos son solamente tamanios sugeridos para cada layer. Intenten cambiar las depths y sizes y agregar layers adicionales para hacer esta representacion hasta mas pequenia. Nuestra meta aqui es encontrar una representacion pequenia del input data."
   ]
  },
  {
   "cell_type": "markdown",
   "metadata": {},
   "source": [
    "### Transpose convolutions, Decoder"
   ]
  },
  {
   "cell_type": "markdown",
   "metadata": {},
   "source": [
    "Este decoder usa **transposed convolutional** layers para incrementar el ancho y altura de las input layers. Funcionan casi exactamente igual que las convolutional layers, pero en reversa. Un stride en el input layer resulta en un stride mas largo en el transposed convolution layer. Por ejemplo, si tenemos un kernel de 3x3, un patch de 3x3 en el input layer va a ser reducido a una unidad en el convolutional layer. Asimismo, una unidad en el input layer se va a expandir a un patch de 3x3 en un transposed convolution layer. PyTorch nos provee con una forma facil de crear los layers, [`nn.ConvTranspose2d`](https://pytorch.org/docs/stable/nn.html#convtranspose2d).\n",
    "\n",
    "Es importante notar que los transpose convolution layers pueden introducir artefactos en las imagenes finales, como patrones cuadriculados. Esto se debe al overlap en los kernels los cuales pueden ser evitados configurando el tamanio del stride y el kernel para que sean del mismo tamanio. En este [articulo de Distill](http://distill.pub/2016/deconv-checkerboard/) de Augustus Odena, _et. al_, los autores demuestran como estos artefactos pueden ser evitados.\n",
    "\n",
    "**TODO: Desarrollar la red**\n",
    "> Construir el encoder compuesto de una serie de convolutional y pooling layers. Cuando construyan el decoder, recuerden que los transpose convolutional layers pueden upsample un input por un factor de 2 usando un stride y un kernel_size de 2."
   ]
  },
  {
   "cell_type": "code",
   "execution_count": 11,
   "metadata": {},
   "outputs": [
    {
     "name": "stdout",
     "output_type": "stream",
     "text": [
      "ConvAutoencoder(\n",
      "  (conv1): Conv2d(1, 16, kernel_size=(2, 2), stride=(1, 1), padding=(1, 1))\n",
      "  (conv2): Conv2d(16, 4, kernel_size=(2, 2), stride=(1, 1), padding=(1, 1))\n",
      "  (pool): MaxPool2d(kernel_size=2, stride=2, padding=0, dilation=1, ceil_mode=False)\n",
      "  (t_conv1): ConvTranspose2d(4, 16, kernel_size=(2, 2), stride=(2, 2))\n",
      "  (t_conv2): ConvTranspose2d(16, 1, kernel_size=(2, 2), stride=(2, 2))\n",
      ")\n"
     ]
    }
   ],
   "source": [
    "import torch.nn as nn\n",
    "import torch.nn.functional as F\n",
    "\n",
    "# definir la arquitectura\n",
    "class ConvAutoencoder(nn.Module):\n",
    "    def __init__(self):\n",
    "        super(ConvAutoencoder, self).__init__()\n",
    "        ## encoder layers ##\n",
    "        # conv layer (depth from 1 --> 18), 2x2 kernels\n",
    "        self.conv1 = nn.Conv2d(1, 16, 2, padding=1)  \n",
    "        # conv layer (depth from 18 --> 3), 2x2 kernels\n",
    "        self.conv2 = nn.Conv2d(16, 4, 2, padding=1)\n",
    "        # pooling layer to reduce x-y dims by two; kernel and stride of 2\n",
    "        self.pool = nn.MaxPool2d(2, 2)\n",
    "        \n",
    "        \n",
    "        ## decoder layers ##\n",
    "        ## un kernel de 2 y un stride de 2 van a incrementar las dims por 2\n",
    "        self.t_conv1 = nn.ConvTranspose2d(4, 16, 2, stride=2)\n",
    "        self.t_conv2 = nn.ConvTranspose2d(16, 1, 2, stride=2)\n",
    "\n",
    "\n",
    "\n",
    "    def forward(self, x):\n",
    "        ## encode ##\n",
    "        # add hidden layers with relu activation function\n",
    "        # and maxpooling after\n",
    "        x = F.relu(self.conv1(x))\n",
    "        x = self.pool(x)\n",
    "        # add second hidden layer\n",
    "        x = F.relu(self.conv2(x))\n",
    "        x = self.pool(x)  # compressed representation\n",
    "        \n",
    "        ## decode ##\n",
    "       \n",
    "        # output layer (with sigmoid for scaling from 0 to 1)\n",
    "        \n",
    "        ## aplicar ReLu a todas las hidden layers excepto el output layer\n",
    "        x = F.relu(self.t_conv1(x))\n",
    "        ## aplicar sigmoid al output layer\n",
    "        x = F.sigmoid(self.t_conv2(x))\n",
    "                \n",
    "        return x\n",
    "\n",
    "# inicializar el NN\n",
    "model = ConvAutoencoder()\n",
    "print(model)"
   ]
  },
  {
   "cell_type": "code",
   "execution_count": 12,
   "metadata": {},
   "outputs": [],
   "source": [
    "criterion = nn.MSELoss()\n",
    "\n",
    "optimizer = torch.optim.Adam(model.parameters(), lr=0.001)"
   ]
  },
  {
   "cell_type": "code",
   "execution_count": null,
   "metadata": {},
   "outputs": [
    {
     "name": "stdout",
     "output_type": "stream",
     "text": [
      "Epoch: 1 \tTraining Loss: 0.796160\n",
      "Epoch: 2 \tTraining Loss: 0.347972\n",
      "Epoch: 3 \tTraining Loss: 0.317842\n",
      "Epoch: 4 \tTraining Loss: 0.307885\n",
      "Epoch: 5 \tTraining Loss: 0.302692\n",
      "Epoch: 6 \tTraining Loss: 0.296641\n",
      "Epoch: 7 \tTraining Loss: 0.288688\n",
      "Epoch: 8 \tTraining Loss: 0.284409\n"
     ]
    }
   ],
   "source": [
    "n_epochs = 30\n",
    "\n",
    "for epoch in range(1, n_epochs+1):\n",
    "\n",
    "    train_loss = 0.0\n",
    "\n",
    "    for data in train_loader:\n",
    "        images, _ = data\n",
    "        optimizer.zero_grad()\n",
    "        outputs = model(images)\n",
    "        loss = criterion(outputs, images)\n",
    "        loss.backward()\n",
    "        optimizer.step()\n",
    "        train_loss += loss.item()*images.size(0)\n",
    "            \n",
    "    # print avg training statistics \n",
    "    train_loss = train_loss/len(train_loader)\n",
    "    print('Epoch: {} \\tTraining Loss: {:.6f}'.format(\n",
    "        epoch, \n",
    "        train_loss\n",
    "        ))"
   ]
  },
  {
   "cell_type": "code",
   "execution_count": null,
   "metadata": {},
   "outputs": [],
   "source": [
    "dataiter = iter(test_loader)\n",
    "images, labels = dataiter.next()\n",
    "\n",
    "output = model(images)\n",
    "images = images.numpy()\n",
    "\n",
    "output = output.view(batch_size, 1, 28, 28)\n",
    "output = output.detach().numpy()\n",
    "\n",
    "fig, axes = plt.subplots(nrows=2, ncols=10, sharex=True, sharey=True, figsize=(25,4))\n",
    "\n",
    "\n",
    "for images, row in zip([images, output], axes):\n",
    "    for img, ax in zip(images, row):\n",
    "        ax.imshow(np.squeeze(img), cmap='gray')\n",
    "        ax.get_xaxis().set_visible(False)\n",
    "        ax.get_yaxis().set_visible(False)"
   ]
  },
  {
   "cell_type": "code",
   "execution_count": null,
   "metadata": {},
   "outputs": [],
   "source": []
  },
  {
   "cell_type": "code",
   "execution_count": null,
   "metadata": {},
   "outputs": [],
   "source": []
  },
  {
   "cell_type": "code",
   "execution_count": null,
   "metadata": {},
   "outputs": [],
   "source": []
  },
  {
   "cell_type": "code",
   "execution_count": null,
   "metadata": {},
   "outputs": [],
   "source": []
  },
  {
   "cell_type": "code",
   "execution_count": null,
   "metadata": {},
   "outputs": [],
   "source": []
  }
 ],
 "metadata": {
  "kernelspec": {
   "display_name": "Python 3",
   "language": "python",
   "name": "python3"
  },
  "language_info": {
   "codemirror_mode": {
    "name": "ipython",
    "version": 3
   },
   "file_extension": ".py",
   "mimetype": "text/x-python",
   "name": "python",
   "nbconvert_exporter": "python",
   "pygments_lexer": "ipython3",
   "version": "3.7.3"
  }
 },
 "nbformat": 4,
 "nbformat_minor": 4
}
