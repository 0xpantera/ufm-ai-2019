{
 "cells": [
  {
   "cell_type": "markdown",
   "metadata": {},
   "source": [
    "# Autoencoders"
   ]
  },
  {
   "cell_type": "markdown",
   "metadata": {},
   "source": [
    "## Nathalia Morales\n",
    "## 20150195"
   ]
  },
  {
   "cell_type": "markdown",
   "metadata": {},
   "source": [
    "* Una red neuronal compuesta por dos partes:\n",
    "    * Un _encoder_ network que comprime input data de alta dimension a una representacion vectorial de baja dimension\n",
    "    * Un _decoder_ network que decomprime una representacion vectorial dada de regreso al dominio original"
   ]
  },
  {
   "cell_type": "markdown",
   "metadata": {},
   "source": [
    "![Diagrama de Autoencoder](../assets/autoencoder.png)"
   ]
  },
  {
   "cell_type": "markdown",
   "metadata": {},
   "source": [
    "* La red esta entrenada para encontrar los pesos para el encoder y decoder que minimizan el loss entre\n",
    "    * el input original\n",
    "    * la reconstruccion del input\n",
    "* El vector de representacion es una compresion de la imagen original a un espacio latente con baja dimensionalidad.\n",
    "* La idea es que al escoger _cualquier_ punto en el espacio latente, deberiamos poder generar imagenes nuevas al pasar este punto a traves del decoder.\n",
    "    * Porque el decoder aprendio el mapa: puntos en espacio latente -> imagenes viables"
   ]
  },
  {
   "cell_type": "markdown",
   "metadata": {},
   "source": [
    "Vamos a empezar construyendo un autoencoder simple para comprimir el dataset de MNIST. Con autoencoders, pasamos input data a traves del encoder que crea la representacion comprimida del input. Luego, esta representacion pasa a traves del decoder para reconstruir la data de input. Generalmente el encoder y decoder se construyen usando NNs, luego se entrenan en data de ejemplos."
   ]
  },
  {
   "cell_type": "markdown",
   "metadata": {},
   "source": [
    "## Representacion comprimida"
   ]
  },
  {
   "cell_type": "markdown",
   "metadata": {},
   "source": [
    "Una representacion comprimida puede ser buena para guardar y compartir cualquier tipo de data en una forma que sea mas eficiente que guardar la data cruda. En la practica, la representacion comprimida contiene informacion clave sobre la imagen de input y la podemos usar para reconstruir, denoising y otras transformaciones.\n",
    "\n",
    "En este notebook vamos a construir una simple NN para el encoder y decoder."
   ]
  },
  {
   "cell_type": "code",
   "execution_count": 1,
   "metadata": {},
   "outputs": [
    {
     "name": "stderr",
     "output_type": "stream",
     "text": [
      "  0%|          | 0/9912422 [00:00<?, ?it/s]"
     ]
    },
    {
     "name": "stdout",
     "output_type": "stream",
     "text": [
      "Downloading http://yann.lecun.com/exdb/mnist/train-images-idx3-ubyte.gz to data/MNIST/raw/train-images-idx3-ubyte.gz\n"
     ]
    },
    {
     "name": "stderr",
     "output_type": "stream",
     "text": [
      "100%|█████████▉| 9887744/9912422 [00:24<00:00, 416974.94it/s]"
     ]
    },
    {
     "name": "stdout",
     "output_type": "stream",
     "text": [
      "Extracting data/MNIST/raw/train-images-idx3-ubyte.gz\n"
     ]
    },
    {
     "name": "stderr",
     "output_type": "stream",
     "text": [
      "\n",
      "0it [00:00, ?it/s]\u001b[A\n",
      "  0%|          | 0/28881 [00:00<?, ?it/s]\u001b[A"
     ]
    },
    {
     "name": "stdout",
     "output_type": "stream",
     "text": [
      "Downloading http://yann.lecun.com/exdb/mnist/train-labels-idx1-ubyte.gz to data/MNIST/raw/train-labels-idx1-ubyte.gz\n"
     ]
    },
    {
     "name": "stderr",
     "output_type": "stream",
     "text": [
      "32768it [00:00, 158184.72it/s]           \n",
      "\n",
      "0it [00:00, ?it/s]\u001b[A\n",
      "  0%|          | 0/1648877 [00:00<?, ?it/s]\u001b[A"
     ]
    },
    {
     "name": "stdout",
     "output_type": "stream",
     "text": [
      "Extracting data/MNIST/raw/train-labels-idx1-ubyte.gz\n",
      "Downloading http://yann.lecun.com/exdb/mnist/t10k-images-idx3-ubyte.gz to data/MNIST/raw/t10k-images-idx3-ubyte.gz\n"
     ]
    },
    {
     "name": "stderr",
     "output_type": "stream",
     "text": [
      "\n",
      "  2%|▏         | 32768/1648877 [00:00<00:07, 218178.54it/s]\u001b[A\n",
      "  4%|▍         | 65536/1648877 [00:00<00:06, 228949.84it/s]\u001b[A\n",
      "  6%|▋         | 106496/1648877 [00:00<00:06, 252733.22it/s]\u001b[A\n",
      "  9%|▉         | 147456/1648877 [00:00<00:05, 271373.88it/s]\u001b[A\n",
      " 11%|█         | 180224/1648877 [00:00<00:05, 281912.03it/s]\u001b[A\n",
      " 13%|█▎        | 221184/1648877 [00:00<00:04, 294588.05it/s]\u001b[A\n",
      " 17%|█▋        | 278528/1648877 [00:01<00:04, 332244.37it/s]\u001b[A\n",
      " 20%|██        | 335872/1648877 [00:01<00:03, 357667.50it/s]\u001b[A\n",
      " 24%|██▍       | 401408/1648877 [00:01<00:03, 386545.53it/s]\u001b[A\n",
      " 27%|██▋       | 442368/1648877 [00:01<00:03, 348118.30it/s]\u001b[A\n",
      " 31%|███       | 507904/1648877 [00:01<00:02, 389815.83it/s]\u001b[A\n",
      " 34%|███▍      | 557056/1648877 [00:01<00:02, 391894.40it/s]\u001b[A\n",
      " 37%|███▋      | 606208/1648877 [00:01<00:02, 391784.49it/s]\u001b[A\n",
      " 40%|████      | 663552/1648877 [00:01<00:02, 411188.29it/s]\u001b[A\n",
      " 44%|████▎     | 720896/1648877 [00:02<00:02, 424270.87it/s]\u001b[A\n",
      " 47%|████▋     | 778240/1648877 [00:02<00:01, 436624.18it/s]\u001b[A\n",
      " 51%|█████     | 843776/1648877 [00:02<00:01, 461141.98it/s]\u001b[A\n",
      " 55%|█████▍    | 901120/1648877 [00:02<00:01, 463448.80it/s]\u001b[A\n",
      " 59%|█████▊    | 966656/1648877 [00:02<00:01, 480550.32it/s]\u001b[A\n",
      " 62%|██████▏   | 1015808/1648877 [00:02<00:01, 401103.76it/s]\u001b[A\n",
      " 65%|██████▌   | 1073152/1648877 [00:02<00:01, 434042.28it/s]\u001b[A\n",
      " 68%|██████▊   | 1122304/1648877 [00:02<00:01, 421527.83it/s]\u001b[A\n",
      " 72%|███████▏  | 1179648/1648877 [00:03<00:01, 435051.02it/s]\u001b[A\n",
      " 75%|███████▍  | 1228800/1648877 [00:03<00:00, 424802.67it/s]\u001b[A\n",
      " 78%|███████▊  | 1277952/1648877 [00:03<00:00, 415978.73it/s]\u001b[A\n",
      " 81%|████████▏ | 1343488/1648877 [00:03<00:00, 443652.36it/s]\u001b[A\n",
      " 85%|████████▍ | 1400832/1648877 [00:03<00:00, 449050.61it/s]\u001b[A\n",
      " 88%|████████▊ | 1449984/1648877 [00:03<00:00, 459071.65it/s]\u001b[A\n",
      " 91%|█████████▏| 1507328/1648877 [00:03<00:00, 459970.82it/s]\u001b[A\n",
      " 95%|█████████▌| 1572864/1648877 [00:03<00:00, 477881.23it/s]\u001b[A\n",
      "1654784it [00:04, 408088.35it/s]                             \n",
      "\n",
      "0it [00:00, ?it/s]\u001b[A\n",
      "8192it [00:00, 59938.17it/s]            \n"
     ]
    },
    {
     "name": "stdout",
     "output_type": "stream",
     "text": [
      "Extracting data/MNIST/raw/t10k-images-idx3-ubyte.gz\n",
      "Downloading http://yann.lecun.com/exdb/mnist/t10k-labels-idx1-ubyte.gz to data/MNIST/raw/t10k-labels-idx1-ubyte.gz\n",
      "Extracting data/MNIST/raw/t10k-labels-idx1-ubyte.gz\n",
      "Processing...\n",
      "Done!\n"
     ]
    }
   ],
   "source": [
    "import torch\n",
    "import numpy as np\n",
    "from torchvision import datasets\n",
    "import torchvision.transforms as transforms\n",
    "\n",
    "# convertira data a torch.FloatTensor\n",
    "transform = transforms.ToTensor()\n",
    "\n",
    "# cargar los datasets de training y test\n",
    "train_data = datasets.MNIST(root='data', train=True,\n",
    "                                   download=True, transform=transform)\n",
    "test_data = datasets.MNIST(root='data', train=False,\n",
    "                                  download=True, transform=transform)"
   ]
  },
  {
   "cell_type": "code",
   "execution_count": 2,
   "metadata": {},
   "outputs": [
    {
     "name": "stderr",
     "output_type": "stream",
     "text": [
      "9920512it [00:40, 416974.94it/s]                             "
     ]
    }
   ],
   "source": [
    "# Crear los dataloaders para training y test\n",
    "# numero de subprocesses para usar para cargar la data\n",
    "num_workers = 0\n",
    "# numero de muestras por batch para cargar\n",
    "batch_size = 20\n",
    "\n",
    "# data loaders\n",
    "train_loader = torch.utils.data.DataLoader(train_data, batch_size=batch_size, num_workers=num_workers)\n",
    "test_loader = torch.utils.data.DataLoader(test_data, batch_size=batch_size, num_workers=num_workers)"
   ]
  },
  {
   "cell_type": "markdown",
   "metadata": {},
   "source": [
    "### Visualizar la data"
   ]
  },
  {
   "cell_type": "code",
   "execution_count": 3,
   "metadata": {},
   "outputs": [
    {
     "data": {
      "text/plain": [
       "<matplotlib.image.AxesImage at 0x12a3dcd30>"
      ]
     },
     "execution_count": 3,
     "metadata": {},
     "output_type": "execute_result"
    },
    {
     "data": {
      "image/png": "[encoded data removed]",
      "text/plain": [
       "<Figure size 360x360 with 1 Axes>"
      ]
     },
     "metadata": {
      "needs_background": "light"
     },
     "output_type": "display_data"
    }
   ],
   "source": [
    "import matplotlib.pyplot as plt\n",
    "%matplotlib inline\n",
    "    \n",
    "dataiter = iter(train_loader)\n",
    "images, labels = dataiter.next()\n",
    "images = images.numpy()\n",
    "\n",
    "img = np.squeeze(images[0])\n",
    "\n",
    "fig = plt.figure(figsize = (5,5)) \n",
    "ax = fig.add_subplot(111)\n",
    "ax.imshow(img, cmap='gray')"
   ]
  },
  {
   "cell_type": "markdown",
   "metadata": {},
   "source": [
    "## Autoencoder lineal\n",
    "\n",
    "Vamos a entrenar un autoencoder con estas imagenes aplanandolas a vectores de largo 784. Las imagenes de este dataset ya estan normalizadas para que sus valores esten entre 1 y 0. El encoder y decoder deberian estar hechos de **una capa lineal**. Las unidades que conectan el encoder y decoder van a ser la _representacion comprimida_.\n",
    "\n",
    "Como las imagenes estan normalizadas, necesitamos usar una activacion **sigmoid** en la capa de output para obtener valores que se encuentren en el mismo rango que el input.\n",
    "\n",
    "**TODO: Construir el autoencoder en la celda de abajo**\n",
    "> Las imagenes de input deben ser aplanadas a vectores de 784. Los targets son los mismos que los inputs. El encoder y el decoder van a estar hechos de dos capas lineales cada uno. La profundidad de las dimensiones deben cambiar de la siguiente forma: 784 inputs -> **encoding_dims** -> 784 outputs. Todas las capas deben tener activaciones ReLu aplicadas excepto por la capa final que debe ser un sigmoid\n",
    "\n",
    "**La representacion comprimida debe ser un vector con dimension `encoding_dim=32`**"
   ]
  },
  {
   "cell_type": "code",
   "execution_count": 19,
   "metadata": {},
   "outputs": [
    {
     "name": "stdout",
     "output_type": "stream",
     "text": [
      "Autoencoder(\n",
      "  (fc1): Linear(in_features=784, out_features=32, bias=True)\n",
      "  (fc2): Linear(in_features=32, out_features=784, bias=True)\n",
      ")\n"
     ]
    }
   ],
   "source": [
    "import torch.nn as nn\n",
    "import torch.nn.functional as F\n",
    "\n",
    "# Definir arquitectura\n",
    "class Autoencoder(nn.Module):\n",
    "    def __init__(self, encoding_dim):\n",
    "        super(Autoencoder, self).__init__()\n",
    "        ## encoder ##\n",
    "        self.encoder1 = nn.Linear(28 * 28, encoding_dim)\n",
    "        ## decoder ##\n",
    "        self.decoder1 = nn.Linear(encoding_dim, 28*28)\n",
    "\n",
    "    def forward(self, x):\n",
    "        # definir feedforward\n",
    "        # aplicar sigmoid al output layer\n",
    "        x = F.relu(self.encoder1(x))\n",
    "        x = F.sigmoid(self.decoder1(x))\n",
    "        return x\n",
    "\n",
    "# inicializar NN\n",
    "encoding_dim = 32\n",
    "model = Autoencoder(encoding_dim)\n",
    "print(model)"
   ]
  },
  {
   "cell_type": "markdown",
   "metadata": {},
   "source": [
    "### Entrenamiento"
   ]
  },
  {
   "cell_type": "markdown",
   "metadata": {},
   "source": [
    "El resto es codigo para entrenamiento, deberia resultarles familiar. En este caso no nos interesa mucho la validacion, asi que solo vamos a monitorear el training loss y el test loss.\n",
    "\n",
    "Tampoco nos preocupamos por los labels en este caso. Como estamos comparando valores de pixeles en las imagenes de input y output, lo mejor es usar una los que sea util para tareas de regresion. La regresion se utiliza para comparar _cantidades_ en vez de valores probabilisticos. En este caso vamos a usar `MSELoss`. "
   ]
  },
  {
   "cell_type": "code",
   "execution_count": 15,
   "metadata": {},
   "outputs": [],
   "source": [
    "# especificar loss function\n",
    "criterion = nn.MSELoss()\n",
    "\n",
    "# especificar optimizador\n",
    "optimizer = torch.optim.Adam(model.parameters(), lr=0.001)"
   ]
  },
  {
   "cell_type": "code",
   "execution_count": 20,
   "metadata": {},
   "outputs": [
    {
     "name": "stdout",
     "output_type": "stream",
     "text": [
      "Epoch: 1 \tTraining Loss: 4.611163\n",
      "Epoch: 2 \tTraining Loss: 4.611163\n",
      "Epoch: 3 \tTraining Loss: 4.611163\n",
      "Epoch: 4 \tTraining Loss: 4.611163\n",
      "Epoch: 5 \tTraining Loss: 4.611163\n",
      "Epoch: 6 \tTraining Loss: 4.611163\n",
      "Epoch: 7 \tTraining Loss: 4.611163\n",
      "Epoch: 8 \tTraining Loss: 4.611163\n",
      "Epoch: 9 \tTraining Loss: 4.611163\n",
      "Epoch: 10 \tTraining Loss: 4.611163\n",
      "Epoch: 11 \tTraining Loss: 4.611163\n",
      "Epoch: 12 \tTraining Loss: 4.611163\n",
      "Epoch: 13 \tTraining Loss: 4.611163\n",
      "Epoch: 14 \tTraining Loss: 4.611163\n",
      "Epoch: 15 \tTraining Loss: 4.611163\n",
      "Epoch: 16 \tTraining Loss: 4.611163\n",
      "Epoch: 17 \tTraining Loss: 4.611163\n",
      "Epoch: 18 \tTraining Loss: 4.611163\n",
      "Epoch: 19 \tTraining Loss: 4.611163\n",
      "Epoch: 20 \tTraining Loss: 4.611163\n"
     ]
    }
   ],
   "source": [
    "# numero de epochs para entrenar el modelo\n",
    "n_epochs = 20\n",
    "\n",
    "for epoch in range(1, n_epochs+1):\n",
    "    # training loss\n",
    "    train_loss = 0.0\n",
    "    \n",
    "    ######################\n",
    "    # entrenar el modelo #\n",
    "    ######################\n",
    "    for data in train_loader:\n",
    "        # _ para los labels (como no nos interesan)\n",
    "        images, _ = data\n",
    "        # aplanar imagenes\n",
    "        images = images.view(images.size(0), -1)\n",
    "        # limpiar las gradientes de todas las variables optimizadas\n",
    "        optimizer.zero_grad()\n",
    "        # forward pass: calcular valores predecidos\n",
    "        outputs = model(images)\n",
    "        # calcular el loss\n",
    "        loss = criterion(outputs, images)\n",
    "        # backward pass: calcular gradiente del los con respecto al modelo\n",
    "        loss.backward()\n",
    "        # realizar un unico paso de optimizacion (actualizar parametros)\n",
    "        optimizer.step()\n",
    "        # actualizar training loss acumulado\n",
    "        train_loss += loss.item()*images.size(0)\n",
    "            \n",
    "    # print estadisticas de entrenamiento\n",
    "    train_loss = train_loss/len(train_loader)\n",
    "    print('Epoch: {} \\tTraining Loss: {:.6f}'.format(\n",
    "        epoch, \n",
    "        train_loss\n",
    "        ))"
   ]
  },
  {
   "cell_type": "markdown",
   "metadata": {},
   "source": [
    "### Revisar los resultados"
   ]
  },
  {
   "cell_type": "markdown",
   "metadata": {},
   "source": [
    "El codigo de abajo son plots de las imagenes de entrenamiento con sus reconstrucciones. "
   ]
  },
  {
   "cell_type": "code",
   "execution_count": 21,
   "metadata": {},
   "outputs": [
    {
     "data": {
      "image/png": "[encoded data removed]",
      "text/plain": [
       "<Figure size 1800x288 with 20 Axes>"
      ]
     },
     "metadata": {
      "needs_background": "light"
     },
     "output_type": "display_data"
    }
   ],
   "source": [
    "# obtener un batch del test set\n",
    "dataiter = iter(test_loader)\n",
    "images, labels = dataiter.next()\n",
    "\n",
    "images_flatten = images.view(images.size(0), -1)\n",
    "# sample outputs\n",
    "output = model(images_flatten)\n",
    "# preparar imagenes para display\n",
    "images = images.numpy()\n",
    "\n",
    "# output es redimensionado a un batch de imagenes\n",
    "output = output.view(batch_size, 1, 28, 28)\n",
    "# usar detach cuando es un output que requires_grad=False\n",
    "output = output.detach().numpy()\n",
    "\n",
    "# plot las primeras 10 input images y luego reconstruir las imagenes\n",
    "fig, axes = plt.subplots(nrows=2, ncols=10, sharex=True, sharey=True, figsize=(25,4))\n",
    "\n",
    "# inputs arriba, reconstrucciones abajo\n",
    "for images, row in zip([images, output], axes):\n",
    "    for img, ax in zip(images, row):\n",
    "        ax.imshow(np.squeeze(img), cmap='gray')\n",
    "        ax.get_xaxis().set_visible(False)\n",
    "        ax.get_yaxis().set_visible(False)"
   ]
  },
  {
   "cell_type": "markdown",
   "metadata": {},
   "source": [
    "Estamos tratando con imagenes, por lo que (usualmente) obtendriamos mejor performance usando convolution layers."
   ]
  },
  {
   "cell_type": "markdown",
   "metadata": {},
   "source": [
    "## Convolutional Autoencoder"
   ]
  },
  {
   "cell_type": "markdown",
   "metadata": {},
   "source": [
    "Siguiendo con el dataset de MNIST, vamos a mejorar el performance del autoencoder usando convolutional layers. Vamos a construir un autoencoder para comprimir el dataset de MNIST.\n",
    "> La porcion del encoder estara compuesta de convolutional y pooling layers y el decoder va a estar hecho de **transpose convolutional layers** que aprenden a \"upsample\" la representacion comprimida."
   ]
  },
  {
   "cell_type": "code",
   "execution_count": 22,
   "metadata": {},
   "outputs": [],
   "source": [
    "import torch\n",
    "import numpy as np\n",
    "from torchvision import datasets\n",
    "import torchvision.transforms as transforms\n",
    "\n",
    "transform = transforms.ToTensor()\n",
    "\n",
    "train_data = datasets.MNIST(root='data', train=True,\n",
    "                                   download=True, transform=transform)\n",
    "test_data = datasets.MNIST(root='data', train=False,\n",
    "                                  download=True, transform=transform)"
   ]
  },
  {
   "cell_type": "code",
   "execution_count": 23,
   "metadata": {},
   "outputs": [],
   "source": [
    "num_workers = 0\n",
    "batch_size = 20\n",
    "\n",
    "train_loader = torch.utils.data.DataLoader(train_data, batch_size=batch_size, num_workers=num_workers)\n",
    "test_loader = torch.utils.data.DataLoader(test_data, batch_size=batch_size, num_workers=num_workers)"
   ]
  },
  {
   "cell_type": "code",
   "execution_count": 24,
   "metadata": {},
   "outputs": [
    {
     "data": {
      "text/plain": [
       "<matplotlib.image.AxesImage at 0x12e0819e8>"
      ]
     },
     "execution_count": 24,
     "metadata": {},
     "output_type": "execute_result"
    },
    {
     "data": {
      "image/png": "[encoded data removed]",
      "text/plain": [
       "<Figure size 360x360 with 1 Axes>"
      ]
     },
     "metadata": {
      "needs_background": "light"
     },
     "output_type": "display_data"
    }
   ],
   "source": [
    "import matplotlib.pyplot as plt\n",
    "%matplotlib inline\n",
    "    \n",
    "dataiter = iter(train_loader)\n",
    "images, labels = dataiter.next()\n",
    "images = images.numpy()\n",
    "\n",
    "img = np.squeeze(images[0])\n",
    "\n",
    "fig = plt.figure(figsize = (5,5)) \n",
    "ax = fig.add_subplot(111)\n",
    "ax.imshow(img, cmap='gray')"
   ]
  },
  {
   "cell_type": "markdown",
   "metadata": {},
   "source": [
    "### Arquitectura"
   ]
  },
  {
   "cell_type": "markdown",
   "metadata": {},
   "source": [
    "**Encoder**\n",
    "\n",
    "La parte de la red para el encoder va a ser una tipica piramide de convolutions. Cada convolutional layer va a ser seguida por un layer de max-pooling para reducir las dimensiones de los layers.\n",
    "\n",
    "**Decoder**\n",
    "\n",
    "El decoder si es algo nuevo. El decoder necesita convertir una representacion estrecha a una imagen ancha reconstruida. Por ejemplo, la representacion puede ser un max-pool layer de 7x7x4. Este es el outpu del encoder, pero tambien el input para el encoder. Queremos obtener una imagen de 28x28x1 de este decoder. "
   ]
  },
  {
   "cell_type": "markdown",
   "metadata": {},
   "source": [
    "![autoencoder architecture](../assets/conv_enc_1.png)"
   ]
  },
  {
   "cell_type": "markdown",
   "metadata": {},
   "source": [
    "Nuestra ultima layer del encoder tiene un tamanio de 7x7x4 = 196. Las imagenes originales tienen tamanio 28x28 = 784, asi que el encoded vector es 25% el tamanio de la imagen original. Estos son solamente tamanios sugeridos para cada layer. Intenten cambiar las depths y sizes y agregar layers adicionales para hacer esta representacion hasta mas pequenia. Nuestra meta aqui es encontrar una representacion pequenia del input data."
   ]
  },
  {
   "cell_type": "markdown",
   "metadata": {},
   "source": [
    "### Transpose convolutions, Decoder"
   ]
  },
  {
   "cell_type": "markdown",
   "metadata": {},
   "source": [
    "Este decoder usa **transposed convolutional** layers para incrementar el ancho y altura de las input layers. Funcionan casi exactamente igual que las convolutional layers, pero en reversa. Un stride en el input layer resulta en un stride mas largo en el transposed convolution layer. Por ejemplo, si tenemos un kernel de 3x3, un patch de 3x3 en el input layer va a ser reducido a una unidad en el convolutional layer. Asimismo, una unidad en el input layer se va a expandir a un patch de 3x3 en un transposed convolution layer. PyTorch nos provee con una forma facil de crear los layers, [`nn.ConvTranspose2d`](https://pytorch.org/docs/stable/nn.html#convtranspose2d).\n",
    "\n",
    "Es importante notar que los transpose convolution layers pueden introducir artefactos en las imagenes finales, como patrones cuadriculados. Esto se debe al overlap en los kernels los cuales pueden ser evitados configurando el tamanio del stride y el kernel para que sean del mismo tamanio. En este [articulo de Distill](http://distill.pub/2016/deconv-checkerboard/) de Augustus Odena, _et. al_, los autores demuestran como estos artefactos pueden ser evitados.\n",
    "\n",
    "**TODO: Desarrollar la red**\n",
    "> Construir el encoder compuesto de una serie de convolutional y pooling layers. Cuando construyan el decoder, recuerden que los transpose convolutional layers pueden upsample un input por un factor de 2 usando un stride y un kernel_size de 2."
   ]
  },
  {
   "cell_type": "code",
   "execution_count": 30,
   "metadata": {},
   "outputs": [
    {
     "name": "stdout",
     "output_type": "stream",
     "text": [
      "ConvAutoencoder(\n",
      "  (conv1): Conv2d(1, 16, kernel_size=(3, 3), stride=(1, 1), padding=(1, 1))\n",
      "  (conv2): Conv2d(16, 4, kernel_size=(3, 3), stride=(1, 1), padding=(1, 1))\n",
      "  (pool): MaxPool2d(kernel_size=2, stride=2, padding=0, dilation=1, ceil_mode=False)\n",
      "  (t_conv1): ConvTranspose2d(4, 16, kernel_size=(2, 2), stride=(2, 2))\n",
      "  (t_conv2): ConvTranspose2d(16, 1, kernel_size=(2, 2), stride=(2, 2))\n",
      ")\n"
     ]
    }
   ],
   "source": [
    "import torch.nn as nn\n",
    "import torch.nn.functional as F\n",
    "\n",
    "# definir la arquitectura\n",
    "class ConvAutoencoder(nn.Module):\n",
    "        def __init__(self):\n",
    "            super(ConvAutoencoder, self).__init__()\n",
    "            ## encoder layers ##\n",
    "            # conv layer\n",
    "            self.conv1 = nn.Conv2d(1, 16, 3, padding=1)  \n",
    "            self.conv2 = nn.Conv2d(16, 4, 3, padding=1)\n",
    "            self.pool = nn.MaxPool2d(2, 2)\n",
    "            ## decoder layers ##\n",
    "            self.t_conv1 = nn.ConvTranspose2d(4, 16, 2, stride=2)\n",
    "            self.t_conv2 = nn.ConvTranspose2d(16, 1, 2, stride=2)\n",
    "\n",
    "        def forward(self, x):\n",
    "            ## encode ##\n",
    "            x = F.relu(self.conv1(x))\n",
    "            x = self.pool(x)\n",
    "            x = F.relu(self.conv2(x))\n",
    "            x = self.pool(x)\n",
    "\n",
    "            ## decode ##\n",
    "            ## aplicar ReLu a todas las hidden layers excepto el output layer\n",
    "            ## aplicar sigmoid al output layer\n",
    "            x = F.relu(self.t_conv1(x))\n",
    "            x = F.sigmoid(self.t_conv2(x))\n",
    "                \n",
    "            return x\n",
    "\n",
    "# inicializar el NN\n",
    "model = ConvAutoencoder()\n",
    "print(model)"
   ]
  },
  {
   "cell_type": "code",
   "execution_count": 31,
   "metadata": {},
   "outputs": [],
   "source": [
    "criterion = nn.MSELoss()\n",
    "\n",
    "optimizer = torch.optim.Adam(model.parameters(), lr=0.001)"
   ]
  },
  {
   "cell_type": "code",
   "execution_count": 32,
   "metadata": {},
   "outputs": [
    {
     "name": "stdout",
     "output_type": "stream",
     "text": [
      "Epoch: 1 \tTraining Loss: 0.437837\n",
      "Epoch: 2 \tTraining Loss: 0.270673\n",
      "Epoch: 3 \tTraining Loss: 0.254682\n",
      "Epoch: 4 \tTraining Loss: 0.241937\n",
      "Epoch: 5 \tTraining Loss: 0.230358\n",
      "Epoch: 6 \tTraining Loss: 0.221566\n",
      "Epoch: 7 \tTraining Loss: 0.215502\n",
      "Epoch: 8 \tTraining Loss: 0.211003\n",
      "Epoch: 9 \tTraining Loss: 0.206753\n",
      "Epoch: 10 \tTraining Loss: 0.202892\n",
      "Epoch: 11 \tTraining Loss: 0.200003\n",
      "Epoch: 12 \tTraining Loss: 0.197608\n",
      "Epoch: 13 \tTraining Loss: 0.195856\n",
      "Epoch: 14 \tTraining Loss: 0.194528\n",
      "Epoch: 15 \tTraining Loss: 0.193456\n",
      "Epoch: 16 \tTraining Loss: 0.192525\n",
      "Epoch: 17 \tTraining Loss: 0.191606\n",
      "Epoch: 18 \tTraining Loss: 0.190762\n",
      "Epoch: 19 \tTraining Loss: 0.190070\n",
      "Epoch: 20 \tTraining Loss: 0.189497\n",
      "Epoch: 21 \tTraining Loss: 0.189020\n",
      "Epoch: 22 \tTraining Loss: 0.188602\n",
      "Epoch: 23 \tTraining Loss: 0.188210\n",
      "Epoch: 24 \tTraining Loss: 0.187737\n",
      "Epoch: 25 \tTraining Loss: 0.187352\n",
      "Epoch: 26 \tTraining Loss: 0.186997\n",
      "Epoch: 27 \tTraining Loss: 0.186669\n",
      "Epoch: 28 \tTraining Loss: 0.186348\n",
      "Epoch: 29 \tTraining Loss: 0.186023\n",
      "Epoch: 30 \tTraining Loss: 0.185520\n"
     ]
    }
   ],
   "source": [
    "n_epochs = 30\n",
    "\n",
    "for epoch in range(1, n_epochs+1):\n",
    "\n",
    "    train_loss = 0.0\n",
    "\n",
    "    for data in train_loader:\n",
    "        images, _ = data\n",
    "        optimizer.zero_grad()\n",
    "        outputs = model(images)\n",
    "        loss = criterion(outputs, images)\n",
    "        loss.backward()\n",
    "        optimizer.step()\n",
    "        train_loss += loss.item()*images.size(0)\n",
    "            \n",
    "    # print avg training statistics \n",
    "    train_loss = train_loss/len(train_loader)\n",
    "    print('Epoch: {} \\tTraining Loss: {:.6f}'.format(\n",
    "        epoch, \n",
    "        train_loss\n",
    "        ))"
   ]
  },
  {
   "cell_type": "code",
   "execution_count": 33,
   "metadata": {},
   "outputs": [
    {
     "data": {
      "image/png": "[encoded data removed]",
      "text/plain": [
       "<Figure size 1800x288 with 20 Axes>"
      ]
     },
     "metadata": {
      "needs_background": "light"
     },
     "output_type": "display_data"
    }
   ],
   "source": [
    "dataiter = iter(test_loader)\n",
    "images, labels = dataiter.next()\n",
    "\n",
    "output = model(images)\n",
    "images = images.numpy()\n",
    "\n",
    "output = output.view(batch_size, 1, 28, 28)\n",
    "output = output.detach().numpy()\n",
    "\n",
    "fig, axes = plt.subplots(nrows=2, ncols=10, sharex=True, sharey=True, figsize=(25,4))\n",
    "\n",
    "\n",
    "for images, row in zip([images, output], axes):\n",
    "    for img, ax in zip(images, row):\n",
    "        ax.imshow(np.squeeze(img), cmap='gray')\n",
    "        ax.get_xaxis().set_visible(False)\n",
    "        ax.get_yaxis().set_visible(False)"
   ]
  },
  {
   "cell_type": "code",
   "execution_count": null,
   "metadata": {},
   "outputs": [],
   "source": []
  }
 ],
 "metadata": {
  "kernelspec": {
   "display_name": "Python 3",
   "language": "python",
   "name": "python3"
  },
  "language_info": {
   "codemirror_mode": {
    "name": "ipython",
    "version": 3
   },
   "file_extension": ".py",
   "mimetype": "text/x-python",
   "name": "python",
   "nbconvert_exporter": "python",
   "pygments_lexer": "ipython3",
   "version": "3.7.2"
  }
 },
 "nbformat": 4,
 "nbformat_minor": 2
}
