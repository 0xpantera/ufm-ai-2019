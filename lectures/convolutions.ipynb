{
 "cells": [
  {
   "cell_type": "code",
   "execution_count": null,
   "metadata": {},
   "outputs": [],
   "source": [
    "import matplotlib.pyplot as plt\n",
    "import numpy as np\n",
    "import torch\n",
    "\n",
    "torch.set_printoptions(edgeitems=2)\n",
    "torch.manual_seed(123)"
   ]
  },
  {
   "cell_type": "markdown",
   "metadata": {},
   "source": [
    "# Convolutions"
   ]
  },
  {
   "cell_type": "markdown",
   "metadata": {},
   "source": [
    "* Repaso de trabajo con imagenes"
   ]
  },
  {
   "cell_type": "markdown",
   "metadata": {},
   "source": [
    "## Dataset de imagenes\n",
    "\n",
    "* CIFAR-10: clasico de computer vision\n",
    "* consiste de 60,000 imagenes de 32x32 a color (RGB), etiquetadas con un entero que corresponde a 10 clases:\n",
    "    * 0 - avion\n",
    "    * 1 - carro\n",
    "    * 2 - pajaro\n",
    "    * 3 - gato\n",
    "    * 4 - venado\n",
    "    * 5 - perro\n",
    "    * 6 - sapo\n",
    "    * 7 - caballo\n",
    "    * 8 - barco\n",
    "    * 9 - camion\n",
    "    \n",
    "* las imagenes fueron recolectadas y etiquetadas por Krizhevsky, Nair y Hinton de CIFAR (Canadian Institute for Advanced Research)\n",
    "* son un subset de una coleccion mas grande de imagenes a color de 32x32 no etiquetadas\n",
    "    * \"80 million tiny images dataset\"\n",
    "    * CSAIL (Computer Science and Artificial Intelligence Laboratory) de MIT\n",
    "* Ya es considerada demasiado simple"
   ]
  },
  {
   "cell_type": "markdown",
   "metadata": {},
   "source": [
    "### Descargar CIFAR10"
   ]
  },
  {
   "cell_type": "code",
   "execution_count": null,
   "metadata": {},
   "outputs": [],
   "source": [
    "from torchvision import datasets\n",
    "\n",
    "data_path = \"../data/cifar10/\"\n",
    "\n",
    "cifar10 = datasets.CIFAR10(data_path, train=True, download=True)\n",
    "cifar10_val = datasets.CIFAR10(data_path, train=False, download=True)"
   ]
  },
  {
   "cell_type": "code",
   "execution_count": null,
   "metadata": {},
   "outputs": [],
   "source": [
    "class_names = [\"airplane\", \"automobile\", \"bird\", \"cat\", \"deer\",\n",
    "               \"dog\", \"frog\", \"horse\", \"ship\", \"truck\"]\n",
    "\n",
    "fig = plt.figure(figsize=(8,3))\n",
    "num_classes = 10\n",
    "\n",
    "for i in range(num_classes):\n",
    "    ax = fig.add_subplot(2, 5, 1 + i, xticks=[], yticks=[])\n",
    "    ax.set_title(class_names[i])\n",
    "    img = next(img for img, label in cifar10 if label == i)\n",
    "    plt.imshow(img)\n",
    "plt.show()"
   ]
  },
  {
   "cell_type": "markdown",
   "metadata": {},
   "source": [
    "* El modulo de `datasets` nos da acceso a los datasets de computer vision mas populares:\n",
    "    * MNIST\n",
    "    * FashionMNIST\n",
    "    * CIFAR-100\n",
    "    * SVHN\n",
    "    * Coco\n",
    "    * Omniglot\n",
    "* En todos los casos son retornados como subclases de `torch.utils.data.Dataset`.\n",
    "* Podemos ver que el _method resolution order_ de nuestra instancia `cifar10` lo incluye como su clase base"
   ]
  },
  {
   "cell_type": "code",
   "execution_count": null,
   "metadata": {},
   "outputs": [],
   "source": [
    "type(cifar10).__mro__"
   ]
  },
  {
   "cell_type": "markdown",
   "metadata": {},
   "source": [
    "### La clase Dataset"
   ]
  },
  {
   "cell_type": "markdown",
   "metadata": {},
   "source": [
    "* Un Dataset de PyTorch es un objeto que requiere que se implementen dos metodos:\n",
    "    * `__len__`: debe retornar el  numero de items en el dataset\n",
    "    * `__getitem__`: debe retornar el item, consistiendo de una muestra y su etiqueta correspondiente (un entero)\n",
    "    \n",
    "```\n",
    "__len__() -> len(a_dataset)\n",
    "\n",
    "__getitem__(4) -> a_dataset[4]\n",
    "```\n",
    "\n",
    "* En practica cuando un objeto de Python esta equipado con el metodo `__len__`, podemos pasarlo como un argumento a la funcion `len` de python"
   ]
  },
  {
   "cell_type": "code",
   "execution_count": null,
   "metadata": {},
   "outputs": [],
   "source": [
    "len(cifar10)"
   ]
  },
  {
   "cell_type": "markdown",
   "metadata": {},
   "source": [
    "De igual forma, como el loader esta equipado con el metodo `__getitem__`, podemos usar el subscript estandar para indexar tuplas y listas para accesar items individuales.\n",
    "\n",
    "En este caso obtenemos una imagen `PIL` con nuestro output deseado, un entero con valor 1, correspondiente a un \"carro\"."
   ]
  },
  {
   "cell_type": "code",
   "execution_count": null,
   "metadata": {},
   "outputs": [],
   "source": [
    "img, label = cifar10[99]\n",
    "img, label, class_names[label]"
   ]
  },
  {
   "cell_type": "markdown",
   "metadata": {},
   "source": [
    "La muestra en el dataset `data.CIFAR10` es una instancia de una imagen RGB PIL. "
   ]
  },
  {
   "cell_type": "code",
   "execution_count": null,
   "metadata": {},
   "outputs": [],
   "source": [
    "plt.imshow(img)\n",
    "plt.show()"
   ]
  },
  {
   "cell_type": "markdown",
   "metadata": {},
   "source": [
    "### Dataset Transforms"
   ]
  },
  {
   "cell_type": "markdown",
   "metadata": {},
   "source": [
    "* Como es una imagen de PIL necesitamos una manera de convertirla a un tensor de PyTorch antes de poder hacer algo.\n",
    "* Aqui entra el moduleo `torchvision.transforms`\n",
    "    * funciones (objetos) componibles que pueden pasarse como un argumento a un dataset de `torchvision`\n",
    "    * realizan las transformaciones sobre la data despues de cargarla pero antes de regresarla por `__getitem__`"
   ]
  },
  {
   "cell_type": "code",
   "execution_count": null,
   "metadata": {},
   "outputs": [],
   "source": [
    "from torchvision import transforms\n",
    "\n",
    "dir(transforms)"
   ]
  },
  {
   "cell_type": "markdown",
   "metadata": {},
   "source": [
    "* Podemos ver que hay un metodo `ToTensor`\n",
    "    * una vez instanciado puede ser llamado como funcion con la imagen PIL como argumento\n",
    "    * retorna un tensor como output"
   ]
  },
  {
   "cell_type": "code",
   "execution_count": null,
   "metadata": {},
   "outputs": [],
   "source": [
    "to_tensor = transforms.ToTensor()\n",
    "img_t = to_tensor(img)\n",
    "img_t.size()"
   ]
  },
  {
   "cell_type": "markdown",
   "metadata": {},
   "source": [
    "La imagen se transformo a un tensor 3x32x32, por tanto es una imagen de 3 canales (RGB) y 32x32\n",
    "\n",
    "Podemos pasar el transform directo como un argumento al `dataset.CIFAR10`"
   ]
  },
  {
   "cell_type": "code",
   "execution_count": null,
   "metadata": {},
   "outputs": [],
   "source": [
    "tensor_cifar10 = datasets.CIFAR10(data_path, train=True, download=False,\n",
    "                                  transform=transforms.ToTensor())"
   ]
  },
  {
   "cell_type": "markdown",
   "metadata": {},
   "source": [
    "Luego de esto, accesar un elemento del dataset va a retornar un tensor en vez de una imagen PIL:"
   ]
  },
  {
   "cell_type": "code",
   "execution_count": null,
   "metadata": {},
   "outputs": [],
   "source": [
    "img_t, _ = tensor_cifar10[99]\n",
    "type(img_t)"
   ]
  },
  {
   "cell_type": "markdown",
   "metadata": {},
   "source": [
    "Como esperado, la forma tiene el canal como primera dimension, mientras que el tipo de escalar es `flaot32`"
   ]
  },
  {
   "cell_type": "code",
   "execution_count": null,
   "metadata": {},
   "outputs": [],
   "source": [
    "img_t.size(), img_t.dtype"
   ]
  },
  {
   "cell_type": "markdown",
   "metadata": {},
   "source": [
    "* Los valores de la imagen PIL original tenian un rango [0,255] (8-bit por canal)\n",
    "* El transform `ToTensor` cambio la data a 32-bit floating point por canal\n",
    "* escalo los valores a [0.0, 1.0]"
   ]
  },
  {
   "cell_type": "code",
   "execution_count": null,
   "metadata": {},
   "outputs": [],
   "source": [
    "img_t.min(), img_t.max()"
   ]
  },
  {
   "cell_type": "markdown",
   "metadata": {},
   "source": [
    "Verifiquemos que es la misma imagen:"
   ]
  },
  {
   "cell_type": "code",
   "execution_count": null,
   "metadata": {},
   "outputs": [],
   "source": [
    "plt.imshow(img_t.permute(1, 2, 0))\n",
    "plt.show()"
   ]
  },
  {
   "cell_type": "markdown",
   "metadata": {},
   "source": [
    "Lo es, pero tuvimos que usar `permute` para cambiar el orden de los ejes de CxHxW a HxWxC para pasarle a Matplotlib las dimensiones en el orden que las espera."
   ]
  },
  {
   "cell_type": "markdown",
   "metadata": {},
   "source": [
    "### Normalizar la data"
   ]
  },
  {
   "cell_type": "markdown",
   "metadata": {},
   "source": [
    "* Los transforms son utiles porque podemos encadenar varios usando `transforms.Compose`\n",
    "    * De esta forma podemos manejar la normalizacion y la aumentacion de data de forma transparente y directa en el data loader\n",
    "* Por ejemplo, es buena practica normalizar el dataset para que cada canal tenga $\\mu = 0$ y $\\sigma = 1$\n",
    "    * Si escogemos funciones de activacion que son lineales alrededor de 0 +- 1 (o 2), mantener la data en el mismo rango quiere decir que es mas probable que las neuronas tengan gradientes $\\neq 0$ y por tanto van a aprender antes.\n",
    "    * Asimismo, normalizar cada canal para que tenga la misma distribucion va a asegurar que la informacion del cana puede ser mezclada y actualizada con gradient descent usando el mismo learning rate."
   ]
  },
  {
   "cell_type": "markdown",
   "metadata": {},
   "source": [
    "Como CIFAR-10 es pequenio, podemos manipular todo en memoria. Vamos a apilar todos los tensores en el dataset a lo largo de una dimension extra:"
   ]
  },
  {
   "cell_type": "code",
   "execution_count": null,
   "metadata": {},
   "outputs": [],
   "source": [
    "imgs = torch.stack([img_t for img_t, _ in tensor_cifar10], dim=3)\n",
    "imgs.size()"
   ]
  },
  {
   "cell_type": "markdown",
   "metadata": {},
   "source": [
    "Ahora podemos calcular la media por canal:"
   ]
  },
  {
   "cell_type": "code",
   "execution_count": null,
   "metadata": {},
   "outputs": [],
   "source": [
    "imgs.view(3, -1).mean(dim=1)"
   ]
  },
  {
   "cell_type": "markdown",
   "metadata": {},
   "source": [
    "Lo mismo para la desviacion estandar"
   ]
  },
  {
   "cell_type": "code",
   "execution_count": null,
   "metadata": {},
   "outputs": [],
   "source": [
    "imgs.view(3, -1).std(dim=1)"
   ]
  },
  {
   "cell_type": "markdown",
   "metadata": {},
   "source": [
    "Con estos numeros podemos inicializar la tranformacion `Normalize`"
   ]
  },
  {
   "cell_type": "code",
   "execution_count": null,
   "metadata": {},
   "outputs": [],
   "source": [
    "transforms.Normalize((0.4915, 0.4823, 0.4468), (0.2470, 0.2435, 0.2616))"
   ]
  },
  {
   "cell_type": "markdown",
   "metadata": {},
   "source": [
    "Y concatenarlo luego del transform `ToTensor`"
   ]
  },
  {
   "cell_type": "code",
   "execution_count": null,
   "metadata": {},
   "outputs": [],
   "source": [
    "transformed_cifar10 = datasets.CIFAR10(data_path, train=True, download=False,\n",
    "                                      transform=transforms.Compose([\n",
    "                                          transforms.ToTensor(),\n",
    "                                          transforms.Normalize((0.4915, 0.4823, 0.4468),\n",
    "                                                               (0.2470, 0.2435, 0.2616))\n",
    "                                      ]))"
   ]
  },
  {
   "cell_type": "code",
   "execution_count": null,
   "metadata": {},
   "outputs": [],
   "source": [
    "transformed_cifar10_val = datasets.CIFAR10(data_path, train=False, download=False,\n",
    "                          transform=transforms.Compose([\n",
    "                              transforms.ToTensor(),\n",
    "                              transforms.Normalize((0.4915, 0.4823, 0.4468),\n",
    "                                                   (0.2470, 0.2435, 0.2616))\n",
    "                          ]))"
   ]
  },
  {
   "cell_type": "markdown",
   "metadata": {},
   "source": [
    "Noten que, despues de esto, plotear una imagen del dataset no nos va a proveer con una buena representacion de la imagen actual:"
   ]
  },
  {
   "cell_type": "code",
   "execution_count": null,
   "metadata": {},
   "outputs": [],
   "source": [
    "img_t, _ = transformed_cifar10[99]\n",
    "\n",
    "plt.imshow(img_t.permute(1,2,0))\n",
    "plt.show()"
   ]
  },
  {
   "cell_type": "markdown",
   "metadata": {},
   "source": [
    "Esto es porque la normalizacion ha cambiado los niveles de RGB fuera del rango [0.0, 1.0] y tambien las magnitudes generales de los canales.\n",
    "\n",
    "Toda la data sigue ahi, es solo que Matplotlib la representa como negra."
   ]
  },
  {
   "cell_type": "markdown",
   "metadata": {},
   "source": [
    "### Creando el dataset"
   ]
  },
  {
   "cell_type": "markdown",
   "metadata": {},
   "source": [
    "* El primer paso es tener la data en la forma correcta.\n",
    "* Podriamos hacer una sublcase que solo incluya pajaros y aviones\n",
    "* En vez de eso, la solucion facil es filtrar la data en `cifar10` y remapear las etiquetas"
   ]
  },
  {
   "cell_type": "code",
   "execution_count": null,
   "metadata": {},
   "outputs": [],
   "source": [
    "label_map = {0: 0, 2: 1}\n",
    "class_names = [\"airplane\", \"bird\"]\n",
    "\n",
    "cifar2 = [(img, label_map[label]) for img, label in cifar10 if label in [0, 2]]\n",
    "cifar2_val = [(img, label_map[label]) for img, label in cifar10_val if label in [0,2]]"
   ]
  },
  {
   "cell_type": "markdown",
   "metadata": {},
   "source": [
    "## El uso de Convolutions"
   ]
  },
  {
   "cell_type": "markdown",
   "metadata": {},
   "source": [
    "* Un modelo lineal entrenado en imagenes tiende a overfit el training set por la configuracion de fully connected layers\n",
    "* Necesita detectar varias posibles traslaciones de objetos en la imagen\n",
    "    * Esto necesita mucho parametros\n",
    "    * lo que causa que se mas facil para el modelo memorizar el training set\n",
    "* No hay independencia de la posicion\n",
    "    * Hace que generalizar sea mas dificil"
   ]
  },
  {
   "cell_type": "markdown",
   "metadata": {},
   "source": [
    "**Hay una mejor manera**\n",
    "\n",
    "* Reemplazar las fully connected layers de la NN con una operacion lineal diferente: convolutions\n",
    "* `nn.Linear`: Tomar una vista 1D de una imagen y multiplicarla con una weight matrix de `n_output_features x n_input_features`\n",
    "    * tomar todos los pixeles de la imagen y, por cada canal calcular la suma ponderada de todos los pixeles multiplicados por un set de weights, uno por output feature.\n",
    "* Si queremos reconocer patrones correspondientes a un objeto, necesitamos ver como estan arreglados pixeles cercanos\n",
    "    * Y estariamos menos interesados en en como pixeles separados aparecen en combinacion.\n",
    "* En esencia, no importa si la imagen con el objeto que queremos detectar tiene un arbol, nube, carro en la esquina o no"
   ]
  },
  {
   "cell_type": "markdown",
   "metadata": {},
   "source": [
    "* Para trasladar esta intuicion a forma matematica podriamos:\n",
    "    * calcular la suma ponderada de cada pixel con sus vecinos inmediatos, en vez de con todos los otros pixeles.\n",
    "    * Esto seria equivalente a construir weight matrices, una por output feature y ubicacion del output pixel.\n",
    "    * En este caso todos los weights despues de cierta distancia de un pixel central serian cero.\n",
    "* Hay una ultima propiedad deseada: \n",
    "    * queremos que estos patrones localizados tengan un efecto en el output sin importar su ubicacion en la imagen\n",
    "    * esto se llama translation-invariant."
   ]
  },
  {
   "cell_type": "markdown",
   "metadata": {},
   "source": [
    "### Entonces que es una convolution?"
   ]
  },
  {
   "cell_type": "markdown",
   "metadata": {},
   "source": [
    "Una convolution, o mas preciso una convolution discreta (hay una version continua), se define para una imagen de 2D como el producto escalar de un weight matrix, llamado el _kernel_, con todos los vecinos en el input. \n",
    "\n",
    "Consideren un kernel de 3x3 (en deep learning se acostumbra a usar kernels pequenios) como un tensor 2D:"
   ]
  },
  {
   "cell_type": "code",
   "execution_count": null,
   "metadata": {},
   "outputs": [],
   "source": [
    "weight = torch.tensor([w00, w01, w02],\n",
    "                      [w10, w11, w12],\n",
    "                      [w20, w21, w22])"
   ]
  },
  {
   "cell_type": "markdown",
   "metadata": {},
   "source": [
    "y una imagen MxN de 1 canal:"
   ]
  },
  {
   "cell_type": "code",
   "execution_count": null,
   "metadata": {},
   "outputs": [],
   "source": [
    "image = torch.tensor([[i00, i01, i02, i03, ..., i0N],\n",
    "                      [i10, i11, i12, i13, ..., i1N],\n",
    "                      [i20, i21, i22, i23, ..., i2N],\n",
    "                      [i30, i31, i32, i33, ..., i3N],\n",
    "                      ...\n",
    "                      [iM0, iM1, iM2, iM3, ..., iMN]])"
   ]
  },
  {
   "cell_type": "markdown",
   "metadata": {},
   "source": [
    "Podemos calcular un elemento de la imagen de output (sin bias) como:"
   ]
  },
  {
   "cell_type": "code",
   "execution_count": null,
   "metadata": {},
   "outputs": [],
   "source": [
    "o11 = i11 * w00 + i12 * w01 + i22 * w02 +\n",
    "      i21 * w10 + i22 * w11 + i23 * w12 +\n",
    "      i31 * w20 + i32 * w21 + i33 * w22"
   ]
  },
  {
   "cell_type": "markdown",
   "metadata": {},
   "source": [
    "### DIBUJO"
   ]
  },
  {
   "cell_type": "markdown",
   "metadata": {},
   "source": [
    "* Es decir, estamos \"trasladando\" el kernel en la ubicacion `i11` del input image, y multiplicamos cada peso con el valor de input image en su ubicacion correspondiente.\n",
    "* Por tanto, el output image es creada al trasladar el kernel sobre todas las ubicaciones del input y realizar una suma ponderada.\n",
    "* Para imagenes multi-canal, como nuestras imagenes RGB, el weight matrix seria una matriz 3x3x3,\n",
    "    * i.e. un set de weights por cada canal, contribuyendo en conjunto a los valores del output"
   ]
  },
  {
   "cell_type": "markdown",
   "metadata": {},
   "source": [
    "* Notese que el mismo kernel, y por tanto cada weight en el kernel, es reusado a traves de toda la imagen.\n",
    "* Pensando de regreso al Autograd:\n",
    "    * esto quiere decir que el uso de cada weight tiene una historia que incluye la imagen entera.\n",
    "    * por tanto, la derivada del los w.r.t a un convolution weight incluye contribuciones de la imagen entera."
   ]
  },
  {
   "cell_type": "markdown",
   "metadata": {},
   "source": [
    "Entonces, una convolution es equivalente a aplicar multiples operaciones lineales, cuyos pesos son cero casi en todos lados excepto alrededor de pixeles individuales y reciben actualizaciones equivalentes durante el entrenamiento."
   ]
  },
  {
   "cell_type": "markdown",
   "metadata": {},
   "source": [
    "### En resumen:"
   ]
  },
  {
   "cell_type": "markdown",
   "metadata": {},
   "source": [
    "Al cambiar a convolutions optuvimos:\n",
    "* operaciones locales sobre vecinos\n",
    "* translation-invariance\n",
    "* modelos con mucho menos parametros"
   ]
  },
  {
   "cell_type": "markdown",
   "metadata": {},
   "source": [
    "El insight clave en el tercer punto es que, con una convolution layer, el numero de parametrso no depende en el numero de pixeles en la imagen, como lo hace en un modelo fully connected.\n",
    "\n",
    "Depende en el convolution kernel (3x3, 5x5, etc) y en cuantos convolution filters (o output channels) decidimos usar en nuestro modelo."
   ]
  },
  {
   "cell_type": "markdown",
   "metadata": {},
   "source": [
    "## Convolutions en accion"
   ]
  },
  {
   "cell_type": "markdown",
   "metadata": {},
   "source": [
    "* El modulo `torch.nn` provee convolutions de 1,2 y 3 dimensiones:\n",
    "    * `nn.Conv1d` para series de tiempo\n",
    "    * `nn.Conv2d` para imagenes\n",
    "    * `nn.Conv3d` para videos\n",
    "* Para el dataset de CIFAR-10 vamos a usar `nn.Conv2d`. Como minimo los argumentos necesarios son:\n",
    "    * numero de features. En este caso **channels** porque estamos tratando con imagenes multi-canal, i.e. mas de un valor por pixel.\n",
    "    * numero de output features,\n",
    "    * tamanio del kernel\n",
    "* Por ejemplo, para nuestra primera convolutional layer vamos a tener:\n",
    "    * 3 input features por pixel (los canales de RGB)\n",
    "    * un numero arbitrario de canales en el output, por ejemplo 16\n",
    "    * Mientras mas canales en la imagen de output, mas capacidad del network.\n",
    "    * kernel de 3x3"
   ]
  },
  {
   "cell_type": "code",
   "execution_count": null,
   "metadata": {},
   "outputs": [],
   "source": [
    "# el kernel_size de 3 es un shortcut para \"3 en cada dimension\"\n",
    "# en este caso 2D, entonces 3x3\n",
    "# de lo contrario pueden pasar una tupla e.i. (3,3)\n",
    "conv = nn.Conv2d(3, 16, kernel_size=3)\n",
    "conv"
   ]
  },
  {
   "cell_type": "markdown",
   "metadata": {},
   "source": [
    "Podemos esperar un `weigt` tensor con el tamanio de la siguiente manera:\n",
    "* Vamos a tener la misma cantidad de kernels, de tamanio `n_input_channels x 3 x 3`, que el numero de output channels\n",
    "* Es decir, esperamos que el `weight` tensor sea de tamanio `n_input_channels x3x3x n_output_channels`, entonces `3x3x3x16`\n",
    "* El bias como siempre es un valor constante que sumamos a cada canale en el output image, 16"
   ]
  },
  {
   "cell_type": "code",
   "execution_count": null,
   "metadata": {},
   "outputs": [],
   "source": [
    "conv.weight.size(), conv.bias.size()"
   ]
  },
  {
   "cell_type": "markdown",
   "metadata": {},
   "source": [
    "Podemos ver porque los convolutions son convenientes para aprender de imagenes:\n",
    "* Tenemos modelos mas pequenios,\n",
    "* buscando patrones locales,\n",
    "* cuyos pesos estan optimizados a traves de la imagen entera"
   ]
  },
  {
   "cell_type": "markdown",
   "metadata": {},
   "source": [
    "* Un pase de una 2D convolution produce una imagen 2D como output.\n",
    "* Los pixeles son una suma ponderada sobre la imagen de input.\n",
    "* En nuestro caso, los weights del kernel y el bias se inicializan de forma aleatoria\n",
    "    * Por esta razon, la imagen de output no va a hacer sentido.\n",
    "* Como es costumbre, agregamos la dimension 0 (correspondiente al batch) con `unsqueeze`\n",
    "    * Esto se debe a que `nn.Conv2d` espera un tensor de forma `BxCxHxW` como input"
   ]
  },
  {
   "cell_type": "code",
   "execution_count": null,
   "metadata": {},
   "outputs": [],
   "source": [
    "img, _ = cifar2[0]\n",
    "output = conv(img.unsqueeze(0))\n",
    "img.unsqueeze(0).size(), output.size()"
   ]
  },
  {
   "cell_type": "markdown",
   "metadata": {},
   "source": [
    "Podemos ver el output despues de un convolution"
   ]
  },
  {
   "cell_type": "code",
   "execution_count": null,
   "metadata": {},
   "outputs": [],
   "source": [
    "plt.imshow(output[0, 0].detach(), cmap='gray')\n",
    "plt.show()"
   ]
  },
  {
   "cell_type": "markdown",
   "metadata": {},
   "source": [
    "* El output es mas pequenio\n",
    "    * `torch.Size([1, 16, 30, 30])`\n",
    "* Perdimos un par de pixeles en el proceso\n",
    "* Porque?"
   ]
  },
  {
   "cell_type": "markdown",
   "metadata": {},
   "source": [
    "* Es un efecto secundario de decidir que hacer en la orilla de la imagen.\n",
    "* Aplicar un convolution kernel como una suma ponderada sobre pixeles en un vecindario de 3x3 requiere que hayan vecinos en todas las direcciones.\n",
    "* Si estamos en `i00` solo tenemos pixeles a la derecha y hacia abajo.\n",
    "* Por default, PyTorch se va a saltar los pixeles en la orilla\n",
    "    * por tanto va a producir imagenes que son la mitad del ancho del convolution kernel mas pequenias en cada lado.\n",
    "    * en nuestro caso `3//2 = 1`\n",
    "    * Esto explica porque nos hacen faltas dos pixeles en cada dimension"
   ]
  },
  {
   "cell_type": "markdown",
   "metadata": {},
   "source": [
    "* PyTorch nos da la posibilidad de hacer **_padding_** sobre la imagen.\n",
    "    * crea pixeles fantasma alrededor del borde que tienen valor de 0 para el convolution.\n",
    "* Por ejemplo, especificar `padding=1` cuando el `kernel_size=3` quiere decir que:\n",
    "    * Ahora `i00` tiene un extra set de vecinos arriba y a su izquierda\n",
    "    * Ahora podemos calcular un output del convolution aun en la esquina de la imagen original\n",
    "    * el resultado es que el output tiene el mismo tamanio que la imagen original"
   ]
  },
  {
   "cell_type": "code",
   "execution_count": null,
   "metadata": {},
   "outputs": [],
   "source": [
    "conv = nn.Conv2d(3, 1, kernel_size=3, padding=1)\n",
    "output = conv(img.unsqueeze(0))\n",
    "img.unsqueeze(0).size(), output.size()"
   ]
  },
  {
   "cell_type": "markdown",
   "metadata": {},
   "source": [
    "* Noten el tamanio del `weight` y el `bias` no cambian se use o no padding.\n",
    "* El `weight` y `bias` son `Parameters` que van a ser aprendidos a traves de backprop\n",
    "    * de la misma forma que sucede para los `weights` y `bias` en `nn.Linear`\n",
    "* Pero podemos jugar con convolutions configurando los weights a mano para ver que pasa\n",
    "    * Primero vamos a hacer cero el `bias`\n",
    "    * Luego vamos a poner los `weights` para que cada pixel en el output obtenga la media de sus vecinos, por cada vecindario 3x3"
   ]
  },
  {
   "cell_type": "code",
   "execution_count": null,
   "metadata": {},
   "outputs": [],
   "source": [
    "with torch.no_grad():\n",
    "    conv.bias.zero_()\n",
    "\n",
    "with torch.no_grad():\n",
    "    conv.weight.fill_(1.0 / 9.0)"
   ]
  },
  {
   "cell_type": "markdown",
   "metadata": {},
   "source": [
    "Ahora miremos el efecto en una imagen de CIFAR"
   ]
  },
  {
   "cell_type": "code",
   "execution_count": null,
   "metadata": {},
   "outputs": [],
   "source": [
    "output = conv(img.unsqueeze(0))\n",
    "plt.imshow(output[0, 0].detach(), cmap='gray')\n",
    "plt.show()"
   ]
  },
  {
   "cell_type": "markdown",
   "metadata": {},
   "source": [
    "* El filtro produjo una version borrosa de la imagen.\n",
    "* Cada pixel en el output es un promedio de un vecindario del input\n",
    "    * esto causa que los pixeles del output esten correlacionados y cambien de manera mas suave"
   ]
  },
  {
   "cell_type": "markdown",
   "metadata": {},
   "source": [
    "Podemos probar algo diferente:"
   ]
  },
  {
   "cell_type": "code",
   "execution_count": null,
   "metadata": {},
   "outputs": [],
   "source": [
    "conv = nn.Conv2d(3, 1, kernel_size=3, padding=1)\n",
    "\n",
    "with torch.no_grad():\n",
    "    conv.weight[:] = torch.tensor([[-1.0, 0.0, 1.0],\n",
    "                                   [-1.0, 0.0, 1.0],\n",
    "                                   [-1.0, 0.0, 1.0]])\n",
    "    conv.bias.zero_()"
   ]
  },
  {
   "cell_type": "markdown",
   "metadata": {},
   "source": [
    "Calculando la suma ponderada de un pixel arbitrario en posicion `2,2` como hicimos arriba, obtenemos:"
   ]
  },
  {
   "cell_type": "code",
   "execution_count": null,
   "metadata": {},
   "outputs": [],
   "source": [
    "o22 = i13 - i11 +\n",
    "      i23 - i21 +\n",
    "      i33 - i31"
   ]
  },
  {
   "cell_type": "markdown",
   "metadata": {},
   "source": [
    "* Esto calcula la diferencia de todos los pixeles a la derecha de `i22`, menos los pixeles a la izquierda de `i22`.\n",
    "* En caso que haya un frontera entre dos regiones adyacentes de intensidad diferente\n",
    "    * `o22` va a tener un valor alto\n",
    "* Si aplicamos el kernel a una region de intensidad uniforme\n",
    "    * `o22` va a ser cero.\n",
    "* Esto se conoce como un edge detection kernel:\n",
    "    * El kernel indica las fronteras verticales entre dos regiones horizontalmente adyacentes"
   ]
  },
  {
   "cell_type": "code",
   "execution_count": null,
   "metadata": {},
   "outputs": [],
   "source": [
    "output = conv(img.unsqueeze(0))\n",
    "plt.imshow(output[0, 0].detach(), cmap='gray')\n",
    "plt.show()"
   ]
  },
  {
   "cell_type": "markdown",
   "metadata": {},
   "source": [
    "* El convolution kernel hace mas obvias las fronteras verticales.\n",
    "* Podriamos crear filtros mas elaborados\n",
    "    * detectar fronteras verticales, diagonales\n",
    "    * patrones\n",
    "    * en este caso detectar, quiere decir el el output va a tener una magnitud grande\n",
    "* En DL, dejamos que los kernels sean aprendidos de la data de tal manera que la discriminacion sea la mas efectiva.\n",
    "    * Por ejemplo, en terminos de nuestra loss function aplicada al output y al valor real\n",
    "* Desde este punto de vista, el trabajo de un convolutional NN es estimar el kernel de un banco de filtros en layers sucesivas\n",
    "    * el kernel va a transformar una imagen multi-canal a otra imagen multi-canal\n",
    "    * donde los diferentes canales van a corresponder a diferentes features (un canal para el promedio, otro para fronteras verticales, etc)"
   ]
  },
  {
   "cell_type": "markdown",
   "metadata": {},
   "source": [
    "### Depth y Pooling"
   ]
  },
  {
   "cell_type": "markdown",
   "metadata": {},
   "source": [
    "* Usamos convolutions para lograr locality y translation-invariance\n",
    "* Luego utilizamos kernels pequenios como `3x3` o `5x5`\n",
    "* Pero, como sabemos que todas las estructuras en nuestras imagenes caben en kernels de 3x3 o 5x5?\n",
    "    * No lo sabemos porque no caben\n",
    "* Entonces, como van los NNs a encontrar patrones mas grandes?"
   ]
  },
  {
   "cell_type": "markdown",
   "metadata": {},
   "source": [
    "* En los ConvNets usamos stacks varias convolutions sucesivas.\n",
    "* Al mismo tiempo hacemos downsampling de la imagen entre cada convolution layer\n",
    "* El resultado de esto es que:\n",
    "    * el primer conjunto de kernels opera en pequenios vecindarios en features de bajo nivel\n",
    "    * el segundo conjunto de kernels opera sobre vecindarios mas grandes, produciendo features que son composiciones de features previos\n",
    "    * asi sucesivamente\n",
    "* Esto permite al ConvNet ver escenas complejas"
   ]
  },
  {
   "cell_type": "markdown",
   "metadata": {},
   "source": [
    "![convnet features](../assets/conv_features.png)"
   ]
  },
  {
   "cell_type": "markdown",
   "metadata": {},
   "source": [
    "* El downsampling puede ocurrir de diferentes formas. Por ejemplo, podriamos:\n",
    "    * Promediar todos los pixeles. Un approach que fue al principio bastante comun.\n",
    "    * Tomar el maximo de los pixeles. El que se usa con mas frequencia pero descarta data."
   ]
  },
  {
   "cell_type": "markdown",
   "metadata": {},
   "source": [
    "* Intuitivamente los outputs del convolution layer, tienden a tener alta magnitud donde ciertas features correspondientes al kernel estimado son detectadas.\n",
    "    * Por ejemplo, fronteras verticales\n",
    "* Al mantener el valor mas alto en el downsampled output, nos estamos asegurando que los features que han sido encontrados van a sobrevivir el downsampling"
   ]
  },
  {
   "cell_type": "markdown",
   "metadata": {},
   "source": [
    "* Max-pooling esta en el modulo `nn.MaxPool2d`\n",
    "    * igual que las convolutions hay versiones 1d y 3D\n",
    "* Toma el input del tamanio sobre el cual va a operar la operacion de pooling.\n",
    "* Si queremos downsample nuestra imagen a la mitda, vamos a usar un size de 2."
   ]
  },
  {
   "cell_type": "code",
   "execution_count": null,
   "metadata": {},
   "outputs": [],
   "source": [
    "pool = nn.MaxPool2d(2)\n",
    "output = pool(img.unsqueeze(0))\n",
    "\n",
    "img.unsqueeze(0).size(), output.size()"
   ]
  },
  {
   "cell_type": "code",
   "execution_count": null,
   "metadata": {},
   "outputs": [],
   "source": [
    "mnist = datasets.MNIST(root=config.mnist_path, download=True, transform=transform)"
   ]
  },
  {
   "cell_type": "markdown",
   "metadata": {},
   "source": [
    "# Ejercicio para el Lunes 28 de Octubre"
   ]
  },
  {
   "cell_type": "code",
   "execution_count": 2,
   "metadata": {},
   "outputs": [],
   "source": [
    "import numpy as np\n",
    "import torch\n",
    "import torchvision\n",
    "import matplotlib.pyplot as plt\n",
    "from time import time\n",
    "from torchvision import datasets, transforms\n",
    "from torch import nn, optim"
   ]
  },
  {
   "cell_type": "code",
   "execution_count": 3,
   "metadata": {},
   "outputs": [],
   "source": [
    "transform = transforms.Compose([transforms.ToTensor(),\n",
    "                              transforms.Normalize((0.5,), (0.5,)),\n",
    "                              ])"
   ]
  },
  {
   "cell_type": "code",
   "execution_count": 4,
   "metadata": {},
   "outputs": [
    {
     "name": "stderr",
     "output_type": "stream",
     "text": [
      "0it [00:00, ?it/s]"
     ]
    },
    {
     "name": "stdout",
     "output_type": "stream",
     "text": [
      "Downloading http://yann.lecun.com/exdb/mnist/train-images-idx3-ubyte.gz to PATH_TO_STORE_TRAINSET/MNIST/raw/train-images-idx3-ubyte.gz\n"
     ]
    },
    {
     "name": "stderr",
     "output_type": "stream",
     "text": [
      " 98%|█████████▊| 9748480/9912422 [00:10<00:00, 1129784.64it/s]"
     ]
    },
    {
     "name": "stdout",
     "output_type": "stream",
     "text": [
      "Extracting PATH_TO_STORE_TRAINSET/MNIST/raw/train-images-idx3-ubyte.gz\n"
     ]
    },
    {
     "name": "stderr",
     "output_type": "stream",
     "text": [
      "\n",
      "0it [00:00, ?it/s]\u001b[A"
     ]
    },
    {
     "name": "stdout",
     "output_type": "stream",
     "text": [
      "Downloading http://yann.lecun.com/exdb/mnist/train-labels-idx1-ubyte.gz to PATH_TO_STORE_TRAINSET/MNIST/raw/train-labels-idx1-ubyte.gz\n"
     ]
    },
    {
     "name": "stderr",
     "output_type": "stream",
     "text": [
      "\n",
      "  0%|          | 0/28881 [00:00<?, ?it/s]\u001b[A\n",
      "32768it [00:00, 38434.93it/s]                           \n",
      "\n",
      "0it [00:00, ?it/s]\u001b[A"
     ]
    },
    {
     "name": "stdout",
     "output_type": "stream",
     "text": [
      "Extracting PATH_TO_STORE_TRAINSET/MNIST/raw/train-labels-idx1-ubyte.gz\n",
      "Downloading http://yann.lecun.com/exdb/mnist/t10k-images-idx3-ubyte.gz to PATH_TO_STORE_TRAINSET/MNIST/raw/t10k-images-idx3-ubyte.gz\n"
     ]
    },
    {
     "name": "stderr",
     "output_type": "stream",
     "text": [
      "\n",
      "  0%|          | 0/1648877 [00:00<?, ?it/s]\u001b[A\n",
      "  1%|          | 16384/1648877 [00:00<00:14, 115157.19it/s]\u001b[A\n",
      "  4%|▍         | 65536/1648877 [00:00<00:10, 146476.96it/s]\u001b[A\n",
      "  9%|▉         | 147456/1648877 [00:00<00:07, 190224.52it/s]\u001b[A\n",
      " 17%|█▋        | 278528/1648877 [00:00<00:05, 255520.36it/s]\u001b[A\n",
      " 21%|██▏       | 352256/1648877 [00:01<00:04, 309689.85it/s]\u001b[A\n",
      " 34%|███▍      | 565248/1648877 [00:01<00:02, 398543.22it/s]\u001b[A\n",
      " 46%|████▌     | 761856/1648877 [00:01<00:01, 518147.62it/s]\u001b[A\n",
      " 58%|█████▊    | 950272/1648877 [00:01<00:01, 652936.19it/s]\u001b[A\n",
      " 70%|██████▉   | 1146880/1648877 [00:01<00:00, 805486.08it/s]\u001b[A\n",
      " 79%|███████▉  | 1302528/1648877 [00:01<00:00, 931876.96it/s]\u001b[A\n",
      " 88%|████████▊ | 1449984/1648877 [00:01<00:00, 1017026.86it/s]\u001b[A\n",
      "1654784it [00:01, 852124.47it/s]                              \n",
      "\n",
      "0it [00:00, ?it/s]\u001b[A"
     ]
    },
    {
     "name": "stdout",
     "output_type": "stream",
     "text": [
      "Extracting PATH_TO_STORE_TRAINSET/MNIST/raw/t10k-images-idx3-ubyte.gz\n",
      "Downloading http://yann.lecun.com/exdb/mnist/t10k-labels-idx1-ubyte.gz to PATH_TO_STORE_TRAINSET/MNIST/raw/t10k-labels-idx1-ubyte.gz\n"
     ]
    },
    {
     "name": "stderr",
     "output_type": "stream",
     "text": [
      "\n",
      "8192it [00:00, 47794.61it/s]            \n",
      "\n",
      "0it [00:00, ?it/s]\u001b[A"
     ]
    },
    {
     "name": "stdout",
     "output_type": "stream",
     "text": [
      "Extracting PATH_TO_STORE_TRAINSET/MNIST/raw/t10k-labels-idx1-ubyte.gz\n",
      "Processing...\n",
      "Done!\n",
      "Downloading http://yann.lecun.com/exdb/mnist/train-images-idx3-ubyte.gz to PATH_TO_STORE_TESTSET/MNIST/raw/train-images-idx3-ubyte.gz\n"
     ]
    },
    {
     "name": "stderr",
     "output_type": "stream",
     "text": [
      "\n",
      "  0%|          | 0/9912422 [00:00<?, ?it/s]\u001b[A\n",
      "  0%|          | 16384/9912422 [00:00<01:08, 145481.46it/s]\u001b[A\n",
      "  1%|          | 81920/9912422 [00:00<00:51, 189604.25it/s]\u001b[A\n",
      "  1%|          | 114688/9912422 [00:00<00:46, 211620.54it/s]\u001b[A\n",
      "  2%|▏         | 229376/9912422 [00:00<00:34, 279455.52it/s]\u001b[A\n",
      "  4%|▎         | 352256/9912422 [00:00<00:27, 348107.50it/s]\u001b[A\n",
      "  5%|▍         | 450560/9912422 [00:00<00:22, 419138.14it/s]\u001b[A\n",
      "  6%|▋         | 622592/9912422 [00:01<00:17, 532204.97it/s]\u001b[A\n",
      "  7%|▋         | 712704/9912422 [00:01<00:16, 565457.80it/s]\u001b[A\n",
      "  9%|▉         | 901120/9912422 [00:01<00:12, 715512.50it/s]\u001b[A\n",
      " 10%|█         | 1015808/9912422 [00:01<00:11, 793101.79it/s]\u001b[A\n",
      " 11%|█▏        | 1130496/9912422 [00:01<00:12, 694848.78it/s]\u001b[A\n",
      " 12%|█▏        | 1228800/9912422 [00:01<00:15, 575572.67it/s]\u001b[A\n",
      " 13%|█▎        | 1310720/9912422 [00:02<00:19, 445457.13it/s]\u001b[A\n",
      " 14%|█▍        | 1376256/9912422 [00:02<00:18, 472860.08it/s]\u001b[A\n",
      " 15%|█▍        | 1441792/9912422 [00:02<00:22, 383705.85it/s]\u001b[A\n",
      " 15%|█▌        | 1515520/9912422 [00:02<00:24, 349313.00it/s]\u001b[A\n",
      " 17%|█▋        | 1646592/9912422 [00:02<00:18, 444350.44it/s]\u001b[A\n",
      " 18%|█▊        | 1794048/9912422 [00:02<00:14, 547057.41it/s]\u001b[A\n",
      " 19%|█▉        | 1925120/9912422 [00:03<00:12, 622782.12it/s]\u001b[A\n",
      " 20%|██        | 2015232/9912422 [00:03<00:14, 550232.82it/s]\u001b[A\n",
      " 22%|██▏       | 2138112/9912422 [00:03<00:11, 658846.55it/s]\u001b[A\n",
      " 23%|██▎       | 2310144/9912422 [00:03<00:09, 806218.87it/s]\u001b[A\n",
      " 25%|██▍       | 2441216/9912422 [00:03<00:08, 906391.80it/s]\u001b[A\n",
      " 26%|██▌       | 2572288/9912422 [00:03<00:07, 995774.36it/s]\u001b[A\n",
      " 27%|██▋       | 2695168/9912422 [00:03<00:07, 1018663.26it/s]\u001b[A\n",
      " 29%|██▉       | 2867200/9912422 [00:03<00:06, 1156652.15it/s]\u001b[A\n",
      " 31%|███       | 3055616/9912422 [00:04<00:05, 1266695.12it/s]\u001b[A\n",
      " 32%|███▏      | 3203072/9912422 [00:04<00:05, 1215702.30it/s]\u001b[A\n",
      " 34%|███▍      | 3375104/9912422 [00:04<00:05, 1288869.80it/s]\u001b[A\n",
      " 35%|███▌      | 3514368/9912422 [00:04<00:05, 1132226.59it/s]\u001b[A\n",
      " 38%|███▊      | 3792896/9912422 [00:04<00:04, 1367891.06it/s]\u001b[A\n",
      " 40%|███▉      | 3964928/9912422 [00:05<00:08, 676001.41it/s] \u001b[A\n",
      " 41%|████▏     | 4096000/9912422 [00:05<00:07, 766963.92it/s]\u001b[A\n",
      " 43%|████▎     | 4218880/9912422 [00:05<00:08, 637546.76it/s]\u001b[A\n",
      " 44%|████▎     | 4325376/9912422 [00:05<00:09, 571237.32it/s]\u001b[A\n",
      " 45%|████▍     | 4415488/9912422 [00:05<00:10, 536612.07it/s]\u001b[A\n",
      " 45%|████▌     | 4489216/9912422 [00:08<01:10, 76828.42it/s] \u001b[A\n",
      " 51%|█████     | 5029888/9912422 [00:08<00:44, 108877.77it/s]\u001b[A\n",
      " 52%|█████▏    | 5193728/9912422 [00:09<00:36, 130729.68it/s]\u001b[A\n",
      " 54%|█████▎    | 5316608/9912422 [00:09<00:29, 157904.80it/s]\u001b[A\n",
      " 55%|█████▍    | 5414912/9912422 [00:10<00:30, 147722.05it/s]\u001b[A\n",
      " 55%|█████▌    | 5488640/9912422 [00:10<00:24, 177355.64it/s]\u001b[A\n",
      " 56%|█████▌    | 5570560/9912422 [00:11<00:19, 224784.86it/s]\u001b[A\n",
      " 57%|█████▋    | 5636096/9912422 [00:11<00:17, 246647.90it/s]\u001b[A\n",
      " 57%|█████▋    | 5693440/9912422 [00:11<00:14, 296821.02it/s]\u001b[A\n",
      " 58%|█████▊    | 5750784/9912422 [00:11<00:13, 309749.04it/s]\u001b[A\n",
      " 59%|█████▉    | 5873664/9912422 [00:11<00:10, 397999.33it/s]\u001b[A\n",
      " 60%|█████▉    | 5947392/9912422 [00:11<00:09, 400820.67it/s]\u001b[A\n",
      " 61%|██████    | 6021120/9912422 [00:11<00:08, 457548.28it/s]\u001b[A\n",
      " 61%|██████▏   | 6086656/9912422 [00:12<00:08, 459631.82it/s]\u001b[A\n",
      " 63%|██████▎   | 6258688/9912422 [00:12<00:06, 585070.55it/s]\u001b[A\n",
      " 64%|██████▍   | 6348800/9912422 [00:12<00:09, 368020.33it/s]\u001b[A\n",
      " 65%|██████▍   | 6422528/9912422 [00:12<00:09, 386845.47it/s]\u001b[A\n",
      " 66%|██████▌   | 6529024/9912422 [00:12<00:07, 476692.94it/s]\u001b[A\n",
      " 67%|██████▋   | 6610944/9912422 [00:13<00:06, 504289.59it/s]\u001b[A\n",
      " 68%|██████▊   | 6774784/9912422 [00:13<00:05, 588670.72it/s]\u001b[A\n",
      " 69%|██████▉   | 6856704/9912422 [00:13<00:04, 628586.67it/s]\u001b[A\n",
      " 71%|███████   | 7053312/9912422 [00:13<00:03, 789551.17it/s]\u001b[A\n",
      " 73%|███████▎  | 7217152/9912422 [00:13<00:02, 920058.06it/s]\u001b[A\n",
      " 75%|███████▍  | 7397376/9912422 [00:13<00:02, 1076784.90it/s]\u001b[A\n",
      " 76%|███████▌  | 7544832/9912422 [00:13<00:02, 1059486.35it/s]\u001b[A\n",
      " 79%|███████▊  | 7782400/9912422 [00:13<00:01, 1249260.00it/s]\u001b[A\n",
      " 80%|████████  | 7962624/9912422 [00:14<00:01, 1329201.69it/s]\u001b[A\n",
      " 82%|████████▏ | 8118272/9912422 [00:14<00:01, 1385634.04it/s]\u001b[A\n",
      " 85%|████████▍ | 8404992/9912422 [00:14<00:00, 1521906.78it/s]\u001b[A\n",
      " 87%|████████▋ | 8577024/9912422 [00:14<00:00, 1551581.27it/s]\u001b[A\n",
      " 88%|████████▊ | 8749056/9912422 [00:14<00:00, 1578307.71it/s]\u001b[A\n",
      " 90%|████████▉ | 8921088/9912422 [00:14<00:00, 1330573.11it/s]\u001b[A\n",
      " 91%|█████████▏| 9068544/9912422 [00:14<00:00, 1304108.50it/s]\u001b[A\n",
      " 93%|█████████▎| 9265152/9912422 [00:14<00:00, 1424204.79it/s]\u001b[A\n",
      " 95%|█████████▌| 9420800/9912422 [00:15<00:00, 1222388.83it/s]\u001b[A\n",
      " 97%|█████████▋| 9625600/9912422 [00:15<00:00, 1385955.21it/s]\u001b[A\n",
      " 99%|█████████▊| 9781248/9912422 [00:15<00:00, 1198664.96it/s]\u001b[A\n",
      "9920512it [00:15, 1087571.83it/s]                             \u001b[A"
     ]
    },
    {
     "name": "stdout",
     "output_type": "stream",
     "text": [
      "Extracting PATH_TO_STORE_TESTSET/MNIST/raw/train-images-idx3-ubyte.gz\n"
     ]
    },
    {
     "name": "stderr",
     "output_type": "stream",
     "text": [
      "\n",
      "\n",
      "0it [00:00, ?it/s]\u001b[A\u001b[A\n",
      "\n",
      "  0%|          | 0/28881 [00:00<?, ?it/s]\u001b[A\u001b[A"
     ]
    },
    {
     "name": "stdout",
     "output_type": "stream",
     "text": [
      "Downloading http://yann.lecun.com/exdb/mnist/train-labels-idx1-ubyte.gz to PATH_TO_STORE_TESTSET/MNIST/raw/train-labels-idx1-ubyte.gz\n"
     ]
    },
    {
     "name": "stderr",
     "output_type": "stream",
     "text": [
      "\n",
      "\n",
      "32768it [00:00, 103914.24it/s]                           \n",
      "\n",
      "\n",
      "9920512it [00:30, 1129784.64it/s]                             \n",
      "\n",
      "  0%|          | 0/1648877 [00:00<?, ?it/s]\u001b[A\u001b[A"
     ]
    },
    {
     "name": "stdout",
     "output_type": "stream",
     "text": [
      "Extracting PATH_TO_STORE_TESTSET/MNIST/raw/train-labels-idx1-ubyte.gz\n",
      "Downloading http://yann.lecun.com/exdb/mnist/t10k-images-idx3-ubyte.gz to PATH_TO_STORE_TESTSET/MNIST/raw/t10k-images-idx3-ubyte.gz\n"
     ]
    },
    {
     "name": "stderr",
     "output_type": "stream",
     "text": [
      "\n",
      "\n",
      "  1%|          | 16384/1648877 [00:00<00:12, 131521.28it/s]\u001b[A\u001b[A\n",
      "\n",
      "  5%|▌         | 90112/1648877 [00:00<00:09, 169618.63it/s]\u001b[A\u001b[A\n",
      "\n",
      " 15%|█▍        | 245760/1648877 [00:00<00:06, 230535.45it/s]\u001b[A\u001b[A\n",
      "\n",
      " 24%|██▍       | 393216/1648877 [00:00<00:04, 307989.45it/s]\u001b[A\u001b[A\n",
      "\n",
      " 29%|██▉       | 475136/1648877 [00:00<00:03, 369287.34it/s]\u001b[A\u001b[A\n",
      "\n",
      " 40%|███▉      | 655360/1648877 [00:00<00:02, 480212.34it/s]\u001b[A\u001b[A\n",
      "\n",
      " 49%|████▉     | 811008/1648877 [00:01<00:01, 598487.95it/s]\u001b[A\u001b[A\n",
      "\n",
      " 66%|██████▌   | 1081344/1648877 [00:01<00:00, 741309.97it/s]\u001b[A\u001b[A\n",
      "\n",
      " 77%|███████▋  | 1261568/1648877 [00:01<00:00, 895915.42it/s]\u001b[A\u001b[A\n",
      "\n",
      " 88%|████████▊ | 1449984/1648877 [00:01<00:00, 1049857.65it/s]\u001b[A\u001b[A\n",
      "\n",
      "\n",
      "0it [00:00, ?it/s]\u001b[A\u001b[A\u001b[A"
     ]
    },
    {
     "name": "stdout",
     "output_type": "stream",
     "text": [
      "Extracting PATH_TO_STORE_TESTSET/MNIST/raw/t10k-images-idx3-ubyte.gz\n",
      "Downloading http://yann.lecun.com/exdb/mnist/t10k-labels-idx1-ubyte.gz to PATH_TO_STORE_TESTSET/MNIST/raw/t10k-labels-idx1-ubyte.gz\n"
     ]
    },
    {
     "name": "stderr",
     "output_type": "stream",
     "text": [
      "\n",
      "\n",
      "\n",
      "8192it [00:00, 43530.75it/s]            \n"
     ]
    },
    {
     "name": "stdout",
     "output_type": "stream",
     "text": [
      "Extracting PATH_TO_STORE_TESTSET/MNIST/raw/t10k-labels-idx1-ubyte.gz\n",
      "Processing...\n",
      "Done!\n"
     ]
    },
    {
     "name": "stderr",
     "output_type": "stream",
     "text": [
      "\n",
      "9920512it [00:26, 1087571.83it/s]\u001b[A\n",
      "\n",
      "1654784it [00:20, 1049857.65it/s]                             \u001b[A\u001b[A"
     ]
    }
   ],
   "source": [
    "trainset = datasets.MNIST('PATH_TO_STORE_TRAINSET', download=True, train=True, transform=transform)\n",
    "valset = datasets.MNIST('PATH_TO_STORE_TESTSET', download=True, train=False, transform=transform)\n",
    "trainloader = torch.utils.data.DataLoader(trainset, batch_size=64, shuffle=True)\n",
    "valloader = torch.utils.data.DataLoader(valset, batch_size=64, shuffle=True)"
   ]
  },
  {
   "cell_type": "code",
   "execution_count": 5,
   "metadata": {},
   "outputs": [
    {
     "name": "stdout",
     "output_type": "stream",
     "text": [
      "torch.Size([64, 1, 28, 28])\n",
      "torch.Size([64])\n"
     ]
    }
   ],
   "source": [
    "dataiter = iter(trainloader)\n",
    "images, labels = dataiter.next()\n",
    "\n",
    "print(images.shape)\n",
    "print(labels.shape)"
   ]
  },
  {
   "cell_type": "code",
   "execution_count": 6,
   "metadata": {},
   "outputs": [
    {
     "data": {
      "image/png": "[encoded data removed]",
      "text/plain": [
       "<Figure size 432x288 with 1 Axes>"
      ]
     },
     "metadata": {
      "needs_background": "light"
     },
     "output_type": "display_data"
    }
   ],
   "source": [
    "plt.imshow(images[0].numpy().squeeze(), cmap='gray_r');"
   ]
  },
  {
   "cell_type": "code",
   "execution_count": 7,
   "metadata": {},
   "outputs": [
    {
     "data": {
      "image/png": "[encoded data removed]",
      "text/plain": [
       "<Figure size 432x288 with 60 Axes>"
      ]
     },
     "metadata": {
      "needs_background": "light"
     },
     "output_type": "display_data"
    }
   ],
   "source": [
    "figure = plt.figure()\n",
    "num_of_images = 60\n",
    "for index in range(1, num_of_images + 1):\n",
    "    plt.subplot(6, 10, index)\n",
    "    plt.axis('off')\n",
    "    plt.imshow(images[index].numpy().squeeze(), cmap='gray_r')"
   ]
  },
  {
   "cell_type": "code",
   "execution_count": 8,
   "metadata": {},
   "outputs": [
    {
     "name": "stdout",
     "output_type": "stream",
     "text": [
      "Sequential(\n",
      "  (0): Linear(in_features=784, out_features=128, bias=True)\n",
      "  (1): ReLU()\n",
      "  (2): Linear(in_features=128, out_features=64, bias=True)\n",
      "  (3): ReLU()\n",
      "  (4): Linear(in_features=64, out_features=10, bias=True)\n",
      "  (5): LogSoftmax()\n",
      ")\n"
     ]
    }
   ],
   "source": [
    "input_size = 784\n",
    "hidden_sizes = [128, 64]\n",
    "output_size = 10\n",
    "\n",
    "model = nn.Sequential(nn.Linear(input_size, hidden_sizes[0]),\n",
    "                      nn.ReLU(),\n",
    "                      nn.Linear(hidden_sizes[0], hidden_sizes[1]),\n",
    "                      nn.ReLU(),\n",
    "                      nn.Linear(hidden_sizes[1], output_size),\n",
    "                      nn.LogSoftmax(dim=1))\n",
    "print(model)\n"
   ]
  },
  {
   "cell_type": "code",
   "execution_count": 9,
   "metadata": {},
   "outputs": [],
   "source": [
    "criterion = nn.NLLLoss()\n",
    "images, labels = next(iter(trainloader))\n",
    "images = images.view(images.shape[0], -1)\n",
    "\n",
    "logps = model(images) #log probabilities\n",
    "loss = criterion(logps, labels) #calculate the NLL loss"
   ]
  },
  {
   "cell_type": "code",
   "execution_count": 10,
   "metadata": {},
   "outputs": [
    {
     "name": "stdout",
     "output_type": "stream",
     "text": [
      "Before backward pass: \n",
      " None\n",
      "After backward pass: \n",
      " tensor([[ 0.0000e+00,  0.0000e+00,  0.0000e+00,  ...,  0.0000e+00,\n",
      "          0.0000e+00,  0.0000e+00],\n",
      "        [-4.6099e-03, -4.6099e-03, -4.6099e-03,  ..., -4.6099e-03,\n",
      "         -4.6099e-03, -4.6099e-03],\n",
      "        [ 1.8843e-03,  1.8843e-03,  1.8843e-03,  ...,  1.8843e-03,\n",
      "          1.8843e-03,  1.8843e-03],\n",
      "        ...,\n",
      "        [-1.3383e-03, -1.3383e-03, -1.3383e-03,  ..., -1.3383e-03,\n",
      "         -1.3383e-03, -1.3383e-03],\n",
      "        [-2.7226e-04, -2.7226e-04, -2.7226e-04,  ..., -2.7226e-04,\n",
      "         -2.7226e-04, -2.7226e-04],\n",
      "        [-7.8666e-05, -7.8666e-05, -7.8666e-05,  ..., -7.8666e-05,\n",
      "         -7.8666e-05, -7.8666e-05]])\n"
     ]
    }
   ],
   "source": [
    "print('Before backward pass: \\n', model[0].weight.grad)\n",
    "loss.backward()\n",
    "print('After backward pass: \\n', model[0].weight.grad)"
   ]
  },
  {
   "cell_type": "code",
   "execution_count": 11,
   "metadata": {},
   "outputs": [
    {
     "name": "stdout",
     "output_type": "stream",
     "text": [
      "Epoch 0 - Training loss: 0.6653974536957263\n",
      "Epoch 1 - Training loss: 0.28235684852324316\n",
      "Epoch 2 - Training loss: 0.2180208152990097\n",
      "Epoch 3 - Training loss: 0.17464067713855935\n",
      "Epoch 4 - Training loss: 0.14643142287379135\n",
      "Epoch 5 - Training loss: 0.12741596350617118\n",
      "Epoch 6 - Training loss: 0.11076535738067332\n",
      "Epoch 7 - Training loss: 0.09974272793798304\n",
      "Epoch 8 - Training loss: 0.08963547982990361\n",
      "Epoch 9 - Training loss: 0.08195329415820428\n",
      "Epoch 10 - Training loss: 0.07469957291698659\n",
      "Epoch 11 - Training loss: 0.06825814801238493\n",
      "Epoch 12 - Training loss: 0.06245342181769134\n",
      "Epoch 13 - Training loss: 0.05863004305294709\n",
      "Epoch 14 - Training loss: 0.054181918402565823\n",
      "\n",
      "Training Time (in minutes) = 2.225169519583384\n"
     ]
    }
   ],
   "source": [
    "optimizer = optim.SGD(model.parameters(), lr=0.003, momentum=0.9)\n",
    "time0 = time()\n",
    "epochs = 15\n",
    "for e in range(epochs):\n",
    "    running_loss = 0\n",
    "    for images, labels in trainloader:\n",
    "        images = images.view(images.shape[0], -1)\n",
    "        optimizer.zero_grad()\n",
    "        output = model(images)\n",
    "        loss = criterion(output, labels)\n",
    "        loss.backward()\n",
    "        optimizer.step()\n",
    "        running_loss += loss.item()\n",
    "    else:\n",
    "        print(\"Epoch {} - Training loss: {}\".format(e, running_loss/len(trainloader)))\n",
    "print(\"\\nTraining Time (in minutes) =\",(time()-time0)/60)"
   ]
  },
  {
   "cell_type": "code",
   "execution_count": 14,
   "metadata": {},
   "outputs": [],
   "source": [
    "def view_classify(img, ps):\n",
    "    ''' Function for viewing an image and it's predicted classes.\n",
    "    '''\n",
    "    ps = ps.cpu().data.numpy().squeeze()\n",
    "\n",
    "    fig, (ax1, ax2) = plt.subplots(figsize=(6,9), ncols=2)\n",
    "    ax1.imshow(img.resize_(1, 28, 28).numpy().squeeze())\n",
    "    ax1.axis('off')\n",
    "    ax2.barh(np.arange(10), ps)\n",
    "    ax2.set_aspect(0.1)\n",
    "    ax2.set_yticks(np.arange(10))\n",
    "    ax2.set_yticklabels(np.arange(10))\n",
    "    ax2.set_title('Class Probability')\n",
    "    ax2.set_xlim(0, 1.1)\n",
    "    plt.tight_layout()"
   ]
  },
  {
   "cell_type": "code",
   "execution_count": 15,
   "metadata": {},
   "outputs": [
    {
     "name": "stdout",
     "output_type": "stream",
     "text": [
      "Predicted Digit = 4\n"
     ]
    },
    {
     "data": {
      "image/png": "[encoded data removed]",
      "text/plain": [
       "<Figure size 432x648 with 2 Axes>"
      ]
     },
     "metadata": {
      "needs_background": "light"
     },
     "output_type": "display_data"
    }
   ],
   "source": [
    "images, labels = next(iter(valloader))\n",
    "\n",
    "img = images[0].view(1, 784)\n",
    "with torch.no_grad():\n",
    "    logps = model(img)\n",
    "\n",
    "ps = torch.exp(logps)\n",
    "probab = list(ps.numpy()[0])\n",
    "print(\"Predicted Digit =\", probab.index(max(probab)))\n",
    "view_classify(img.view(1, 28, 28), ps)"
   ]
  },
  {
   "cell_type": "code",
   "execution_count": 16,
   "metadata": {},
   "outputs": [
    {
     "name": "stdout",
     "output_type": "stream",
     "text": [
      "Number Of Images Tested = 10000\n",
      "\n",
      "Model Accuracy = 0.9746\n"
     ]
    }
   ],
   "source": [
    "correct_count, all_count = 0, 0\n",
    "for images,labels in valloader:\n",
    "  for i in range(len(labels)):\n",
    "    img = images[i].view(1, 784)\n",
    "    with torch.no_grad():\n",
    "        logps = model(img)\n",
    "\n",
    "    \n",
    "    ps = torch.exp(logps)\n",
    "    probab = list(ps.numpy()[0])\n",
    "    pred_label = probab.index(max(probab))\n",
    "    true_label = labels.numpy()[i]\n",
    "    if(true_label == pred_label):\n",
    "      correct_count += 1\n",
    "    all_count += 1\n",
    "\n",
    "print(\"Number Of Images Tested =\", all_count)\n",
    "print(\"\\nModel Accuracy =\", (correct_count/all_count))"
   ]
  },
  {
   "cell_type": "code",
   "execution_count": null,
   "metadata": {},
   "outputs": [],
   "source": [
    "#torch.save(model, './my_mnist_model.pt') "
   ]
  },
  {
   "cell_type": "code",
   "execution_count": null,
   "metadata": {},
   "outputs": [],
   "source": []
  },
  {
   "cell_type": "code",
   "execution_count": null,
   "metadata": {},
   "outputs": [],
   "source": []
  },
  {
   "cell_type": "code",
   "execution_count": null,
   "metadata": {},
   "outputs": [],
   "source": []
  },
  {
   "cell_type": "code",
   "execution_count": null,
   "metadata": {},
   "outputs": [],
   "source": []
  }
 ],
 "metadata": {
  "kernelspec": {
   "display_name": "Python 3",
   "language": "python",
   "name": "python3"
  },
  "language_info": {
   "codemirror_mode": {
    "name": "ipython",
    "version": 3
   },
   "file_extension": ".py",
   "mimetype": "text/x-python",
   "name": "python",
   "nbconvert_exporter": "python",
   "pygments_lexer": "ipython3",
   "version": "3.7.2"
  }
 },
 "nbformat": 4,
 "nbformat_minor": 4
}
