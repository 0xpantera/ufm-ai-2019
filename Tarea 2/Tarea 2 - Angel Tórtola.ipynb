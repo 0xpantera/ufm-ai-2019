{
 "cells": [
  {
   "cell_type": "markdown",
   "metadata": {},
   "source": [
    "# Ejercicios \n",
    "\n",
    "#### I:\n",
    "1. Crear un tensor de `list(range(9))` e indicar cual es el `size`, `offset`, y `strides`\n",
    "    * Crear un tensor `b = a.view(3, 3)`. Cual es el valor de `b[1, 1]`\n",
    "    * crear un tensor `c = b[1:, 1:]`. Cual es el `size`, `offset`, `strides`?\n",
    "2. Escogan una operacion matematica como cosine o sqrt. Hay una funcion correspondiente en PyTorch?\n",
    "    * Existe una version de esa operacion que opera `in-place`?\n",
    "\n",
    "#### II:\n",
    "1. Crear un tensor 2D y luego agregar una dimension de tamanio 1 insertada en la dimension 0.\n",
    "2. Eliminar la dimension extra que agrego en el tensor previo.\n",
    "3. Crear un tensor aleatorio de forma $5x3$ en el intervalo $[3,7)$\n",
    "4. Crear un tensor con valores de una distribucion normal ($\\mu=0, \\sigma=1$)\n",
    "5. Recuperar los indices de todos los elementos no cero en el tensor `torch.Tensor([1,1,1,0,1])`.\n",
    "6. Crear un tensor aleatorio de forma `(3,1)` y luego apilar cuatro copias horizontalmente.\n",
    "7. Retornar el producto batch matrix-matrix de dos matrices 3D: (`a=torch.randn(3,4,5)`, `b=torch.rand(3,5,4)`)\n",
    "8. Retornar el producto batch matrix-matrix de una matriz 3D y una matriz 2D: (`a=torch.rand(3,4,5)`, `b=torch.rand(5,4)`)."
   ]
  },
  {
   "cell_type": "code",
   "execution_count": 1,
   "metadata": {},
   "outputs": [],
   "source": [
    "import torch"
   ]
  },
  {
   "cell_type": "code",
   "execution_count": 5,
   "metadata": {},
   "outputs": [
    {
     "name": "stdout",
     "output_type": "stream",
     "text": [
      "Size:  torch.Size([9]) , Offset: 0 , Stride: (1,)\n",
      "b[1,1]:  tensor(4)\n",
      "Size:  torch.Size([2, 2]) , Offset: 4 , Stride: (3, 1)\n"
     ]
    }
   ],
   "source": [
    "# I. 1)\n",
    "\n",
    "a=torch.tensor(list(range(9)))\n",
    "print('Size: ', a.size(), ', Offset:', a.storage_offset(), ', Stride:', a.stride())\n",
    "\n",
    "b = a.view(3,3)\n",
    "print('b[1,1]: ', b[1,1])\n",
    "\n",
    "c = b[1:, 1:]\n",
    "print('Size: ', c.size(), ', Offset:', c.storage_offset(), ', Stride:', c.stride())"
   ]
  },
  {
   "cell_type": "code",
   "execution_count": 7,
   "metadata": {},
   "outputs": [
    {
     "name": "stdout",
     "output_type": "stream",
     "text": [
      "tensor([2., 2., 2.])\n"
     ]
    }
   ],
   "source": [
    "# I. 2)\n",
    "\n",
    "adding1 = torch.ones(3)\n",
    "adding2 = torch.ones(3)\n",
    "adding1.add_(adding2)\n",
    "print(adding1)"
   ]
  },
  {
   "cell_type": "code",
   "execution_count": 8,
   "metadata": {},
   "outputs": [
    {
     "name": "stdout",
     "output_type": "stream",
     "text": [
      "torch.Size([1, 2, 2])\n"
     ]
    }
   ],
   "source": [
    "# II. 1)\n",
    "\n",
    "a = torch.ones([2, 2])\n",
    "a.unsqueeze_(0)\n",
    "print(a.size())"
   ]
  },
  {
   "cell_type": "code",
   "execution_count": 9,
   "metadata": {},
   "outputs": [
    {
     "name": "stdout",
     "output_type": "stream",
     "text": [
      "torch.Size([2, 2])\n"
     ]
    }
   ],
   "source": [
    "# II. 2)\n",
    "\n",
    "a.resize_((2, 2))\n",
    "print(a.size())"
   ]
  },
  {
   "cell_type": "code",
   "execution_count": 10,
   "metadata": {},
   "outputs": [
    {
     "name": "stdout",
     "output_type": "stream",
     "text": [
      "tensor([[6, 4, 4],\n",
      "        [4, 3, 3],\n",
      "        [5, 3, 4],\n",
      "        [4, 6, 3],\n",
      "        [3, 4, 5]])\n"
     ]
    }
   ],
   "source": [
    "# II. 3)\n",
    "\n",
    "a = torch.randint(size = [5, 3], low = 3, high = 7)\n",
    "print(a)"
   ]
  },
  {
   "cell_type": "code",
   "execution_count": 11,
   "metadata": {},
   "outputs": [
    {
     "name": "stdout",
     "output_type": "stream",
     "text": [
      "tensor([ 0.0019,  0.6937, -0.2154,  0.3806])\n"
     ]
    }
   ],
   "source": [
    "# II. 4)\n",
    "\n",
    "a = torch.normal(torch.zeros(4), torch.ones(4))\n",
    "print(a)"
   ]
  },
  {
   "cell_type": "code",
   "execution_count": 12,
   "metadata": {},
   "outputs": [
    {
     "name": "stdout",
     "output_type": "stream",
     "text": [
      "tensor([3])\n"
     ]
    }
   ],
   "source": [
    "# II. 5)\n",
    "\n",
    "a = torch.Tensor([1, 1, 1, 0, 1])\n",
    "print((a == 0).nonzero()[0])"
   ]
  },
  {
   "cell_type": "code",
   "execution_count": 13,
   "metadata": {},
   "outputs": [
    {
     "name": "stdout",
     "output_type": "stream",
     "text": [
      "torch.Size([4, 3, 1])\n"
     ]
    }
   ],
   "source": [
    "# II. 6) \n",
    "\n",
    "a = torch.rand(3, 1)\n",
    "b = torch.stack([a, a, a, a])\n",
    "print(b.size())"
   ]
  },
  {
   "cell_type": "code",
   "execution_count": 14,
   "metadata": {},
   "outputs": [
    {
     "name": "stdout",
     "output_type": "stream",
     "text": [
      "tensor([[[-0.7631, -1.2862, -1.1986, -1.0229],\n",
      "         [-0.2698, -0.1232, -0.6909, -0.4256],\n",
      "         [-0.3265, -0.5650, -0.8183, -0.7366],\n",
      "         [ 1.2105,  2.2873,  2.2266,  2.5940]],\n",
      "\n",
      "        [[-2.3427, -1.1252, -1.9452, -0.7428],\n",
      "         [ 0.3229, -0.1487,  0.5748, -0.5402],\n",
      "         [-3.7081, -3.9644, -5.3413, -3.6767],\n",
      "         [ 1.4282,  0.2134, -0.8836, -0.5565]],\n",
      "\n",
      "        [[ 0.7691, -0.8583,  1.1192,  0.2433],\n",
      "         [-1.6085, -0.5282, -0.0789, -0.4491],\n",
      "         [ 0.2020,  0.1456, -0.1571,  0.1543],\n",
      "         [-1.2043,  0.5143, -0.3429, -0.2135]]])\n"
     ]
    }
   ],
   "source": [
    "# II. 7)\n",
    "\n",
    "a = torch.randn(3, 4, 5) \n",
    "b = torch.rand( 3, 5, 4)\n",
    "product = torch.bmm(a, b)\n",
    "print(product)"
   ]
  },
  {
   "cell_type": "code",
   "execution_count": 15,
   "metadata": {},
   "outputs": [
    {
     "name": "stdout",
     "output_type": "stream",
     "text": [
      "tensor([[[1.3894, 1.0237, 1.4958, 1.4173],\n",
      "         [1.4071, 0.9219, 1.2044, 1.1518],\n",
      "         [1.6434, 0.8496, 1.5656, 1.5299],\n",
      "         [1.1851, 1.2674, 1.4628, 1.3232]],\n",
      "\n",
      "        [[0.5535, 0.5124, 0.6244, 0.5728],\n",
      "         [0.9423, 0.7181, 1.3393, 1.2692],\n",
      "         [1.3950, 1.1789, 1.7150, 1.6110],\n",
      "         [2.1346, 1.7244, 2.4363, 2.2840]],\n",
      "\n",
      "        [[0.9444, 1.2560, 1.7472, 1.5768],\n",
      "         [1.5777, 1.0359, 1.7839, 1.7155],\n",
      "         [0.6217, 0.9644, 0.8552, 0.7356],\n",
      "         [1.6186, 1.0539, 1.2581, 1.1998]]])\n"
     ]
    }
   ],
   "source": [
    "# II. 8)\n",
    "\n",
    "a = torch.rand(3, 4, 5)\n",
    "b = torch.rand(5, 4)\n",
    "product = torch.bmm(a, b.expand(3, 5, 4))\n",
    "print(product)"
   ]
  }
 ],
 "metadata": {
  "kernelspec": {
   "display_name": "Python 3",
   "language": "python",
   "name": "python3"
  },
  "language_info": {
   "codemirror_mode": {
    "name": "ipython",
    "version": 3
   },
   "file_extension": ".py",
   "mimetype": "text/x-python",
   "name": "python",
   "nbconvert_exporter": "python",
   "pygments_lexer": "ipython3",
   "version": "3.7.2"
  }
 },
 "nbformat": 4,
 "nbformat_minor": 2
}
